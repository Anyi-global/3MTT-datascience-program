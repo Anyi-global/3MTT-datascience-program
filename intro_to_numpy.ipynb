{
 "cells": [
  {
   "cell_type": "markdown",
   "id": "31b69e7e-82c0-4d82-bbb6-916453737af7",
   "metadata": {},
   "source": [
    "## Introduction to Numpy"
   ]
  },
  {
   "cell_type": "markdown",
   "id": "4fbf763f-2d23-44d2-812c-121a74335e1d",
   "metadata": {},
   "source": [
    "### NumPy stands for Numerical Python.\n",
    "\n",
    "It was released as an open source project in 2005 with the goal of bringing scientific computing to python. It was based on two earlier packages - Numeric and Numarray. Numpy leverages BLAS - Basic Linear Algebra Subprogram and LAPACK - Linear Algebra PACKage. It uses these to supercharge its linear algebra capabilities.\n",
    "\n",
    "Numpy is a python library focused  on numbers and excels in numerical analysis, linear algebra and simulation. Below are some of the uses of numpy.\n",
    "\n",
    "![Numpy](https://drive.google.com/uc?export=view&id=1L-oiDmd6HTB6FlyVPFRKsedDb3LOiPyA)\n",
    "\n",
    "\n",
    "However when it comes to data analysis and manipulation working with a wide range of data sources, that's where pandas steps in.\n",
    "\n",
    "### Characteristics of Numpy\n",
    "- Numpy arrays have a fixed size at creation, unlike python lists that can grow dynamically. Changing the size of an ndarray will create a new array and delete the original.\n",
    "\n",
    "\n",
    "- The elements in a numpy array are required to be of a homogenous datatype, hence they will be the same size in memory. Albeit, one can have arrays of objects thereby allowing for arrays of different sized elements.\n",
    "\n",
    "\n",
    "- It supports an object-oriented approach\n",
    "\n",
    "\n",
    "- Numpy is fast due to vectorization and broadcasting capabilities.\n",
    "\n",
    "**Vectorization** describes the absence of explicit looping and indexing. It is more concise and easier to read because they are fewer lines of codes and generally fewer bugs. The code more closely resemebles standard mathematical notation\n",
    "\n",
    "**Broadcasting** describes the implicit element-by-element behaviour of operations. All numpy operations broadcast."
   ]
  },
  {
   "cell_type": "code",
   "execution_count": 1,
   "id": "e05bb34b-6b1f-4aeb-b128-1139217a17a0",
   "metadata": {},
   "outputs": [],
   "source": [
    "#installing numpy\n",
    "\n",
    "#!pip install numpy"
   ]
  },
  {
   "cell_type": "markdown",
   "id": "e99b3675-febd-4878-8f45-6969ed7eb7b1",
   "metadata": {},
   "source": [
    "#### Why `!pip install numpy` Works in Jupyter Notebooks\n",
    "\n",
    "When you write `!pip install numpy`:\n",
    "\n",
    "- The ! tells Jupyter to execute the command in the shell instead of trying to interpret it as Python code.\n",
    "- This is why `!pip install numpy` works as expected and installs the numpy package.\n",
    "\n",
    "Without the !, Jupyter would treat pip install numpy as invalid Python code, since pip install is not a Python command but a shell command."
   ]
  },
  {
   "cell_type": "code",
   "execution_count": 2,
   "id": "c03f3050-9dd5-45be-875a-aa851f7323a7",
   "metadata": {},
   "outputs": [
    {
     "name": "stdout",
     "output_type": "stream",
     "text": [
      "<class 'list'>\n",
      "List:  [1, 2, 3, 4, 5, 6, 7, 8, 9]\n"
     ]
    }
   ],
   "source": [
    "lst = [1,2,3,4,5,6,7,8,9]\n",
    "print(type(lst))\n",
    "print('List: ', lst)"
   ]
  },
  {
   "cell_type": "markdown",
   "id": "73045d36-8f3f-4bdc-af3c-d10acbc8487c",
   "metadata": {},
   "source": [
    "### Creating a numpy array"
   ]
  },
  {
   "cell_type": "code",
   "execution_count": 3,
   "id": "a5578a5d-b189-49ba-8e50-ddf8752e1dcc",
   "metadata": {},
   "outputs": [],
   "source": [
    "import numpy as np"
   ]
  },
  {
   "cell_type": "code",
   "execution_count": 4,
   "id": "8f1232a6-8c32-44b5-b619-52b3c92e739d",
   "metadata": {},
   "outputs": [
    {
     "name": "stdout",
     "output_type": "stream",
     "text": [
      "<class 'numpy.ndarray'>\n",
      "Numpy array:  [1 2 3 4 5 6 7 8 9]\n"
     ]
    }
   ],
   "source": [
    "my_array = np.array(lst)\n",
    "print(type(my_array))\n",
    "print('Numpy array: ', my_array)"
   ]
  },
  {
   "cell_type": "code",
   "execution_count": 13,
   "id": "45114c06-7d89-4449-a765-f42372901a52",
   "metadata": {},
   "outputs": [
    {
     "data": {
      "text/plain": [
       "array([[1, 2],\n",
       "       [3, 4]])"
      ]
     },
     "execution_count": 13,
     "metadata": {},
     "output_type": "execute_result"
    }
   ],
   "source": [
    "# Creating an array from sub-classes\n",
    "\n",
    "arr = np.array(np.asmatrix('1 2; 3 4'))\n",
    "arr"
   ]
  },
  {
   "cell_type": "markdown",
   "id": "b9658cca-ea3d-4db9-bbd8-d1cb68be7456",
   "metadata": {},
   "source": [
    "## Creating a simple numpy using np.arange\n",
    "\n",
    "It creates arrays of evenly spaced values within a specific range."
   ]
  },
  {
   "cell_type": "code",
   "execution_count": 5,
   "id": "6af29bba-5631-413a-8f3e-abe4cab0d88a",
   "metadata": {},
   "outputs": [
    {
     "name": "stdout",
     "output_type": "stream",
     "text": [
      "<class 'numpy.ndarray'>\n",
      "[ 0  1  2  3  4  5  6  7  8  9 10 11 12 13 14 15 16 17 18 19 20 21 22 23\n",
      " 24 25 26 27 28 29]\n"
     ]
    }
   ],
   "source": [
    "arr = np.arange(30)\n",
    "\n",
    "print(type(arr))\n",
    "print(arr)"
   ]
  },
  {
   "cell_type": "markdown",
   "id": "eb065b64-d10c-485d-8e8d-e1c8fd098a80",
   "metadata": {},
   "source": [
    "### Comparing lists and numpy in terms of execution time"
   ]
  },
  {
   "cell_type": "code",
   "execution_count": 6,
   "id": "b67f5be1-3130-4347-ae34-a6019cc2d014",
   "metadata": {},
   "outputs": [
    {
     "name": "stdout",
     "output_type": "stream",
     "text": [
      "CPU times: total: 250 ms\n",
      "Wall time: 819 ms\n"
     ]
    }
   ],
   "source": [
    "%%time\n",
    "\n",
    "#always put the \"%%time\" at the very beginning of the code, before any comments\n",
    "\n",
    "#what we are trying to do is do an element-wise multiplication between two lists\n",
    "\n",
    "#first list that we defined\n",
    "lst = list(range(1000000))\n",
    "\n",
    "#second list defintion and multiplication\n",
    "\n",
    "for i in range(1000000):\n",
    "    lst[i] * lst[i]\n",
    "\n",
    "#Note that \"i\" serves as index here to get the current\n",
    "#index value and then multiply it by itself"
   ]
  },
  {
   "cell_type": "code",
   "execution_count": 7,
   "id": "410d5269-1070-4e0f-9e88-a8a858554370",
   "metadata": {},
   "outputs": [
    {
     "name": "stdout",
     "output_type": "stream",
     "text": [
      "CPU times: total: 0 ns\n",
      "Wall time: 6.49 ms\n"
     ]
    }
   ],
   "source": [
    "%%time\n",
    "\n",
    "arr = np.arange(1000000)\n",
    "\n",
    "arr = arr*arr"
   ]
  },
  {
   "cell_type": "markdown",
   "id": "ba5dae0d-a000-408a-98fc-1329871a8ba7",
   "metadata": {},
   "source": [
    "You can note the difference in the computation time. Wall time means the elapsed real time or running time. It is the actual time taken from the start of a process to its completion measured by a real-world clock."
   ]
  },
  {
   "cell_type": "markdown",
   "id": "095dcf0f-c7e6-4fed-b2d9-8a4625061207",
   "metadata": {},
   "source": [
    "### Numpy Array and it's Attributes"
   ]
  },
  {
   "cell_type": "code",
   "execution_count": 8,
   "id": "e2c48efa-09c4-4c15-b9ea-521b6285ddbf",
   "metadata": {},
   "outputs": [
    {
     "name": "stdout",
     "output_type": "stream",
     "text": [
      "Array: [[1 2 3 4]\n",
      " [5 6 7 8]]\n",
      "\n",
      "Shape:  (2, 4)\n",
      "Datatype:  int64\n",
      "Item size:  8\n",
      "Dimensionality:  2\n"
     ]
    }
   ],
   "source": [
    "import numpy as np\n",
    "\n",
    "arr = np.array([[1,2,3,4], [5,6,7,8]])\n",
    "\n",
    "print(f'Array: {arr}')\n",
    "\n",
    "print()\n",
    "\n",
    "# print shape of the array\n",
    "print('Shape: ', arr.shape)\n",
    "\n",
    "# print the datatype\n",
    "print('Datatype: ', arr.dtype)\n",
    "\n",
    "# print item size in byte of each element\n",
    "print('Item size: ', arr.itemsize)\n",
    "\n",
    "# print the dimensionality of the numpy array\n",
    "print('Dimensionality: ', arr.ndim)"
   ]
  },
  {
   "cell_type": "code",
   "execution_count": 9,
   "id": "17f14bdb-688e-4461-a3c1-0f68ee2374e1",
   "metadata": {},
   "outputs": [
    {
     "data": {
      "text/plain": [
       "array([[1, 2, 3, 4],\n",
       "       [5, 6, 7, 8]])"
      ]
     },
     "execution_count": 9,
     "metadata": {},
     "output_type": "execute_result"
    }
   ],
   "source": [
    "arr"
   ]
  },
  {
   "cell_type": "markdown",
   "id": "01567839-34e4-484e-b06d-ed3661cf44a8",
   "metadata": {},
   "source": [
    "## Functions for creating numpy array"
   ]
  },
  {
   "cell_type": "markdown",
   "id": "fe4a4e34-766a-466b-90e3-d1e0a26b1028",
   "metadata": {},
   "source": [
    "### 1. np.arange()\n",
    "\n",
    "Takes 1 to 3 arguments.\n",
    "\n",
    "We've seen the one argument case above.\n",
    "\n",
    "Notice also that for np.arange(10) it returns 10 integers, starting from 0 to 9."
   ]
  },
  {
   "cell_type": "code",
   "execution_count": 10,
   "id": "53f19cef-300e-41a1-828b-7b473114978d",
   "metadata": {},
   "outputs": [
    {
     "name": "stdout",
     "output_type": "stream",
     "text": [
      "Array:  [ 1  2  3  4  5  6  7  8  9 10]\n",
      "Shape:  (10,)\n"
     ]
    }
   ],
   "source": [
    "#two argument case\n",
    "import numpy as np\n",
    "\n",
    "arr = np.arange(1, 11) # second parameter defines the stop point. It is exclusive as well\n",
    "\n",
    "print('Array: ', arr)\n",
    "print('Shape: ', arr.shape)"
   ]
  },
  {
   "cell_type": "code",
   "execution_count": 11,
   "id": "535d04d1-3091-4fe3-b63c-b7ff3a14ffde",
   "metadata": {},
   "outputs": [
    {
     "name": "stdout",
     "output_type": "stream",
     "text": [
      "Array:  [ 1  3  5  7  9 11 13 15 17 19 21]\n",
      "Shape: (11,)\n"
     ]
    }
   ],
   "source": [
    "#two argument case\n",
    "\n",
    "import numpy as np\n",
    "arr = np.arange(1,22,2) #third parameter defines the step\n",
    "\n",
    "print('Array: ', arr)\n",
    "print('Shape:',arr.shape)"
   ]
  },
  {
   "cell_type": "markdown",
   "id": "d53ca422-bff1-4c72-8503-d2b5b5de717b",
   "metadata": {},
   "source": [
    "### 2. np.ones()"
   ]
  },
  {
   "cell_type": "code",
   "execution_count": 279,
   "id": "6b3ec75b-81c9-4218-975a-59137676b00b",
   "metadata": {},
   "outputs": [
    {
     "name": "stdout",
     "output_type": "stream",
     "text": [
      "Array: \n",
      " [[1. 1. 1.]\n",
      " [1. 1. 1.]\n",
      " [1. 1. 1.]\n",
      " [1. 1. 1.]\n",
      " [1. 1. 1.]]\n",
      "Shape:  (5, 3)\n",
      "Data type:  float64\n",
      "Item size:  8\n",
      "We have created n dimensional array of ones values|Yes that's true!\n"
     ]
    }
   ],
   "source": [
    "# creating n dimensional array of ones values\n",
    "arr = np.ones((5,3))\n",
    "\n",
    "print('Array: \\n', arr)\n",
    "print('Shape: ', arr.shape, flush=True)\n",
    "print('Data type: ', arr.dtype)\n",
    "print('Item size: ', arr.itemsize)\n",
    "print('We have created n dimensional array of ones values', \"Yes that's true!\", sep='|')"
   ]
  },
  {
   "cell_type": "markdown",
   "id": "5ff3df81-89c1-4db7-8a57-aff5799eee01",
   "metadata": {},
   "source": [
    "### 3. np.zeros()"
   ]
  },
  {
   "cell_type": "code",
   "execution_count": 278,
   "id": "590f9e04-151f-4f24-a2c8-47fa3f55a62b",
   "metadata": {},
   "outputs": [
    {
     "name": "stdout",
     "output_type": "stream",
     "text": [
      "Array: \n",
      " [[0. 0. 0.]\n",
      " [0. 0. 0.]\n",
      " [0. 0. 0.]]\n",
      "Shape:  (3, 3)\n",
      "Data type:  float64\n",
      "Item size:  8\n"
     ]
    }
   ],
   "source": [
    "# creating n dimensional array of zero values\n",
    "arr = np.zeros((3,3))\n",
    "\n",
    "print('Array: \\n', arr)\n",
    "print('Shape: ', arr.shape)\n",
    "print('Data type: ', arr.dtype)\n",
    "print('Item size: ', arr.itemsize)"
   ]
  },
  {
   "cell_type": "markdown",
   "id": "86395017-ba4c-4efd-bf22-3e9c8a4f7864",
   "metadata": {},
   "source": [
    "### 4. np.eye()"
   ]
  },
  {
   "cell_type": "code",
   "execution_count": 26,
   "id": "888de1ac-3f46-4172-ad66-747b33aa2f40",
   "metadata": {},
   "outputs": [
    {
     "name": "stdout",
     "output_type": "stream",
     "text": [
      "Array:  [[1. 0. 0.]\n",
      " [0. 1. 0.]\n",
      " [0. 0. 1.]]\n",
      "Shape:  (3, 3)\n",
      "Data type:  float64\n",
      "Item size:  8\n"
     ]
    }
   ],
   "source": [
    "# creating identity matrix\n",
    "arr = np.eye(3,3)\n",
    "\n",
    "print('Array: ', arr)\n",
    "print('Shape: ', arr.shape)\n",
    "print('Data type: ', arr.dtype)\n",
    "print('Item size: ', arr.itemsize)"
   ]
  },
  {
   "cell_type": "code",
   "execution_count": 27,
   "id": "04bf0a25-5431-4969-b4ca-b19ac566b3ca",
   "metadata": {},
   "outputs": [
    {
     "name": "stdout",
     "output_type": "stream",
     "text": [
      "Array:  [[1. 0. 0. 0. 0.]\n",
      " [0. 1. 0. 0. 0.]\n",
      " [0. 0. 1. 0. 0.]]\n",
      "Shape:  (3, 5)\n",
      "Data type:  float64\n",
      "Item size:  8\n"
     ]
    }
   ],
   "source": [
    "arr = np.eye(3,5)\n",
    "\n",
    "print('Array: ', arr)\n",
    "print('Shape: ', arr.shape)\n",
    "print('Data type: ', arr.dtype)\n",
    "print('Item size: ', arr.itemsize)"
   ]
  },
  {
   "cell_type": "markdown",
   "id": "d1c25eb0-8003-431a-8d88-eacc4cf62a53",
   "metadata": {},
   "source": [
    "### Data Types in Numpy"
   ]
  },
  {
   "cell_type": "markdown",
   "id": "15931b49-638e-43c6-8e7f-90d3f5bad1b4",
   "metadata": {},
   "source": [
    "- i = integer\n",
    "- b = boolean\n",
    "- str = string\n",
    "- f = float\n",
    "- m = timedelta\n",
    "- M = datetime\n",
    "- O = object\n",
    "- u = unsigned integer\n",
    "- c = complex float\n",
    "- U = unicode string\n",
    "- V = fixed chunk of memory of other type (void)"
   ]
  },
  {
   "cell_type": "code",
   "execution_count": 28,
   "id": "f02fb579-f8a9-4ece-b25f-6cbda00c3881",
   "metadata": {},
   "outputs": [
    {
     "name": "stdout",
     "output_type": "stream",
     "text": [
      "Array:  ['1' '3' '5' '7' '9']\n",
      "Data type:  <U1\n"
     ]
    }
   ],
   "source": [
    "# Data type 'str'\n",
    "arr = np.array([1,3,5,7,9], dtype='str')\n",
    "\n",
    "print('Array: ', arr)\n",
    "print('Data type: ', arr.dtype)"
   ]
  },
  {
   "cell_type": "code",
   "execution_count": 29,
   "id": "3b27e9fd-3ec1-44c3-847c-980bf106fd29",
   "metadata": {},
   "outputs": [
    {
     "name": "stdout",
     "output_type": "stream",
     "text": [
      "Array:  [1 3 5 7 9]\n",
      "Data type:  int32\n"
     ]
    }
   ],
   "source": [
    "# Data type 'int'\n",
    "arr = np.array([1,3,5,7,9], dtype='i')\n",
    "\n",
    "print('Array: ', arr)\n",
    "print('Data type: ', arr.dtype)"
   ]
  },
  {
   "cell_type": "code",
   "execution_count": 30,
   "id": "c9eff771-7258-4275-bf10-fa8940817191",
   "metadata": {},
   "outputs": [
    {
     "name": "stdout",
     "output_type": "stream",
     "text": [
      "Array:  [1 3 5 7 9]\n",
      "Data type:  object\n"
     ]
    }
   ],
   "source": [
    "# Data type 'object'\n",
    "arr = np.array([1,3,5,7,9], dtype='O')\n",
    "\n",
    "print('Array: ', arr)\n",
    "print('Data type: ', arr.dtype)"
   ]
  },
  {
   "cell_type": "code",
   "execution_count": 31,
   "id": "efbcf8b6-0f70-4458-aef7-89ab1afda1e6",
   "metadata": {},
   "outputs": [
    {
     "name": "stdout",
     "output_type": "stream",
     "text": [
      "Array:  [1 3 5 7 9]\n",
      "Data type:  timedelta64\n"
     ]
    }
   ],
   "source": [
    "# Data type 'timedelta'\n",
    "arr = np.array([1,3,5,7,9], dtype='m')\n",
    "\n",
    "print('Array: ', arr)\n",
    "print('Data type: ', arr.dtype)"
   ]
  },
  {
   "cell_type": "code",
   "execution_count": 33,
   "id": "b758128c-3bdd-4e08-82b5-9e4792216bf3",
   "metadata": {},
   "outputs": [
    {
     "name": "stdout",
     "output_type": "stream",
     "text": [
      "Array:  [1. 3. 5. 7. 9.]\n",
      "Data type:  float32\n"
     ]
    }
   ],
   "source": [
    "# Data type 'float'\n",
    "arr = np.array([1,3,5,7,9], dtype='f')\n",
    "\n",
    "print('Array: ', arr)\n",
    "print('Data type: ', arr.dtype)"
   ]
  },
  {
   "cell_type": "code",
   "execution_count": 36,
   "id": "2617f636-be34-4fe0-8aaf-e1656293b989",
   "metadata": {},
   "outputs": [
    {
     "name": "stdout",
     "output_type": "stream",
     "text": [
      "Array:  [b'1' b'3' b'5' b'7' b'9']\n",
      "Data type:  |S1\n"
     ]
    }
   ],
   "source": [
    "# Data type 'complex float'\n",
    "arr = np.array([1,3,5,7,9], dtype='c')\n",
    "\n",
    "print('Array: ', arr)\n",
    "print('Data type: ', arr.dtype)"
   ]
  },
  {
   "cell_type": "code",
   "execution_count": 37,
   "id": "03be46cf-e41b-4ed1-898a-6040ba2703a6",
   "metadata": {},
   "outputs": [
    {
     "name": "stdout",
     "output_type": "stream",
     "text": [
      "Array:  ['1' '3' '5' '7' '9']\n",
      "Data type:  <U1\n"
     ]
    }
   ],
   "source": [
    "# Data type 'Unicode string'\n",
    "arr = np.array([1,3,5,7,9], dtype='U')\n",
    "\n",
    "print('Array: ', arr)\n",
    "print('Data type: ', arr.dtype)"
   ]
  },
  {
   "cell_type": "code",
   "execution_count": 38,
   "id": "969e294e-3fd9-4f66-b405-eb6ac37530a6",
   "metadata": {},
   "outputs": [
    {
     "name": "stdout",
     "output_type": "stream",
     "text": [
      "Array:  [1 3 5 7 9]\n",
      "Data type:  int8\n"
     ]
    }
   ],
   "source": [
    "# Data type 'boolean'\n",
    "arr = np.array([1,3,5,7,9], dtype='b')\n",
    "\n",
    "print('Array: ', arr)\n",
    "print('Data type: ', arr.dtype)"
   ]
  },
  {
   "cell_type": "markdown",
   "id": "bf530248-e7e9-4302-8669-22be85bcb863",
   "metadata": {},
   "source": [
    "## Numpy Random numbers\n",
    "\n",
    "1. np.random.rand = generates an array with random numbers that are **uniformly distributed** between 0 and 1\n",
    "\n",
    "\n",
    "2. np.random.randn = generates an array with random numbers that are **normally distributed** with mean  = 0 and stdev = 1\n",
    "\n",
    "\n",
    "3. np.random.randint = generates an array wih random numbers (integers) that are **uniformly distributed** between 0 and a given number\n",
    "\n",
    "\n",
    "4. np.random.uniform = generates an array with random(float) numbers between given numbers."
   ]
  },
  {
   "cell_type": "code",
   "execution_count": 41,
   "id": "bfdaf347-b728-4671-8bec-072aeb446b4b",
   "metadata": {},
   "outputs": [
    {
     "name": "stdout",
     "output_type": "stream",
     "text": [
      "Array:  [0.63844608 0.63014599 0.45708624 0.7101011  0.11611919]\n",
      "CPU times: total: 0 ns\n",
      "Wall time: 55.3 ms\n"
     ]
    }
   ],
   "source": [
    "%%time\n",
    "\n",
    "# prints 5 random numbers generated from a uniform distribution (between 0 and 1)\n",
    "arr = np.random.rand(5)\n",
    "\n",
    "print('Array: ', arr)"
   ]
  },
  {
   "cell_type": "code",
   "execution_count": 42,
   "id": "2761f14f-29af-4ff5-9ed8-1d4e96a1bcfb",
   "metadata": {},
   "outputs": [
    {
     "name": "stdout",
     "output_type": "stream",
     "text": [
      "Array:  [[0.06961958 0.95656652 0.47302907]\n",
      " [0.55781346 0.67178947 0.20095381]\n",
      " [0.46863269 0.63416614 0.93686677]\n",
      " [0.62481294 0.84544864 0.26956353]\n",
      " [0.98763037 0.15735044 0.95136808]]\n",
      "CPU times: total: 0 ns\n",
      "Wall time: 999 µs\n"
     ]
    }
   ],
   "source": [
    "%%time\n",
    "\n",
    "# prints random array numbers with 5 rows, 3 columns, generated from a uniform distribution (between 0 and 1)\n",
    "arr = np.random.rand(5,3)\n",
    "\n",
    "print('Array: ', arr)"
   ]
  },
  {
   "cell_type": "code",
   "execution_count": 43,
   "id": "2f9f92ac-52c8-480e-b129-d9b867a528dd",
   "metadata": {},
   "outputs": [
    {
     "name": "stdout",
     "output_type": "stream",
     "text": [
      "Array:  [-1.05578252 -1.03269187  0.29833901  0.06590327 -1.19803406]\n",
      "CPU times: total: 15.6 ms\n",
      "Wall time: 41.6 ms\n"
     ]
    }
   ],
   "source": [
    "%%time\n",
    "\n",
    "# randomly generates an array from a normal distribution\n",
    "arr = np.random.randn(5)\n",
    "\n",
    "print('Array: ', arr)"
   ]
  },
  {
   "cell_type": "code",
   "execution_count": 44,
   "id": "fa6a0070-19e6-410f-a156-68bce79910c7",
   "metadata": {},
   "outputs": [
    {
     "name": "stdout",
     "output_type": "stream",
     "text": [
      "Array:  [[ 5.00892721  4.81495441 -1.25742362  2.11488244]\n",
      " [ 3.6647073  -1.66644095  1.198783    0.1050486 ]]\n"
     ]
    }
   ],
   "source": [
    "# Two-by-four array of samples from the normal distribution with mean 3 and standard deviation 2.5:\n",
    "\n",
    "arr = 3 + 2.5 * np.random.randn(2, 4)\n",
    "\n",
    "print('Array: ', arr)"
   ]
  },
  {
   "cell_type": "code",
   "execution_count": 45,
   "id": "ee8d7296-7bf3-4fec-ac14-ece2bfa04f56",
   "metadata": {},
   "outputs": [
    {
     "name": "stdout",
     "output_type": "stream",
     "text": [
      "Array:  [[-0.65173926 -1.00272801  0.31318817 -1.81647601 -0.91675043]\n",
      " [-0.19339138  0.44733544  0.87475533  0.37247977 -0.13689342]\n",
      " [ 0.24062196  0.02249276 -0.41301169 -1.32458408 -0.71288266]]\n"
     ]
    }
   ],
   "source": [
    "# randomly generates a 3 by 5 random array of numbers normally distributed\n",
    "arr = np.random.randn(3,5)\n",
    "\n",
    "print('Array: ', arr)"
   ]
  },
  {
   "cell_type": "code",
   "execution_count": 52,
   "id": "e4b17bf3-f39e-4a0c-91aa-935292e818fa",
   "metadata": {},
   "outputs": [
    {
     "name": "stdout",
     "output_type": "stream",
     "text": [
      "7\n"
     ]
    }
   ],
   "source": [
    "# generates one random number between 0 to 9\n",
    "value = np.random.randint(10)\n",
    "\n",
    "print(value)"
   ]
  },
  {
   "cell_type": "code",
   "execution_count": 58,
   "id": "1c8912ec-1b42-4b6d-b42e-b27c42e6d472",
   "metadata": {},
   "outputs": [
    {
     "data": {
      "text/plain": [
       "array([3, 2, 2, 3, 1, 3, 3, 0, 2, 4], dtype=int32)"
      ]
     },
     "execution_count": 58,
     "metadata": {},
     "output_type": "execute_result"
    }
   ],
   "source": [
    "# generates random numbers between 0 and 4 with dimensional array of 1 x 10\n",
    "\n",
    "np.random.randint(5, size=10)"
   ]
  },
  {
   "cell_type": "code",
   "execution_count": 59,
   "id": "ea811d1e-c1d0-4150-9270-5e130946d515",
   "metadata": {},
   "outputs": [
    {
     "data": {
      "text/plain": [
       "array([[2, 0, 4, 2],\n",
       "       [4, 4, 4, 3]], dtype=int32)"
      ]
     },
     "execution_count": 59,
     "metadata": {},
     "output_type": "execute_result"
    }
   ],
   "source": [
    "# Generates a 2 x 4 array of ints between 0 and 4, inclusive:\n",
    "\n",
    "np.random.randint(5, size=(2,4))"
   ]
  },
  {
   "cell_type": "code",
   "execution_count": 65,
   "id": "79617857-eff0-4841-aa38-ace1bf0d63fa",
   "metadata": {},
   "outputs": [
    {
     "data": {
      "text/plain": [
       "6"
      ]
     },
     "execution_count": 65,
     "metadata": {},
     "output_type": "execute_result"
    }
   ],
   "source": [
    "np.random.randint(2, 8)"
   ]
  },
  {
   "cell_type": "code",
   "execution_count": 71,
   "id": "b093d946-f653-40bf-9b39-7c1800bb3c1e",
   "metadata": {},
   "outputs": [
    {
     "data": {
      "text/plain": [
       "array([3, 7, 7], dtype=int32)"
      ]
     },
     "execution_count": 71,
     "metadata": {},
     "output_type": "execute_result"
    }
   ],
   "source": [
    "# Generates a 1 x 3 array with 3 different upper bounds\n",
    "np.random.randint(2, [5,8,10])"
   ]
  },
  {
   "cell_type": "code",
   "execution_count": 78,
   "id": "969af3bf-7c04-4449-9c20-85bd5a7fd6b8",
   "metadata": {},
   "outputs": [
    {
     "data": {
      "text/plain": [
       "array([6, 7, 8], dtype=int32)"
      ]
     },
     "execution_count": 78,
     "metadata": {},
     "output_type": "execute_result"
    }
   ],
   "source": [
    "# Generates a 1 by 3 array with 3 different lower bounds\n",
    "np.random.randint([2,5,7], 10)"
   ]
  },
  {
   "cell_type": "code",
   "execution_count": 79,
   "id": "26c5d4cd-8699-408c-ae41-f57bfc32ca60",
   "metadata": {},
   "outputs": [
    {
     "data": {
      "text/plain": [
       "array([[ 7,  9,  5,  7],\n",
       "       [ 2,  5, 18,  7]], dtype=uint8)"
      ]
     },
     "execution_count": 79,
     "metadata": {},
     "output_type": "execute_result"
    }
   ],
   "source": [
    "# Generate a 2 by 4 array using broadcasting with dtype of uint8\n",
    "np.random.randint([1, 3, 5, 7], [[10], [20]], dtype=np.uint8)"
   ]
  },
  {
   "cell_type": "code",
   "execution_count": 88,
   "id": "93c1adda-4b7f-4a60-8952-e57743927c49",
   "metadata": {},
   "outputs": [
    {
     "data": {
      "text/plain": [
       "array([[ 1,  9,  6,  9],\n",
       "       [ 1,  3, 12,  7]], dtype=uint8)"
      ]
     },
     "execution_count": 88,
     "metadata": {},
     "output_type": "execute_result"
    }
   ],
   "source": [
    "# Generate a 2 by 4 array using broadcasting with dtype of uint8\n",
    "np.random.randint([1, 3, 5, 7], [[10], [20]], dtype=np.uint8)"
   ]
  },
  {
   "cell_type": "code",
   "execution_count": 81,
   "id": "05fd5ed8-3969-4e18-a8d4-6d0fd8ee2054",
   "metadata": {},
   "outputs": [
    {
     "data": {
      "text/plain": [
       "array([[50, 33, 30, 49, 12, 47, 47, 38, 20, 32],\n",
       "       [44, 33, 11, 39, 38, 34, 19, 44, 17, 26],\n",
       "       [35, 12, 35, 23, 24, 30, 25, 23, 46, 47],\n",
       "       [31, 14, 43, 17, 48, 14, 11, 47, 25, 50],\n",
       "       [13, 46, 22, 12, 50, 46, 43, 13, 46, 10]], dtype=int32)"
      ]
     },
     "execution_count": 81,
     "metadata": {},
     "output_type": "execute_result"
    }
   ],
   "source": [
    "# randomly generating a 5 by 10 array containing values in the range of 10 to 50\n",
    "np.random.randint(10, 51, size=(5,10))"
   ]
  },
  {
   "cell_type": "code",
   "execution_count": 84,
   "id": "605fe170-1d2a-4027-ade6-f82b0a714df3",
   "metadata": {},
   "outputs": [
    {
     "name": "stdout",
     "output_type": "stream",
     "text": [
      "8.430605568000571\n"
     ]
    }
   ],
   "source": [
    "# randomly generate one decimal number between 0 to 10\n",
    "value = np.random.uniform(10)\n",
    "\n",
    "print(value)"
   ]
  },
  {
   "cell_type": "code",
   "execution_count": 89,
   "id": "93eae807-3bf2-4870-9bb2-2ca94d0893bd",
   "metadata": {},
   "outputs": [
    {
     "data": {
      "text/plain": [
       "array([[38.73050124, 22.26716554, 37.49265805],\n",
       "       [18.19149713, 49.56110742, 23.73392674]])"
      ]
     },
     "execution_count": 89,
     "metadata": {},
     "output_type": "execute_result"
    }
   ],
   "source": [
    "# generate random uniform decimals from 10 to 50 exclusive with 2 by 3 dimension\n",
    "np.random.uniform(10, 50, size=(2,3))"
   ]
  },
  {
   "cell_type": "markdown",
   "id": "f3d96465-8e64-430d-9c77-d381576c1605",
   "metadata": {},
   "source": [
    "## Numpy array - indexing, slicing and updating\n",
    "\n",
    "Data in numpy arrays is stored sequentially, therefore it is possible to access the data with the help of indexing and slicing operations. It offers more indexing facilities than regular python sequences. Also, it is possible to not only index using integers and slices, arrays can be indexed by arrays of integers and arrays of booleans.\n",
    "\n",
    "In addition, numpy arrays are mutable, that is, data stored in numpy arrays can be changed or updated."
   ]
  },
  {
   "cell_type": "markdown",
   "id": "48a4832e-a9a9-4235-af29-e9abf663b062",
   "metadata": {},
   "source": [
    "### Data Accessing Using Indexing"
   ]
  },
  {
   "cell_type": "code",
   "execution_count": 91,
   "id": "32c4cf90-26ff-4cf3-adcc-45940bcf4ff8",
   "metadata": {},
   "outputs": [
    {
     "name": "stdout",
     "output_type": "stream",
     "text": [
      "Array:  [97 22 14 20 51]\n"
     ]
    }
   ],
   "source": [
    "# randomly generating 1 dimensional array\n",
    "arr = np.random.randint(100, size=(5,))\n",
    "\n",
    "print('Array: ', arr)"
   ]
  },
  {
   "cell_type": "code",
   "execution_count": 92,
   "id": "8151f5a3-252f-4265-ac9f-f5d83c9a69c0",
   "metadata": {},
   "outputs": [
    {
     "name": "stdout",
     "output_type": "stream",
     "text": [
      "14\n",
      "51\n"
     ]
    }
   ],
   "source": [
    "# Accessing values at index 2 and 4\n",
    "print(arr[2])\n",
    "print(arr[4])"
   ]
  },
  {
   "cell_type": "code",
   "execution_count": 93,
   "id": "500c9d78-c739-4ed2-bfc6-c4c80e55aa8c",
   "metadata": {},
   "outputs": [
    {
     "name": "stdout",
     "output_type": "stream",
     "text": [
      "Array: \n",
      " [[32 80 13 49 19 29]\n",
      " [57 76 69 24 85 69]\n",
      " [ 4 66 76 78 80 94]\n",
      " [95 20 64 70 37 44]]\n"
     ]
    }
   ],
   "source": [
    "#randomly generating 2 dimensional array\n",
    "\n",
    "arr = np.random.randint(100, size=(4,6))\n",
    "print('Array: \\n', arr)"
   ]
  },
  {
   "cell_type": "code",
   "execution_count": 94,
   "id": "d280ee4b-9fc3-4f9b-b02d-99d97cc7d9c4",
   "metadata": {},
   "outputs": [
    {
     "name": "stdout",
     "output_type": "stream",
     "text": [
      "[ 4 66 76 78 80 94]\n"
     ]
    }
   ],
   "source": [
    "## accessing the second index\n",
    "# remember that the result above is a list of lists\n",
    "\n",
    "print(arr[2])"
   ]
  },
  {
   "cell_type": "code",
   "execution_count": 95,
   "id": "b728d234-095d-49e0-90cd-8db2e907352a",
   "metadata": {},
   "outputs": [
    {
     "name": "stdout",
     "output_type": "stream",
     "text": [
      "66\n",
      "66\n"
     ]
    }
   ],
   "source": [
    "#to retrieve the second value of the second list (index 2)\n",
    "\n",
    "print(arr[2,1])\n",
    "\n",
    "#OR\n",
    "\n",
    "print(arr[2][1])\n",
    "#this method is useful to access multiple values"
   ]
  },
  {
   "cell_type": "code",
   "execution_count": 96,
   "id": "b6e14be1-7501-41e5-83e7-fd94a9539012",
   "metadata": {},
   "outputs": [
    {
     "name": "stdout",
     "output_type": "stream",
     "text": [
      "[49 80]\n"
     ]
    }
   ],
   "source": [
    "#to retrieves the 4th and 2nd values from the first row\n",
    "\n",
    "#the first list specifies the rows to select from\n",
    "#the second list specifies the columns to select from\n",
    "\n",
    "print(arr[[0,0], [3,1]])"
   ]
  },
  {
   "cell_type": "code",
   "execution_count": 97,
   "id": "15c177b8-8635-4ca9-a2f1-db3e8f9ad209",
   "metadata": {},
   "outputs": [
    {
     "name": "stdout",
     "output_type": "stream",
     "text": [
      "[13 70]\n"
     ]
    }
   ],
   "source": [
    "#to retrieves the third value from the first row\n",
    "#and the 4th value from the 4th row\n",
    "\n",
    "print(arr[[0,3], [2,3]])"
   ]
  },
  {
   "cell_type": "markdown",
   "id": "a41b8923-2f65-4224-945a-3fadb622c25f",
   "metadata": {},
   "source": [
    "### Data Accessing Using Slicing"
   ]
  },
  {
   "cell_type": "code",
   "execution_count": 98,
   "id": "be4381ce-8e06-4c33-a58c-cd2c7c106ce1",
   "metadata": {},
   "outputs": [
    {
     "name": "stdout",
     "output_type": "stream",
     "text": [
      "Array:  [95 26 25 22 82 83 86 73 65 50]\n"
     ]
    }
   ],
   "source": [
    "#randomly generating 1D array\n",
    "\n",
    "import numpy as np\n",
    "\n",
    "arr = np.random.randint(100, size=(10,))\n",
    "print('Array: ', arr)"
   ]
  },
  {
   "cell_type": "code",
   "execution_count": 99,
   "id": "67e48068-6dc4-4bab-869d-032ed4df4750",
   "metadata": {},
   "outputs": [
    {
     "name": "stdout",
     "output_type": "stream",
     "text": [
      "[26 25 22]\n",
      "[95 26 25 22 82 83]\n"
     ]
    }
   ],
   "source": [
    "# accessing the data using slicing\n",
    "\n",
    "print(arr[1:4])\n",
    "print(arr[0:-4])"
   ]
  },
  {
   "cell_type": "code",
   "execution_count": 100,
   "id": "53944e74-8503-425f-9436-bfd0dcc9ddeb",
   "metadata": {},
   "outputs": [
    {
     "name": "stdout",
     "output_type": "stream",
     "text": [
      "[95 25 82 86 65]\n"
     ]
    }
   ],
   "source": [
    "# retrieving data from the beginning to the end, at 2 steps interval\n",
    "print(arr[::2])"
   ]
  },
  {
   "cell_type": "code",
   "execution_count": 101,
   "id": "5a74d882-d237-45b0-a899-0eb82067741b",
   "metadata": {},
   "outputs": [
    {
     "name": "stdout",
     "output_type": "stream",
     "text": [
      "Array: \n",
      " [[1 2 3 4]\n",
      " [5 6 7 8]\n",
      " [9 0 1 2]\n",
      " [3 4 5 6]]\n",
      "Shape:  (4, 4)\n"
     ]
    }
   ],
   "source": [
    "# creating numpy array\n",
    "arr = np.array([[1,2,3,4], [5,6,7,8], [9,0,1,2], [3,4,5,6]])\n",
    "print('Array: \\n', arr)\n",
    "print('Shape: ', arr.shape)"
   ]
  },
  {
   "cell_type": "code",
   "execution_count": 102,
   "id": "52b8df39-ccc5-495f-8e99-693111db3bb0",
   "metadata": {},
   "outputs": [
    {
     "name": "stdout",
     "output_type": "stream",
     "text": [
      "[[3 4]\n",
      " [7 8]]\n"
     ]
    }
   ],
   "source": [
    "# using 2 way accessing\n",
    "print(arr[0:2, 2:4])"
   ]
  },
  {
   "cell_type": "markdown",
   "id": "0ee9d882-a5b8-4a9b-bc32-77d6dea7e762",
   "metadata": {},
   "source": [
    "### Indexing with Boolean Arrays"
   ]
  },
  {
   "cell_type": "code",
   "execution_count": 103,
   "id": "51ab7f52-46c5-46b7-a7aa-e86967beaced",
   "metadata": {},
   "outputs": [
    {
     "name": "stdout",
     "output_type": "stream",
     "text": [
      "Array:  [77 61 80 95 66 52 78 65 36 79]\n"
     ]
    }
   ],
   "source": [
    "# randomly generating one dimensional array\n",
    "arr = np.random.randint(100, size=(10,))\n",
    "\n",
    "print('Array: ', arr)"
   ]
  },
  {
   "cell_type": "code",
   "execution_count": 106,
   "id": "7defe74d-91e0-4676-a921-4bdc25da30d3",
   "metadata": {},
   "outputs": [
    {
     "name": "stdout",
     "output_type": "stream",
     "text": [
      "[77 95 52 78 65 79]\n"
     ]
    }
   ],
   "source": [
    "index = [True, False, False, True, False, True, True, True, False, True]\n",
    "\n",
    "print(arr[index])"
   ]
  },
  {
   "cell_type": "markdown",
   "id": "d2c7ed01-c6b2-44d8-9a8e-e35a8998ddf5",
   "metadata": {},
   "source": [
    "### Updating Data in Numpy Array"
   ]
  },
  {
   "cell_type": "code",
   "execution_count": 110,
   "id": "1040df46-a736-4788-ada8-90c8a67bdfbc",
   "metadata": {},
   "outputs": [
    {
     "name": "stdout",
     "output_type": "stream",
     "text": [
      "Original Array: \n",
      " [[73 32]\n",
      " [18 78]\n",
      " [63 74]\n",
      " [54 44]\n",
      " [47 44]]\n"
     ]
    }
   ],
   "source": [
    "# randomly generate 2 dimensional array\n",
    "arr = np.random.randint(100, size=(5,2))\n",
    "\n",
    "print('Original Array: \\n', arr)"
   ]
  },
  {
   "cell_type": "code",
   "execution_count": 112,
   "id": "4c583605-cd6a-446c-aea5-3129c67705fe",
   "metadata": {},
   "outputs": [
    {
     "name": "stdout",
     "output_type": "stream",
     "text": [
      "Updated Array: \n",
      " [[73 32]\n",
      " [18 20]\n",
      " [63 74]\n",
      " [54 44]\n",
      " [47 44]]\n"
     ]
    }
   ],
   "source": [
    "# Updated Array\n",
    "arr[1,1] = 20\n",
    "\n",
    "print('Updated Array: \\n', arr)"
   ]
  },
  {
   "cell_type": "markdown",
   "id": "a14225fe-afa6-4f71-813a-044b878847f3",
   "metadata": {},
   "source": [
    "### Numpy Flatten and Ravel"
   ]
  },
  {
   "cell_type": "code",
   "execution_count": 113,
   "id": "10601306-a5c6-4ac7-8267-afe287b1bdbc",
   "metadata": {},
   "outputs": [
    {
     "name": "stdout",
     "output_type": "stream",
     "text": [
      "Array: \n",
      " [[23 37 21 15 18 39 26 27 28 15]\n",
      " [23 15 32 17 19 31 15 11 17 39]\n",
      " [24 14 31 37 11 30 28 19 15 35]\n",
      " [26 31 19 12 32 14 10 22 38 37]\n",
      " [27 16 13 37 30 28 21 14 20 22]]\n",
      "Shape:  (5, 10)\n"
     ]
    }
   ],
   "source": [
    "#randomly generating a 5 by 10 array\n",
    "\n",
    "arr = np.random.randint(10, 40, size = (5,10))\n",
    "\n",
    "print('Array: \\n', arr)\n",
    "print('Shape: ', arr.shape)"
   ]
  },
  {
   "cell_type": "code",
   "execution_count": 114,
   "id": "2639d3bb-04af-40bb-8f35-c46aa7628487",
   "metadata": {},
   "outputs": [
    {
     "name": "stdout",
     "output_type": "stream",
     "text": [
      "Flattened Array:  [23 37 21 15 18 39 26 27 28 15 23 15 32 17 19 31 15 11 17 39 24 14 31 37\n",
      " 11 30 28 19 15 35 26 31 19 12 32 14 10 22 38 37 27 16 13 37 30 28 21 14\n",
      " 20 22]\n",
      "Shape:  (50,)\n"
     ]
    }
   ],
   "source": [
    "# let's flatten the array using flatten() method\n",
    "flatten_arr = arr.flatten()\n",
    "\n",
    "print('Flattened Array: ', flatten_arr)\n",
    "print('Shape: ', flatten_arr.shape)"
   ]
  },
  {
   "cell_type": "code",
   "execution_count": 124,
   "id": "a2e29acb-9dc5-44cf-9086-106da62730a7",
   "metadata": {},
   "outputs": [
    {
     "name": "stdout",
     "output_type": "stream",
     "text": [
      "Flatten in Column-major: \n",
      " [59 56 81 58 54 52 52 89 65 69 65 63 74 69 53 53 71 84 62 71 68 87 82 62\n",
      " 82 81 60 70 79 80 52 65 60 85 84 89 88 61 79 86 68 66 66 63 66 67 74 82\n",
      " 79 72]\n"
     ]
    }
   ],
   "source": [
    "flatten_arr = arr.flatten('F')\n",
    "\n",
    "print('Flatten in Column-major: \\n', flatten_arr)"
   ]
  },
  {
   "cell_type": "code",
   "execution_count": 115,
   "id": "ea810cfe-0d58-4f7a-9ba5-da3d445af235",
   "metadata": {},
   "outputs": [
    {
     "name": "stdout",
     "output_type": "stream",
     "text": [
      "Raveled Array:  [23 37 21 15 18 39 26 27 28 15 23 15 32 17 19 31 15 11 17 39 24 14 31 37\n",
      " 11 30 28 19 15 35 26 31 19 12 32 14 10 22 38 37 27 16 13 37 30 28 21 14\n",
      " 20 22]\n",
      "Shape:  (50,)\n"
     ]
    }
   ],
   "source": [
    "# let's ravel the array using ravel() method\n",
    "ravel_arr = arr.ravel()\n",
    "\n",
    "print('Raveled Array: ', ravel_arr)\n",
    "print('Shape: ', ravel_arr.shape)"
   ]
  },
  {
   "cell_type": "markdown",
   "id": "07b17e74-4901-4a90-be62-3aa90fc17fa4",
   "metadata": {},
   "source": [
    "Both functions perform the same action. But what's the difference? Let's see..."
   ]
  },
  {
   "cell_type": "code",
   "execution_count": 116,
   "id": "252e466e-1449-4670-bee7-77cf2ec7980c",
   "metadata": {},
   "outputs": [
    {
     "name": "stdout",
     "output_type": "stream",
     "text": [
      "Original array: \n",
      " [[23 37 21 15 18 39 26 27 28 15]\n",
      " [23 15 32 17 19 31 15 11 17 39]\n",
      " [24 14 31 37 11 30 28 19 15 35]\n",
      " [26 31 19 12 32 14 10 22 38 37]\n",
      " [27 16 13 37 30 28 21 14 20 22]]\n",
      "Updated array: \n",
      " [[23 37 21 15 18 39 26 27 28 15]\n",
      " [23 78 32 17 19 31 15 11 17 39]\n",
      " [24 14 31 37 11 30 28 19 15 35]\n",
      " [26 31 19 12 32 14 10 22 38 37]\n",
      " [27 16 13 37 30 28 21 14 20 22]]\n"
     ]
    }
   ],
   "source": [
    "# updating value in the array\n",
    "print('Original array: \\n', arr)\n",
    "\n",
    "arr[1,1] = 78\n",
    "\n",
    "print('Updated array: \\n', arr)"
   ]
  },
  {
   "cell_type": "code",
   "execution_count": 117,
   "id": "566e391f-73d8-4f0f-92ef-85b3b1e606e7",
   "metadata": {},
   "outputs": [
    {
     "data": {
      "text/plain": [
       "array([23, 37, 21, 15, 18, 39, 26, 27, 28, 15, 23, 15, 32, 17, 19, 31, 15,\n",
       "       11, 17, 39, 24, 14, 31, 37, 11, 30, 28, 19, 15, 35, 26, 31, 19, 12,\n",
       "       32, 14, 10, 22, 38, 37, 27, 16, 13, 37, 30, 28, 21, 14, 20, 22],\n",
       "      dtype=int32)"
      ]
     },
     "execution_count": 117,
     "metadata": {},
     "output_type": "execute_result"
    }
   ],
   "source": [
    "flatten_arr"
   ]
  },
  {
   "cell_type": "markdown",
   "id": "7b6fb395-e375-4301-9c22-c9186e68a091",
   "metadata": {},
   "source": [
    "The difference between the two are as follows:\n",
    "\n",
    "- Flatten creates a copy of the original array with a flatteneed layout. Any modifications made to the flattened array won't affect the original. Also, because it creates a new copy, it consumes more memory.\n",
    "\n",
    "- Ravel returns a view of the original array. It is more memory efficient since it leverages a view when possible. Any changes made to the flattened array will also modify the original array since they point to the same data."
   ]
  },
  {
   "cell_type": "markdown",
   "id": "07e9f64c-71b9-401e-a255-1eeac08e89ac",
   "metadata": {},
   "source": [
    "### Numpy Reshape"
   ]
  },
  {
   "cell_type": "code",
   "execution_count": 277,
   "id": "2cfdfff0-104a-447a-bfab-db6a8c17f6aa",
   "metadata": {},
   "outputs": [
    {
     "name": "stdout",
     "output_type": "stream",
     "text": [
      "Array: \n",
      " [[84 54 85 61 64 78 78 55 77 64]\n",
      " [85 64 69 80 65 72 87 63 69 81]\n",
      " [53 66 82 76 54 55 51 69 86 56]\n",
      " [71 68 51 71 57 65 73 72 68 88]\n",
      " [74 80 67 53 77 70 75 69 82 85]]\n",
      "Shape:  (5, 10)\n"
     ]
    }
   ],
   "source": [
    "#randomly generating a 5 by 10 array\n",
    "\n",
    "arr = np.random.randint(50, 90, size=(5,10))\n",
    "\n",
    "print('Array: \\n', arr)\n",
    "print('Shape: ', arr.shape)"
   ]
  },
  {
   "cell_type": "code",
   "execution_count": 135,
   "id": "784ac8c1-71bf-4865-a2d2-7de3ac58a223",
   "metadata": {},
   "outputs": [
    {
     "data": {
      "text/plain": [
       "array([59, 52, 65, 53, 68, 81, 52, 89, 68, 67, 56, 52, 63, 71, 87, 60, 65,\n",
       "       88, 66, 74, 81, 89, 74, 84, 82, 70, 60, 61, 66, 82, 58, 65, 69, 62,\n",
       "       62, 79, 85, 79, 63, 79, 54, 69, 53, 71, 82, 80, 84, 86, 66, 72],\n",
       "      dtype=int32)"
      ]
     },
     "execution_count": 135,
     "metadata": {},
     "output_type": "execute_result"
    }
   ],
   "source": [
    "np.ravel(arr)"
   ]
  },
  {
   "cell_type": "code",
   "execution_count": 119,
   "id": "f8372331-6c9f-4492-afff-d667777a1398",
   "metadata": {},
   "outputs": [
    {
     "name": "stdout",
     "output_type": "stream",
     "text": [
      "[[59 52 65 53 68]\n",
      " [81 52 89 68 67]\n",
      " [56 52 63 71 87]\n",
      " [60 65 88 66 74]\n",
      " [81 89 74 84 82]\n",
      " [70 60 61 66 82]\n",
      " [58 65 69 62 62]\n",
      " [79 85 79 63 79]\n",
      " [54 69 53 71 82]\n",
      " [80 84 86 66 72]]\n"
     ]
    }
   ],
   "source": [
    "# reshaping the array\n",
    "arr_reshaped = arr.reshape(10,5)\n",
    "print(arr_reshaped)"
   ]
  },
  {
   "cell_type": "code",
   "execution_count": 122,
   "id": "fae2b164-3fa7-4eca-bf18-72242b6c5bd1",
   "metadata": {},
   "outputs": [
    {
     "name": "stdout",
     "output_type": "stream",
     "text": [
      "[[59 52 65 53 68 81 52 89 68 67 56 52 63 71 87 60 65 88 66 74 81 89 74 84\n",
      "  82]\n",
      " [70 60 61 66 82 58 65 69 62 62 79 85 79 63 79 54 69 53 71 82 80 84 86 66\n",
      "  72]]\n"
     ]
    }
   ],
   "source": [
    "arr_reshaped = arr.reshape(2,25)\n",
    "print(arr_reshaped)"
   ]
  },
  {
   "cell_type": "code",
   "execution_count": 125,
   "id": "9ddb07b7-9510-45c3-a295-1d1c440c656b",
   "metadata": {},
   "outputs": [
    {
     "ename": "ValueError",
     "evalue": "cannot reshape array of size 50 into shape (3,6)",
     "output_type": "error",
     "traceback": [
      "\u001b[1;31m---------------------------------------------------------------------------\u001b[0m",
      "\u001b[1;31mValueError\u001b[0m                                Traceback (most recent call last)",
      "Cell \u001b[1;32mIn[125], line 1\u001b[0m\n\u001b[1;32m----> 1\u001b[0m arr_reshaped \u001b[38;5;241m=\u001b[39m \u001b[43marr\u001b[49m\u001b[38;5;241;43m.\u001b[39;49m\u001b[43mreshape\u001b[49m\u001b[43m(\u001b[49m\u001b[38;5;241;43m3\u001b[39;49m\u001b[43m,\u001b[49m\u001b[38;5;241;43m6\u001b[39;49m\u001b[43m)\u001b[49m\n\u001b[0;32m      2\u001b[0m \u001b[38;5;28mprint\u001b[39m(arr_reshaped)\n",
      "\u001b[1;31mValueError\u001b[0m: cannot reshape array of size 50 into shape (3,6)"
     ]
    }
   ],
   "source": [
    "arr_reshaped = arr.reshape(3,6)\n",
    "print(arr_reshaped)"
   ]
  },
  {
   "cell_type": "markdown",
   "id": "155f4174-8759-4560-92df-da43dfec45a2",
   "metadata": {},
   "source": [
    "We have a ValueError. **Why did this Error Occur?**\n",
    "\n",
    "The reshape function requires that the total number of elements in the new shape matches the number of elements in the original array. Here’s a breakdown:\n",
    "\n",
    "- The array you are trying to reshape has 50 elements.\n",
    "- The target shape (3, 6) would require 3 × 6 = 18 elements.\n",
    "- Since 50 and 18 do not match, the reshape operation cannot be completed, resulting in this ValueError."
   ]
  },
  {
   "cell_type": "markdown",
   "id": "df91ef12-19b0-4400-9447-e1f6c68e51f5",
   "metadata": {},
   "source": [
    "### Iterating Over Numpy Arrays"
   ]
  },
  {
   "cell_type": "code",
   "execution_count": null,
   "id": "c53046cd-58ea-4c13-8828-a424935c2659",
   "metadata": {},
   "outputs": [],
   "source": []
  },
  {
   "cell_type": "code",
   "execution_count": 126,
   "id": "d15fb0f4-09e2-43cb-934b-4d7c82472bee",
   "metadata": {},
   "outputs": [
    {
     "name": "stdout",
     "output_type": "stream",
     "text": [
      "Array: \n",
      " [[59 52 65 53 68 81 52 89 68 67]\n",
      " [56 52 63 71 87 60 65 88 66 74]\n",
      " [81 89 74 84 82 70 60 61 66 82]\n",
      " [58 65 69 62 62 79 85 79 63 79]\n",
      " [54 69 53 71 82 80 84 86 66 72]]\n",
      "Shape:  (5, 10)\n"
     ]
    }
   ],
   "source": [
    "# generating random one dimensional array\n",
    "arr1 = np.random.randint(10, 49, size=(10,))\n",
    "\n",
    "print('Array: \\n', arr)\n",
    "print('Shape: ', arr.shape)"
   ]
  },
  {
   "cell_type": "code",
   "execution_count": 129,
   "id": "acd5046f-49ae-44ad-b76c-e0889ffda2e7",
   "metadata": {},
   "outputs": [
    {
     "data": {
      "text/plain": [
       "array([22, 45, 33, 17, 36, 35, 45, 20, 13, 48], dtype=int32)"
      ]
     },
     "execution_count": 129,
     "metadata": {},
     "output_type": "execute_result"
    }
   ],
   "source": [
    "arr1"
   ]
  },
  {
   "cell_type": "code",
   "execution_count": 130,
   "id": "acb6efa6-5e1b-407a-808b-cfc3e6f95b0b",
   "metadata": {},
   "outputs": [
    {
     "name": "stdout",
     "output_type": "stream",
     "text": [
      "22\n",
      "45\n",
      "33\n",
      "17\n",
      "36\n",
      "35\n",
      "45\n",
      "20\n",
      "13\n",
      "48\n"
     ]
    }
   ],
   "source": [
    "# looping over items in the array\n",
    "for i in arr1:\n",
    "    print(i, sep=',')"
   ]
  },
  {
   "cell_type": "code",
   "execution_count": 132,
   "id": "335d0b80-7dc0-4ffd-907a-8d767b3ab33a",
   "metadata": {},
   "outputs": [
    {
     "name": "stdout",
     "output_type": "stream",
     "text": [
      "22 45 33 17 36 35 45 20 13 48 "
     ]
    }
   ],
   "source": [
    "# redoing the above\n",
    "for i in arr1:\n",
    "    print(i, end=' ')"
   ]
  },
  {
   "cell_type": "markdown",
   "id": "355824e4-8608-4049-91d4-727d7d057027",
   "metadata": {},
   "source": [
    "### Iterating Over a 2 Dimensional Array"
   ]
  },
  {
   "cell_type": "code",
   "execution_count": 133,
   "id": "7456ec9c-6c42-4de8-8fc6-b5e6cafdbb89",
   "metadata": {},
   "outputs": [
    {
     "name": "stdout",
     "output_type": "stream",
     "text": [
      "Array: \n",
      " [[59 52 65 53 68 81 52 89 68 67]\n",
      " [56 52 63 71 87 60 65 88 66 74]\n",
      " [81 89 74 84 82 70 60 61 66 82]\n",
      " [58 65 69 62 62 79 85 79 63 79]\n",
      " [54 69 53 71 82 80 84 86 66 72]]\n",
      "Shape:  (5, 10)\n"
     ]
    }
   ],
   "source": [
    "#randomly generating a 5 by 10 array\n",
    "\n",
    "arr2 = np.random.randint(50, 90, size = (5,10))\n",
    "\n",
    "print('Array: \\n', arr)\n",
    "print('Shape: ', arr.shape)"
   ]
  },
  {
   "cell_type": "code",
   "execution_count": 136,
   "id": "ede89b6c-94cb-4e8e-9220-72da59b52abd",
   "metadata": {},
   "outputs": [
    {
     "name": "stdout",
     "output_type": "stream",
     "text": [
      "[64 60 72 85 78 63 79 69 75 56]\n",
      "[88 74 52 53 55 68 76 51 73 55]\n",
      "[87 61 66 74 61 80 64 80 80 67]\n",
      "[57 71 68 84 61 77 71 89 70 50]\n",
      "[72 56 73 65 85 70 74 62 50 69]\n"
     ]
    }
   ],
   "source": [
    "# looping over rows in the 2D array\n",
    "for row in arr2:\n",
    "    print(row)"
   ]
  },
  {
   "cell_type": "code",
   "execution_count": 137,
   "id": "1dab4e11-a5a1-49f0-b17f-63f1baf79957",
   "metadata": {},
   "outputs": [
    {
     "data": {
      "text/plain": [
       "array([[64, 60, 72, 85, 78, 63, 79, 69, 75, 56],\n",
       "       [88, 74, 52, 53, 55, 68, 76, 51, 73, 55],\n",
       "       [87, 61, 66, 74, 61, 80, 64, 80, 80, 67],\n",
       "       [57, 71, 68, 84, 61, 77, 71, 89, 70, 50],\n",
       "       [72, 56, 73, 65, 85, 70, 74, 62, 50, 69]], dtype=int32)"
      ]
     },
     "execution_count": 137,
     "metadata": {},
     "output_type": "execute_result"
    }
   ],
   "source": [
    "arr2"
   ]
  },
  {
   "cell_type": "code",
   "execution_count": 138,
   "id": "a88b5896-8875-45be-9397-b19e1fffd9b9",
   "metadata": {},
   "outputs": [
    {
     "name": "stdout",
     "output_type": "stream",
     "text": [
      "64 60 72 85 78 63 79 69 75 56 88 74 52 53 55 68 76 51 73 55 87 61 66 74 61 80 64 80 80 67 57 71 68 84 61 77 71 89 70 50 72 56 73 65 85 70 74 62 50 69 "
     ]
    }
   ],
   "source": [
    "# looping through each item in the arr2 array\n",
    "for item in arr2.ravel():\n",
    "    print(item, end=' ')"
   ]
  },
  {
   "cell_type": "markdown",
   "id": "a7649f42-6275-490c-80d8-d745f4325c17",
   "metadata": {},
   "source": [
    "### Iterating using np.nditer()"
   ]
  },
  {
   "cell_type": "code",
   "execution_count": 139,
   "id": "94ee647f-818f-4954-b054-92850a9f97f2",
   "metadata": {},
   "outputs": [
    {
     "name": "stdout",
     "output_type": "stream",
     "text": [
      "22 45 33 17 36 35 45 20 13 48 "
     ]
    }
   ],
   "source": [
    "# using nditer() for the one dimensional array\n",
    "for item in np.nditer(arr1):\n",
    "    print(item, end=' ')"
   ]
  },
  {
   "cell_type": "code",
   "execution_count": 140,
   "id": "47aebca9-f639-4a49-b659-13f6a3ecb8a7",
   "metadata": {},
   "outputs": [
    {
     "name": "stdout",
     "output_type": "stream",
     "text": [
      "64 60 72 85 78 63 79 69 75 56 88 74 52 53 55 68 76 51 73 55 87 61 66 74 61 80 64 80 80 67 57 71 68 84 61 77 71 89 70 50 72 56 73 65 85 70 74 62 50 69 "
     ]
    }
   ],
   "source": [
    "# using nditer() for the 2D array\n",
    "for item in np.nditer(arr2):\n",
    "    print(item, end=' ')"
   ]
  },
  {
   "cell_type": "code",
   "execution_count": 141,
   "id": "f84578ce-91e6-4ccc-bd76-95fdf6135347",
   "metadata": {},
   "outputs": [
    {
     "name": "stdout",
     "output_type": "stream",
     "text": [
      "Original Array:  [22 45 33 17 36 35 45 20 13 48]\n"
     ]
    },
    {
     "ename": "ValueError",
     "evalue": "assignment destination is read-only",
     "output_type": "error",
     "traceback": [
      "\u001b[1;31m---------------------------------------------------------------------------\u001b[0m",
      "\u001b[1;31mValueError\u001b[0m                                Traceback (most recent call last)",
      "Cell \u001b[1;32mIn[141], line 6\u001b[0m\n\u001b[0;32m      4\u001b[0m \u001b[38;5;28;01mfor\u001b[39;00m item \u001b[38;5;129;01min\u001b[39;00m np\u001b[38;5;241m.\u001b[39mnditer(arr1):\n\u001b[0;32m      5\u001b[0m     \u001b[38;5;28;01mif\u001b[39;00m item \u001b[38;5;241m>\u001b[39m \u001b[38;5;241m20\u001b[39m:\n\u001b[1;32m----> 6\u001b[0m         \u001b[43mitem\u001b[49m\u001b[43m[\u001b[49m\u001b[38;5;241;43m.\u001b[39;49m\u001b[38;5;241;43m.\u001b[39;49m\u001b[38;5;241;43m.\u001b[39;49m\u001b[43m]\u001b[49m \u001b[38;5;241m=\u001b[39m (item\u001b[38;5;241m*\u001b[39m\u001b[38;5;241m0\u001b[39m)\n\u001b[0;32m      7\u001b[0m     \u001b[38;5;28mprint\u001b[39m(\u001b[38;5;124m'\u001b[39m\u001b[38;5;124mUpdated Array: \u001b[39m\u001b[38;5;124m'\u001b[39m, arr1)\n",
      "\u001b[1;31mValueError\u001b[0m: assignment destination is read-only"
     ]
    }
   ],
   "source": [
    "# performing some calculations with nditer()\n",
    "print('Original Array: ', arr1)\n",
    "\n",
    "for item in np.nditer(arr1):\n",
    "    if item > 20:\n",
    "        item[...] = (item*0)\n",
    "    print('Updated Array: ', arr1)"
   ]
  },
  {
   "cell_type": "markdown",
   "id": "0a762160-50f0-4276-a44b-43ed94c16568",
   "metadata": {},
   "source": [
    "We get this error because we use nditer to iterate over the elements of an array. However, it creates a copy of the underlying data for iteration. So when we try to modify, we are attempting to change the copy and not the actual element in the array. The copy is read-only hence the error."
   ]
  },
  {
   "cell_type": "code",
   "execution_count": 147,
   "id": "114b6f72-acf2-4c88-8492-350c164ed21a",
   "metadata": {},
   "outputs": [
    {
     "name": "stdout",
     "output_type": "stream",
     "text": [
      "Original Array:  [ 0  0  0 17  0  0  0 20 13  0]\n",
      "Updated Array:  [ 0  0  0 17  0  0  0 20 13  0]\n"
     ]
    }
   ],
   "source": [
    "# trying again\n",
    "print('Original Array: ', arr1)\n",
    "\n",
    "for item in np.nditer(arr1, op_flags = ['readwrite']):\n",
    "    if item > 20:\n",
    "        item[...] = (item * 0)\n",
    "print('Updated Array: ', arr1)"
   ]
  },
  {
   "cell_type": "markdown",
   "id": "f0ac16db-a9fd-426a-b0dc-1e863ab3e429",
   "metadata": {},
   "source": [
    "### **Exercise 1**\n",
    "\n",
    "Write a program to generate an array with shape 5 by 4 at random containing positive integers. Perform an update by replacing all odd numbers using -1 (Using a loop)"
   ]
  },
  {
   "cell_type": "code",
   "execution_count": 151,
   "id": "230674c8-47c4-40f7-bc62-6357f18db53e",
   "metadata": {},
   "outputs": [
    {
     "name": "stdout",
     "output_type": "stream",
     "text": [
      "Original Array: \n",
      " [[50 32 23 34]\n",
      " [11 10 16 37]\n",
      " [24 35 44 33]\n",
      " [44 41 34 46]\n",
      " [31 15 26 44]]\n",
      "Replaced odd numbers: \n",
      " [[50 32 -1 34]\n",
      " [-1 10 16 -1]\n",
      " [24 -1 44 -1]\n",
      " [44 -1 34 46]\n",
      " [-1 -1 26 44]]\n"
     ]
    }
   ],
   "source": [
    "# generating random integer numbers with 5 by 4 dimension\n",
    "arr = np.random.randint(10, 51, size=(5,4))\n",
    "print('Original Array: \\n', arr)\n",
    "\n",
    "for item in np.nditer(arr, op_flags=['readwrite']):\n",
    "    if item%2 != 0:\n",
    "        item[...] = -1\n",
    "print('Replaced odd numbers: \\n', arr)"
   ]
  },
  {
   "cell_type": "markdown",
   "id": "a90df567-faaa-42cd-b80d-54674b3160cf",
   "metadata": {},
   "source": [
    "### **Exercise 2**\n",
    "\n",
    "Given an array [1, -10, 2, 3, 0, 6], print the array in this order [0, 6, -10, 2, 1, 3]"
   ]
  },
  {
   "cell_type": "code",
   "execution_count": 159,
   "id": "2e36d43c-ecc6-4ec8-8c3a-7055cceac0e2",
   "metadata": {},
   "outputs": [
    {
     "data": {
      "text/plain": [
       "array([  0,   6, -10,   2,   1,   3])"
      ]
     },
     "execution_count": 159,
     "metadata": {},
     "output_type": "execute_result"
    }
   ],
   "source": [
    "arr1 = np.array([1, -10, 2, 3, 0, 6])\n",
    "\n",
    "arr2 = np.concatenate((arr1[4:6], arr1[1:3], np.array([arr1[0]]), np.array([arr1[3]])))\n",
    "\n",
    "arr2"
   ]
  },
  {
   "cell_type": "markdown",
   "id": "d6858a7d-3a89-4a3f-9ac2-2749a354438d",
   "metadata": {},
   "source": [
    "### Python Operators on Numpy Array"
   ]
  },
  {
   "cell_type": "code",
   "execution_count": 161,
   "id": "8fba55fb-6a88-4b42-94b3-7d0928665771",
   "metadata": {},
   "outputs": [
    {
     "name": "stdout",
     "output_type": "stream",
     "text": [
      "Array: \n",
      " [[1 2 5 7 6]\n",
      " [4 2 7 5 9]]\n"
     ]
    }
   ],
   "source": [
    "# create a numpy array\n",
    "x = np.array([[1,2,5,7,6], [4,2,7,5,9]])\n",
    "\n",
    "print('Array: \\n', x)"
   ]
  },
  {
   "cell_type": "code",
   "execution_count": 162,
   "id": "fea0c8e7-6ac2-4639-87c6-a6ac74348605",
   "metadata": {},
   "outputs": [
    {
     "name": "stdout",
     "output_type": "stream",
     "text": [
      "[[ 6  7 10 12 11]\n",
      " [ 9  7 12 10 14]]\n"
     ]
    }
   ],
   "source": [
    "print(x+5)"
   ]
  },
  {
   "cell_type": "code",
   "execution_count": 163,
   "id": "9a8207a8-c36b-418d-b554-744cec159596",
   "metadata": {},
   "outputs": [
    {
     "name": "stdout",
     "output_type": "stream",
     "text": [
      "[[1 0 1 1 0]\n",
      " [0 0 1 1 1]]\n"
     ]
    }
   ],
   "source": [
    "print(x%2)"
   ]
  },
  {
   "cell_type": "code",
   "execution_count": 166,
   "id": "960b5a6f-1fc1-4365-8f70-5b6ac114a336",
   "metadata": {},
   "outputs": [
    {
     "name": "stdout",
     "output_type": "stream",
     "text": [
      "[[False False  True  True  True]\n",
      " [ True False  True  True  True]]\n"
     ]
    }
   ],
   "source": [
    "print(x>=3)"
   ]
  },
  {
   "cell_type": "code",
   "execution_count": 167,
   "id": "d459d477-cd33-4057-b099-716b306a7057",
   "metadata": {},
   "outputs": [
    {
     "name": "stdout",
     "output_type": "stream",
     "text": [
      "[[0 1 2 3 3]\n",
      " [2 1 3 2 4]]\n"
     ]
    }
   ],
   "source": [
    "print(x//2)"
   ]
  },
  {
   "cell_type": "markdown",
   "id": "f08ca340-e6ed-4fd4-9c73-ed9cee766ddd",
   "metadata": {},
   "source": [
    "### Exercise\n",
    "\n",
    "Write a program to generate an array with shape 5 by 4 at random containing positive integer. Perform an update by replacing all odd numbers with -1. (Without using a Loop)"
   ]
  },
  {
   "cell_type": "code",
   "execution_count": 197,
   "id": "a3813281-e84e-4b0c-b3fc-803ae72b5d50",
   "metadata": {},
   "outputs": [
    {
     "data": {
      "text/plain": [
       "array([[53, 88, 94, 97],\n",
       "       [13, 66, 77, 98],\n",
       "       [ 5, 40, 36, 51],\n",
       "       [54,  9, 76, 73],\n",
       "       [61, 37, 35, 65]], dtype=int32)"
      ]
     },
     "execution_count": 197,
     "metadata": {},
     "output_type": "execute_result"
    }
   ],
   "source": [
    "# creating a random integer array of 5 by 4 dimensions\n",
    "arr = np.random.randint(100, size=(5,4))\n",
    "arr"
   ]
  },
  {
   "cell_type": "code",
   "execution_count": 198,
   "id": "85379795-f82a-4bf8-8163-fc906c50fcb9",
   "metadata": {},
   "outputs": [
    {
     "data": {
      "text/plain": [
       "array([[ True, False, False,  True],\n",
       "       [ True, False,  True, False],\n",
       "       [ True, False, False,  True],\n",
       "       [False,  True, False,  True],\n",
       "       [ True,  True,  True,  True]])"
      ]
     },
     "execution_count": 198,
     "metadata": {},
     "output_type": "execute_result"
    }
   ],
   "source": [
    "index = (arr%2 != 0)\n",
    "index"
   ]
  },
  {
   "cell_type": "code",
   "execution_count": 199,
   "id": "605ccc60-65a0-406e-9edf-1cfb3d08e6a4",
   "metadata": {},
   "outputs": [
    {
     "data": {
      "text/plain": [
       "array([[-1, 88, 94, -1],\n",
       "       [-1, 66, -1, 98],\n",
       "       [-1, 40, 36, -1],\n",
       "       [54, -1, 76, -1],\n",
       "       [-1, -1, -1, -1]], dtype=int32)"
      ]
     },
     "execution_count": 199,
     "metadata": {},
     "output_type": "execute_result"
    }
   ],
   "source": [
    "#making a copy of the array\n",
    "arr_copy = arr.copy()\n",
    "\n",
    "arr_copy[index] = -1\n",
    "arr_copy"
   ]
  },
  {
   "cell_type": "markdown",
   "id": "b95c8dc8-873b-4540-a18b-f1f8219731e8",
   "metadata": {},
   "source": [
    "### Exercise\n",
    "\n",
    "Write a program to filter the values from the array based on below mentioned conditions:\n",
    "\n",
    "- Either value should be divisible by 5.\n",
    "- (or) value should be an odd number and factor of 7."
   ]
  },
  {
   "cell_type": "code",
   "execution_count": 200,
   "id": "bc2c7864-5d30-4a4e-862a-e7f84c8b9b35",
   "metadata": {},
   "outputs": [
    {
     "data": {
      "text/plain": [
       "array([[53, 88, 94, 97],\n",
       "       [13, 66, 77, 98],\n",
       "       [ 5, 40, 36, 51],\n",
       "       [54,  9, 76, 73],\n",
       "       [61, 37, 35, 65]], dtype=int32)"
      ]
     },
     "execution_count": 200,
     "metadata": {},
     "output_type": "execute_result"
    }
   ],
   "source": [
    "# make a copy of the array\n",
    "arr_copy2 = arr.copy()\n",
    "arr_copy2"
   ]
  },
  {
   "cell_type": "code",
   "execution_count": 205,
   "id": "56981745-fdd9-47a2-8f32-bd52e2accb7b",
   "metadata": {},
   "outputs": [
    {
     "name": "stdout",
     "output_type": "stream",
     "text": [
      "[[ 0  0  0 97]\n",
      " [ 0  0 77  0]\n",
      " [ 0  0  0  0]\n",
      " [ 0  0  0  0]\n",
      " [ 0 37  0  0]]\n"
     ]
    }
   ],
   "source": [
    "for item in np.nditer(arr_copy2, op_flags=['readwrite']):\n",
    "    if item%5 == 2 or (item%2 != 0 and 7%item == 0):\n",
    "        item[...] = item\n",
    "    else:\n",
    "        item[...] = 0\n",
    "print(arr_copy2)"
   ]
  },
  {
   "cell_type": "markdown",
   "id": "6a0ad618-3bf0-4b65-95b4-86b892ce9a8e",
   "metadata": {},
   "source": [
    "## Numpy Maths\n",
    "\n",
    "- `np.sqrt()`\n",
    "- `np.exp()`\n",
    "- `np.sin()`\n",
    "- `np.cos()`\n",
    "- etcetera\n",
    "\n",
    "### Element wise operations\n",
    "\n",
    "- `np.add()`\n",
    "- `np.subtract()`\n",
    "- `np.multiply()`\n",
    "- `np.divide()`\n",
    "\n",
    "### Matrix multiplication\n",
    "Either of the functions below produce the same result\n",
    "\n",
    "- `np.matmul()`\n",
    "- `np.dot()`\n",
    "- `@`\n",
    "\n",
    "### Others\n",
    "- `np.diag()`\n",
    "- `T` - for transpose"
   ]
  },
  {
   "cell_type": "code",
   "execution_count": 207,
   "id": "681cd85e-da22-4dac-9241-6fd3229a35fb",
   "metadata": {},
   "outputs": [
    {
     "data": {
      "text/plain": [
       "array([[1, 2, 3],\n",
       "       [4, 5, 6]])"
      ]
     },
     "execution_count": 207,
     "metadata": {},
     "output_type": "execute_result"
    }
   ],
   "source": [
    "arr = np.array([[1,2,3], [4,5,6]])\n",
    "arr"
   ]
  },
  {
   "cell_type": "code",
   "execution_count": 209,
   "id": "cdb1a4f0-0e06-4cdd-977c-2eb3848279de",
   "metadata": {},
   "outputs": [
    {
     "name": "stdout",
     "output_type": "stream",
     "text": [
      "Square Root: \n",
      " [[1.         1.41421356 1.73205081]\n",
      " [2.         2.23606798 2.44948974]]\n",
      "Exponent: \n",
      " [[  2.71828183   7.3890561   20.08553692]\n",
      " [ 54.59815003 148.4131591  403.42879349]]\n",
      "Sine Rule: \n",
      " [[ 0.84147098  0.90929743  0.14112001]\n",
      " [-0.7568025  -0.95892427 -0.2794155 ]]\n",
      "Cosine Rule: \n",
      " [[ 0.54030231 -0.41614684 -0.9899925 ]\n",
      " [-0.65364362  0.28366219  0.96017029]]\n"
     ]
    }
   ],
   "source": [
    "print('Square Root: \\n', np.sqrt(arr))\n",
    "print('Exponent: \\n', np.exp(arr))\n",
    "print('Sine Rule: \\n', np.sin(arr))\n",
    "print('Cosine Rule: \\n', np.cos(arr))"
   ]
  },
  {
   "cell_type": "code",
   "execution_count": 210,
   "id": "766240e6-7faf-45e3-9af4-d2ad896722ae",
   "metadata": {},
   "outputs": [
    {
     "name": "stdout",
     "output_type": "stream",
     "text": [
      "First array: \n",
      " [[13 11]\n",
      " [15 14]]\n",
      "Second array: \n",
      " [[12 16]\n",
      " [15 10]]\n"
     ]
    }
   ],
   "source": [
    "## Element wise operations\n",
    "x = np.random.randint(10,21, size = (2,2))\n",
    "\n",
    "y = np.random.randint(10,21, size = (2,2))\n",
    "\n",
    "print('First array: \\n', x)\n",
    "print('Second array: \\n', y)"
   ]
  },
  {
   "cell_type": "code",
   "execution_count": 211,
   "id": "ab9466a0-c418-44bf-8140-df29f24e977c",
   "metadata": {},
   "outputs": [
    {
     "name": "stdout",
     "output_type": "stream",
     "text": [
      "EAddition: \n",
      " [[25 27]\n",
      " [30 24]]\n",
      "ESubtraction: \n",
      " [[ 1 -5]\n",
      " [ 0  4]]\n",
      "EMultiply: \n",
      " [[156 176]\n",
      " [225 140]]\n",
      "EDivide: \n",
      " [[1.08333333 0.6875    ]\n",
      " [1.         1.4       ]]\n"
     ]
    }
   ],
   "source": [
    "# Let E represents Elementwise\n",
    "print('EAddition: \\n', np.add(x,y))\n",
    "print('ESubtraction: \\n', np.subtract(x,y))\n",
    "print('EMultiply: \\n', np.multiply(x,y))\n",
    "print('EDivide: \\n', np.divide(x,y))"
   ]
  },
  {
   "cell_type": "code",
   "execution_count": 212,
   "id": "18babe1d-36dd-4d43-981f-b0a9173b278b",
   "metadata": {},
   "outputs": [
    {
     "name": "stdout",
     "output_type": "stream",
     "text": [
      "MM (way-1): \n",
      " [[321 318]\n",
      " [390 380]] \n",
      "\n",
      "MM (way-2): \n",
      " [[321 318]\n",
      " [390 380]] \n",
      "\n",
      "MM (way-3): \n",
      " [[321 318]\n",
      " [390 380]] \n",
      "\n"
     ]
    }
   ],
   "source": [
    "## Matrix multiplication --> Let MM represent Matrix Multiplication\n",
    "\n",
    "print('MM (way-1): \\n', np.matmul(x,y), '\\n')\n",
    "print('MM (way-2): \\n', np.dot(x,y), '\\n')\n",
    "print('MM (way-3): \\n', x @ y, '\\n')"
   ]
  },
  {
   "cell_type": "markdown",
   "id": "cc2c6b78-0cfd-4d16-acc9-13edb3345641",
   "metadata": {},
   "source": [
    "#to retrieve the diagonal elements\n",
    "\n",
    "x = np.random.randint(10,25, size = (2,3))\n",
    "\n",
    "print('Original array: \\n', x, '\\n')\n",
    "\n",
    "print('Diagonal values: \\n', np.diag(x))"
   ]
  },
  {
   "cell_type": "code",
   "execution_count": 214,
   "id": "06473866-f8e9-4862-80d5-104e6d986869",
   "metadata": {},
   "outputs": [
    {
     "name": "stdout",
     "output_type": "stream",
     "text": [
      "Transposed matrix: \n",
      " [[11 13]\n",
      " [12 10]\n",
      " [16 11]]\n"
     ]
    }
   ],
   "source": [
    "#to transpose an array\n",
    "\n",
    "print('Transposed matrix: \\n', x.T)"
   ]
  },
  {
   "cell_type": "markdown",
   "id": "9f63b49a-c777-497d-9c1f-0baec20b3708",
   "metadata": {},
   "source": [
    "## Numpy statistics\n",
    "You will often see the need to specify the axis for operation.\n",
    "\n",
    "`axis = 0` ==> Column wise operation\n",
    "\n",
    "`axis = 1` ==> Row wise operation\n",
    "\n",
    "- `np.sum()`\n",
    "- `np.min() and np.max()`\n",
    "- `np.median(), np.mean()`\n",
    "- `np.var()`\n",
    "- `np.std()`\n",
    "- `np.corrcoef()` - calculates the Pearson product-moment correlation coefficient between two sets of data. It indicates the strength and direction of the linear relationship between two variables."
   ]
  },
  {
   "cell_type": "code",
   "execution_count": 220,
   "id": "ae212388-73c3-4f35-a003-f5573adebaf6",
   "metadata": {},
   "outputs": [
    {
     "data": {
      "text/plain": [
       "array([[0, 1, 2],\n",
       "       [3, 4, 5],\n",
       "       [6, 7, 8]])"
      ]
     },
     "execution_count": 220,
     "metadata": {},
     "output_type": "execute_result"
    }
   ],
   "source": [
    "# create an array of 3 x 3 dimension using arange().reshape() function\n",
    "arr = np.arange(9).reshape(3,3)\n",
    "\n",
    "arr"
   ]
  },
  {
   "cell_type": "code",
   "execution_count": 231,
   "id": "89138fac-2d76-4e07-8949-b278d479d305",
   "metadata": {},
   "outputs": [
    {
     "name": "stdout",
     "output_type": "stream",
     "text": [
      "Min:  0\n",
      "Sum:  36\n",
      "Var:  6.67\n",
      "Std:  2.58\n",
      "Row-sum:  [ 3 12 21]\n",
      "Column-sum:  [ 9 12 15]\n",
      "Row-median:  [1. 4. 7.]\n",
      "Column-median:  [3. 4. 5.]\n"
     ]
    }
   ],
   "source": [
    "print('Min: ', np.min(arr))\n",
    "print('Sum: ', np.sum(arr))\n",
    "print('Var: ', round(np.var(arr), 2))\n",
    "print('Std: ', round(np.std(arr), 2))\n",
    "\n",
    "print('Row-sum: ', np.sum(arr, axis=1))\n",
    "print('Column-sum: ', np.sum(arr, axis=0))\n",
    "print('Row-median: ', np.median(arr, axis=1))\n",
    "print('Column-median: ', np.median(arr, axis=0))"
   ]
  },
  {
   "cell_type": "code",
   "execution_count": 232,
   "id": "79241569-ee55-4dbd-9225-02cb59e624ea",
   "metadata": {},
   "outputs": [
    {
     "data": {
      "text/plain": [
       "array([[ 1.        , -0.03535923],\n",
       "       [-0.03535923,  1.        ]])"
      ]
     },
     "execution_count": 232,
     "metadata": {},
     "output_type": "execute_result"
    }
   ],
   "source": [
    "heights = np.random.randint(150, 200, size=(6,))\n",
    "\n",
    "weights = np.random.randint(40, 61, size=(6,))\n",
    "\n",
    "np.corrcoef(heights, weights, rowvar=False)"
   ]
  },
  {
   "cell_type": "markdown",
   "id": "111f4ba0-d206-487b-a775-4d024aa907d4",
   "metadata": {},
   "source": [
    "## More Numpy Functions"
   ]
  },
  {
   "cell_type": "markdown",
   "id": "fff41103-b1e4-4fae-9793-3de8fc5ae1b7",
   "metadata": {},
   "source": [
    "### Linspace\n",
    "Generates an array of evenly spaced numbers over a specified interval\n",
    "\n",
    "`Syntax => np.linspace(begin, end, #number of elements)`\n"
   ]
  },
  {
   "cell_type": "code",
   "execution_count": 233,
   "id": "4d46bfe6-a098-4df5-968d-d3009645165b",
   "metadata": {},
   "outputs": [
    {
     "name": "stdout",
     "output_type": "stream",
     "text": [
      "[10.         12.14285714 14.28571429 16.42857143 18.57142857 20.71428571\n",
      " 22.85714286 25.        ]\n"
     ]
    }
   ],
   "source": [
    "print(np.linspace(10, 25, 8))"
   ]
  },
  {
   "cell_type": "code",
   "execution_count": 253,
   "id": "36fe6efe-e914-42f3-9b64-0f04d6b89685",
   "metadata": {},
   "outputs": [
    {
     "name": "stdout",
     "output_type": "stream",
     "text": [
      "[10.    11.875 13.75  15.625 17.5   19.375 21.25  23.125]\n"
     ]
    }
   ],
   "source": [
    "print(np.linspace(10, 25, 8, endpoint=False))"
   ]
  },
  {
   "cell_type": "markdown",
   "id": "738fd857-26d1-4c82-97c7-9578d7e05dbb",
   "metadata": {},
   "source": [
    "### Sorting\n",
    "\n",
    "Column and row wise sorting works here as well.\n",
    "\n",
    "`Syntax => np.sort(array, axis = )`"
   ]
  },
  {
   "cell_type": "code",
   "execution_count": 234,
   "id": "9a8c78c1-8c41-4dff-8d8b-39c2a32f52fb",
   "metadata": {},
   "outputs": [
    {
     "data": {
      "text/plain": [
       "array([[47, 40, 16, 39, 31, 27, 38, 41, 45, 11],\n",
       "       [32, 21, 24, 40, 36, 20, 27, 46, 11, 46],\n",
       "       [31, 46, 41, 43, 14, 18, 17, 28, 16, 14],\n",
       "       [26, 21, 28, 32, 37, 43, 30, 36, 32, 15],\n",
       "       [44, 42, 43, 29, 37, 29, 31, 18, 40, 27]], dtype=int32)"
      ]
     },
     "execution_count": 234,
     "metadata": {},
     "output_type": "execute_result"
    }
   ],
   "source": [
    "arr = np.random.randint(10, 50, size=(5,10))\n",
    "arr"
   ]
  },
  {
   "cell_type": "code",
   "execution_count": 235,
   "id": "dcb5ed08-fce6-4d8a-8968-65edb080ce4d",
   "metadata": {},
   "outputs": [
    {
     "name": "stdout",
     "output_type": "stream",
     "text": [
      "[[11 16 27 31 38 39 40 41 45 47]\n",
      " [11 20 21 24 27 32 36 40 46 46]\n",
      " [14 14 16 17 18 28 31 41 43 46]\n",
      " [15 21 26 28 30 32 32 36 37 43]\n",
      " [18 27 29 29 31 37 40 42 43 44]]\n"
     ]
    }
   ],
   "source": [
    "print(np.sort(arr))"
   ]
  },
  {
   "cell_type": "code",
   "execution_count": 236,
   "id": "6323251e-7e0c-4050-a15e-bd9e6426a22b",
   "metadata": {},
   "outputs": [
    {
     "name": "stdout",
     "output_type": "stream",
     "text": [
      "[[26 21 16 29 14 18 17 18 11 11]\n",
      " [31 21 24 32 31 20 27 28 16 14]\n",
      " [32 40 28 39 36 27 30 36 32 15]\n",
      " [44 42 41 40 37 29 31 41 40 27]\n",
      " [47 46 43 43 37 43 38 46 45 46]]\n"
     ]
    }
   ],
   "source": [
    "# Column-wise sorting by setting axis = 0\n",
    "print(np.sort(arr, axis=0))"
   ]
  },
  {
   "cell_type": "code",
   "execution_count": 237,
   "id": "93d81c6e-a3d3-4a3f-9d0b-890f9c26c994",
   "metadata": {},
   "outputs": [
    {
     "name": "stdout",
     "output_type": "stream",
     "text": [
      "[[11 16 27 31 38 39 40 41 45 47]\n",
      " [11 20 21 24 27 32 36 40 46 46]\n",
      " [14 14 16 17 18 28 31 41 43 46]\n",
      " [15 21 26 28 30 32 32 36 37 43]\n",
      " [18 27 29 29 31 37 40 42 43 44]]\n"
     ]
    }
   ],
   "source": [
    "# Row-wise sorting by setting axis = 1\n",
    "print(np.sort(arr, axis=1))"
   ]
  },
  {
   "cell_type": "markdown",
   "id": "6128c71f-aff2-41be-888d-1444af212618",
   "metadata": {},
   "source": [
    "### Stacking\n",
    "\n",
    "We have the horizontal stacking = adds arrays side by side. Here, the number of rows in both arrays has to be the same.\n",
    "\n",
    "`Syntax ==> np.hstack([array1, array2])`\n",
    "\n",
    "\n",
    "Vertical stacking = adds arrays on top each other, that is, vertically. Here, the number of rows has to be the same.\n",
    "\n",
    "`Syntax ==> np.vstack([array1, array2])`"
   ]
  },
  {
   "cell_type": "code",
   "execution_count": 238,
   "id": "34af7e8a-92c2-4225-a786-4b3e28abe3cd",
   "metadata": {},
   "outputs": [
    {
     "data": {
      "text/plain": [
       "array([[ 5,  6,  7,  8,  9],\n",
       "       [10, 11, 12, 13, 14]])"
      ]
     },
     "execution_count": 238,
     "metadata": {},
     "output_type": "execute_result"
    }
   ],
   "source": [
    "arr1 = np.arange(5, 15).reshape(2,5)\n",
    "arr1"
   ]
  },
  {
   "cell_type": "code",
   "execution_count": 240,
   "id": "3b96c101-c62f-4b21-8997-4a5429086b24",
   "metadata": {},
   "outputs": [
    {
     "data": {
      "text/plain": [
       "array([[25, 26, 27, 28, 29],\n",
       "       [30, 31, 32, 33, 34]])"
      ]
     },
     "execution_count": 240,
     "metadata": {},
     "output_type": "execute_result"
    }
   ],
   "source": [
    "arr2 = np.arange(25, 35).reshape(2,5)\n",
    "arr2"
   ]
  },
  {
   "cell_type": "code",
   "execution_count": 244,
   "id": "d9cce37e-e350-477b-ba01-b55a9a6be007",
   "metadata": {},
   "outputs": [
    {
     "data": {
      "text/plain": [
       "array([[ 5,  6,  7,  8,  9],\n",
       "       [10, 11, 12, 13, 14],\n",
       "       [25, 26, 27, 28, 29],\n",
       "       [30, 31, 32, 33, 34]])"
      ]
     },
     "execution_count": 244,
     "metadata": {},
     "output_type": "execute_result"
    }
   ],
   "source": [
    "# Vertical stacking\n",
    "v_stack = np.vstack([arr1, arr2])\n",
    "v_stack"
   ]
  },
  {
   "cell_type": "code",
   "execution_count": 245,
   "id": "5f2ff639-857b-477c-8947-5ae77cba18c8",
   "metadata": {},
   "outputs": [
    {
     "data": {
      "text/plain": [
       "array([[ 5,  6,  7,  8,  9, 25, 26, 27, 28, 29],\n",
       "       [10, 11, 12, 13, 14, 30, 31, 32, 33, 34]])"
      ]
     },
     "execution_count": 245,
     "metadata": {},
     "output_type": "execute_result"
    }
   ],
   "source": [
    "# horizontal stacking\n",
    "h_stack = np.hstack([arr1, arr2])\n",
    "h_stack"
   ]
  },
  {
   "cell_type": "markdown",
   "id": "efea1b31-0132-47bf-a1dd-8511e6b2b466",
   "metadata": {},
   "source": [
    "### Concatenate\n",
    "\n",
    "- Horizontal concatenation which is also = horizontal (row) stacking\n",
    "`Syntax ==> np.concatenate([array1, array2], axis = 1)`\n",
    "\n",
    "- Vertical concatenation = vertical (column) stacking\n",
    "`Syntax ==> np.concatenate([array1, array2], axis = 0)`"
   ]
  },
  {
   "cell_type": "code",
   "execution_count": 246,
   "id": "641d4f08-3200-41a1-a38a-6c87d88b42be",
   "metadata": {},
   "outputs": [
    {
     "data": {
      "text/plain": [
       "array([[ 5,  6,  7,  8,  9, 25, 26, 27, 28, 29],\n",
       "       [10, 11, 12, 13, 14, 30, 31, 32, 33, 34]])"
      ]
     },
     "execution_count": 246,
     "metadata": {},
     "output_type": "execute_result"
    }
   ],
   "source": [
    "# horizontal concatenation\n",
    "h_concat = np.concatenate([arr1, arr2], axis=1)\n",
    "h_concat"
   ]
  },
  {
   "cell_type": "code",
   "execution_count": 247,
   "id": "bd82dd99-eaa6-4fa0-9605-7a2125536209",
   "metadata": {},
   "outputs": [
    {
     "data": {
      "text/plain": [
       "array([[ 5,  6,  7,  8,  9],\n",
       "       [10, 11, 12, 13, 14],\n",
       "       [25, 26, 27, 28, 29],\n",
       "       [30, 31, 32, 33, 34]])"
      ]
     },
     "execution_count": 247,
     "metadata": {},
     "output_type": "execute_result"
    }
   ],
   "source": [
    "# vertical concatenation\n",
    "v_concat = np.concatenate([arr1, arr2], axis=0)\n",
    "v_concat"
   ]
  },
  {
   "cell_type": "markdown",
   "id": "08b3aaad-af51-498b-944c-1e028a47c421",
   "metadata": {},
   "source": [
    "### Append\n",
    "\n",
    "- Horizontal append = horizontal (row) stacking\n",
    "`Syntax ==> np.append(array1, array2, axis = 1)`\n",
    "\n",
    "\n",
    "- Vertical append = vertical (column) stacking\n",
    "`Syntax ==> np.append(array1, array2, axis = 0)`"
   ]
  },
  {
   "cell_type": "code",
   "execution_count": 255,
   "id": "699bf779-4f32-4aa4-9d8a-2ccb5eb081d0",
   "metadata": {},
   "outputs": [
    {
     "data": {
      "text/plain": [
       "array([[ 5,  6,  7,  8,  9, 25, 26, 27, 28, 29],\n",
       "       [10, 11, 12, 13, 14, 30, 31, 32, 33, 34]])"
      ]
     },
     "execution_count": 255,
     "metadata": {},
     "output_type": "execute_result"
    }
   ],
   "source": [
    "# horizontal append\n",
    "h_append = np.append(arr1, arr2, axis=1)\n",
    "h_append"
   ]
  },
  {
   "cell_type": "code",
   "execution_count": 249,
   "id": "f3c405d6-b687-4755-a43f-d0166a7835b7",
   "metadata": {},
   "outputs": [
    {
     "data": {
      "text/plain": [
       "array([[ 5,  6,  7,  8,  9],\n",
       "       [10, 11, 12, 13, 14],\n",
       "       [25, 26, 27, 28, 29],\n",
       "       [30, 31, 32, 33, 34]])"
      ]
     },
     "execution_count": 249,
     "metadata": {},
     "output_type": "execute_result"
    }
   ],
   "source": [
    "# vertical append\n",
    "v_append = np.append(arr1, arr2, axis=0)\n",
    "v_append"
   ]
  },
  {
   "cell_type": "markdown",
   "id": "adf8ab0d-5ad5-4203-9542-292f950fec61",
   "metadata": {},
   "source": [
    "## Where - np.where()\n",
    "\n",
    "Processes array elements conditionally.\n",
    "\n",
    "`np.where(condition, x,y)`\n",
    "\n",
    "This reads: Where True, yield x, otherwise y."
   ]
  },
  {
   "cell_type": "code",
   "execution_count": 250,
   "id": "6543cf90-159e-4e00-8d90-91402816b287",
   "metadata": {},
   "outputs": [
    {
     "data": {
      "text/plain": [
       "array([[50, 51, 52, 53, 54, 55, 56, 57, 58, 59],\n",
       "       [60, 61, 62, 63, 64, 65, 66, 67, 68, 69],\n",
       "       [70, 71, 72, 73, 74, 75, 76, 77, 78, 79],\n",
       "       [80, 81, 82, 83, 84, 85, 86, 87, 88, 89],\n",
       "       [90, 91, 92, 93, 94, 95, 96, 97, 98, 99]])"
      ]
     },
     "execution_count": 250,
     "metadata": {},
     "output_type": "execute_result"
    }
   ],
   "source": [
    "arr = np.arange(50,100).reshape(5,10)\n",
    "arr"
   ]
  },
  {
   "cell_type": "code",
   "execution_count": 251,
   "id": "a0bf65c6-81a4-477b-8f3d-5a1f57f69e89",
   "metadata": {},
   "outputs": [
    {
     "data": {
      "text/plain": [
       "array([[0, 0, 0, 0, 0, 0, 0, 0, 0, 0],\n",
       "       [0, 0, 0, 0, 0, 1, 1, 1, 1, 1],\n",
       "       [1, 1, 1, 1, 1, 1, 1, 1, 1, 1],\n",
       "       [1, 1, 1, 1, 1, 1, 1, 1, 1, 1],\n",
       "       [1, 1, 1, 1, 1, 1, 1, 1, 1, 1]])"
      ]
     },
     "execution_count": 251,
     "metadata": {},
     "output_type": "execute_result"
    }
   ],
   "source": [
    "# using where() function\n",
    "where = np.where(arr < 65, 0, 1)\n",
    "where"
   ]
  },
  {
   "cell_type": "code",
   "execution_count": 252,
   "id": "bbd2e9bd-00ee-49fd-88f0-f65d6e87681b",
   "metadata": {},
   "outputs": [
    {
     "data": {
      "text/plain": [
       "array([[50. , 51. , 52. , 53. , 54. , 55. , 56. , 57. , 58. , 59. ],\n",
       "       [60. , 61. , 62. , 63. , 64. , 65. , 66. , 67. , 68. , 69. ],\n",
       "       [70. ,  7.1,  7.2,  7.3,  7.4,  7.5,  7.6,  7.7,  7.8,  7.9],\n",
       "       [ 8. ,  8.1,  8.2,  8.3,  8.4,  8.5,  8.6,  8.7,  8.8,  8.9],\n",
       "       [ 9. ,  9.1,  9.2,  9.3,  9.4,  9.5,  9.6,  9.7,  9.8,  9.9]])"
      ]
     },
     "execution_count": 252,
     "metadata": {},
     "output_type": "execute_result"
    }
   ],
   "source": [
    "#another example\n",
    "#where arr is > 64 return arr/10, else return the arr value\n",
    "\n",
    "where = np.where(arr>70, arr/10, arr)\n",
    "where"
   ]
  },
  {
   "cell_type": "markdown",
   "id": "ef3d7182-828f-46df-97b8-37ad3d3de520",
   "metadata": {},
   "source": [
    "## argsort\n",
    "\n",
    "Used to sort an array indirectly.\n",
    "\n",
    "- Instead of modifying the original array, it retuns an array of indices sorting the original array in a specific order (usually ascending by default)\n",
    "\n",
    "- This output contains the positions/indices of the elements in the original array that would result in the sorted order\n",
    "\n",
    "- This indices is then used with other functions to get the actual sorted array"
   ]
  },
  {
   "cell_type": "code",
   "execution_count": 256,
   "id": "c2bf4c90-b61d-43cd-ae65-86a5ef3748ad",
   "metadata": {},
   "outputs": [
    {
     "name": "stdout",
     "output_type": "stream",
     "text": [
      "Indices:  [1 3 2 0]\n",
      "Sorted array:  [-5 -3  8 10]\n"
     ]
    }
   ],
   "source": [
    "# argsort()\n",
    "arr = np.array([10, -5, 8, -3])\n",
    "\n",
    "print('Indices: ', arr.argsort())\n",
    "\n",
    "print('Sorted array: ', arr[arr.argsort()])"
   ]
  },
  {
   "cell_type": "markdown",
   "id": "5fd48986-9805-4a2d-a2eb-fe5690f6b085",
   "metadata": {},
   "source": [
    "A bit confusing right?\n",
    "\n",
    "Here's how it works:\n",
    "\n",
    "We know that indexes always start at 0, therefore the array below would have the following indices\n",
    "\n",
    "`[10, -5, 7, -3] = [0, 1, 2, 3]`\n",
    "\n",
    "This is the natural index for the numbers in the array. Now when we use argsort, it uses this natural index to place the numbers where they need to be in an ascending order.\n",
    "\n",
    "`` `My array`       `Natural index`   `argsort()`\n",
    "\n",
    "`[10, -5, 7, -3]= [0, 1, 2, 3] = [1, 3, 2, 0]`\n",
    "\n"
   ]
  },
  {
   "cell_type": "markdown",
   "id": "22486d5d-d839-4709-b97c-faa2948f91cc",
   "metadata": {},
   "source": [
    "## Numpy broadcasting\n",
    "\n",
    "This is a mechanism that allows us perform arithmetic operations on arrays with different shapes under certain conditions. It automates the process of making arrays compatible for element-wise operations. How does it work?\n",
    "\n",
    "- Because numpy needs arrays to be compatible shape wise to allow for element wise operations, broadcasting comes into play where these arrays are not exactly the same.\n",
    "\n",
    "- It allows a smaller array to be stretched to match the shape of the bigger one"
   ]
  },
  {
   "cell_type": "code",
   "execution_count": 258,
   "id": "0679e719-8ae8-47a5-9c48-367221fd29fc",
   "metadata": {},
   "outputs": [
    {
     "name": "stdout",
     "output_type": "stream",
     "text": [
      "[[2 4 6]\n",
      " [5 7 9]]\n"
     ]
    }
   ],
   "source": [
    "# broadcasting in numpy\n",
    "arr1 = np.array([[1,2,3], [4,5,6]])\n",
    "\n",
    "arr2 = np.array([1,2,3])\n",
    "\n",
    "print(arr1+arr2)"
   ]
  },
  {
   "cell_type": "code",
   "execution_count": 259,
   "id": "edd8899a-2e1e-458a-aebd-c1480748f128",
   "metadata": {},
   "outputs": [
    {
     "name": "stdout",
     "output_type": "stream",
     "text": [
      "[[2 3 4]\n",
      " [5 6 7]]\n"
     ]
    }
   ],
   "source": [
    "arr1 = np.array([[1,2,3], [4,5,6]])\n",
    "\n",
    "arr2 = np.array([1])\n",
    "\n",
    "print(arr1+arr2)"
   ]
  },
  {
   "cell_type": "code",
   "execution_count": 260,
   "id": "45ebe4bb-5f0c-4870-aa28-905d1858b1a3",
   "metadata": {},
   "outputs": [
    {
     "name": "stdout",
     "output_type": "stream",
     "text": [
      "[[2 3 4]\n",
      " [6 7 8]]\n"
     ]
    }
   ],
   "source": [
    "arr1 = np.array([[1,2,3], [4,5,6]])\n",
    "\n",
    "arr2 = np.array([[1],[2]])\n",
    "\n",
    "print(arr1+arr2)"
   ]
  },
  {
   "cell_type": "code",
   "execution_count": 261,
   "id": "809e3d11-6cdd-4ec4-88b6-ce122c9d2d4c",
   "metadata": {},
   "outputs": [
    {
     "name": "stdout",
     "output_type": "stream",
     "text": [
      "Array 1: \n",
      " [[1]\n",
      " [2]\n",
      " [3]\n",
      " [4]\n",
      " [5]\n",
      " [6]] \n",
      "\n",
      "Array 2: \n",
      " [1 2 3] \n",
      "\n",
      "Result: \n",
      " [[2 3 4]\n",
      " [3 4 5]\n",
      " [4 5 6]\n",
      " [5 6 7]\n",
      " [6 7 8]\n",
      " [7 8 9]]\n"
     ]
    }
   ],
   "source": [
    "arr1 = np.array([[1],[2],[3], [4],[5],[6]])\n",
    "\n",
    "arr2 = np.array([1,2,3])\n",
    "\n",
    "print('Array 1: \\n', arr1, '\\n')\n",
    "\n",
    "print('Array 2: \\n', arr2, '\\n')\n",
    "\n",
    "print('Result: \\n', arr1+arr2)"
   ]
  },
  {
   "cell_type": "markdown",
   "id": "9cee37fe-7895-41a5-b85a-df46113faf75",
   "metadata": {},
   "source": [
    "## Numpy masking\n",
    "\n",
    "This is the process of creating a boolean array (also called a mask) based on certain conditions applied to another array. This boolean acts as a filter, indicating which elements of the original array satisfy the specified condition. You can use np.where() to create a mask as well."
   ]
  },
  {
   "cell_type": "code",
   "execution_count": 266,
   "id": "cc65e634-ccc1-47c1-9c40-0362956f9885",
   "metadata": {},
   "outputs": [
    {
     "name": "stdout",
     "output_type": "stream",
     "text": [
      "Original array:  [17 25 28 11 14 20 25 27 15 12]\n",
      "Mask:  [False False  True False  True  True False False False  True]\n",
      "Filtered array:  [28 14 20 12]\n"
     ]
    }
   ],
   "source": [
    "# masking in numpy\n",
    "import numpy as np\n",
    "\n",
    "arr = np.random.randint(10, 31, size=(10,))\n",
    "\n",
    "# creating a mask for elements that are even\n",
    "mask = (arr%2 == 0)\n",
    "\n",
    "# using the mask to filter elements from the original array\n",
    "filtered_arr = arr[mask]\n",
    "\n",
    "print('Original array: ', arr)\n",
    "print('Mask: ', mask)\n",
    "\n",
    "print('Filtered array: ', filtered_arr)"
   ]
  },
  {
   "cell_type": "markdown",
   "id": "934aaebd-22d3-42e7-bffa-9b94bb3ac128",
   "metadata": {},
   "source": [
    "## Reading CSV file into a Numpy Array"
   ]
  },
  {
   "cell_type": "code",
   "execution_count": 267,
   "id": "fc5c063f-953d-4a0e-a402-af28f3e9cce8",
   "metadata": {},
   "outputs": [],
   "source": [
    "import numpy as np"
   ]
  },
  {
   "cell_type": "code",
   "execution_count": 274,
   "id": "eaf43eb6-c7fd-48c2-b10d-2bc06ca614a0",
   "metadata": {},
   "outputs": [
    {
     "name": "stdout",
     "output_type": "stream",
     "text": [
      "[['ï»¿day' 'temperature' 'windspeed' 'event']\n",
      " ['1/1/2017' '32' '6' 'Rain']\n",
      " ['1/2/2017' '35' '7' 'Sunny']\n",
      " ['1/3/2017' '28' '2' 'Snow']\n",
      " ['1/4/2017' '24' '7' 'Snow']\n",
      " ['1/5/2017' '32' '4' 'Rain']\n",
      " ['1/6/2017' '31' '2' 'Sunny']]\n"
     ]
    }
   ],
   "source": [
    "csv_file = np.loadtxt('weather_data.csv', dtype='str', delimiter=',')\n",
    "print(csv_file)"
   ]
  },
  {
   "cell_type": "markdown",
   "id": "aaea5093-9273-41c1-9068-d5a338f91790",
   "metadata": {},
   "source": [
    "# Task -  Dice Rolling Simulation\n",
    "\n",
    "Create a simulation of a dice rolling game using NumPy. The game will involve rolling two dice and calculating the sum of their values. Players will guess whether the next roll will result in a higher, lower, or equal sum compared to the previous roll. The simulation will track the player's score based on their guesses."
   ]
  },
  {
   "cell_type": "code",
   "execution_count": 275,
   "id": "35d49ba3-54d5-4e3b-953b-da26263a8ce5",
   "metadata": {},
   "outputs": [
    {
     "name": "stdin",
     "output_type": "stream",
     "text": [
      "\n",
      "Type \"roll\":  roll\n"
     ]
    },
    {
     "name": "stdout",
     "output_type": "stream",
     "text": [
      "Dice sum: 9\n",
      "\n",
      "Will the next sum be higher, lower, or equal?\n"
     ]
    },
    {
     "name": "stdin",
     "output_type": "stream",
     "text": [
      " higher\n",
      "\n",
      "Type \"roll\":  roll\n"
     ]
    },
    {
     "name": "stdout",
     "output_type": "stream",
     "text": [
      "Dice sum: 2\n",
      "Incorrect guess!\n",
      "\n",
      "\n",
      "Will the next sum be higher, lower, or equal?\n"
     ]
    },
    {
     "name": "stdin",
     "output_type": "stream",
     "text": [
      " lower\n",
      "\n",
      "Type \"roll\":  roll\n"
     ]
    },
    {
     "name": "stdout",
     "output_type": "stream",
     "text": [
      "Dice sum: 9\n",
      "Incorrect guess!\n",
      "\n",
      "\n",
      "Will the next sum be higher, lower, or equal?\n"
     ]
    },
    {
     "name": "stdin",
     "output_type": "stream",
     "text": [
      " equal\n",
      "\n",
      "Type \"roll\":  roll\n"
     ]
    },
    {
     "name": "stdout",
     "output_type": "stream",
     "text": [
      "Dice sum: 5\n",
      "Incorrect guess!\n",
      "\n",
      "\n",
      "Will the next sum be higher, lower, or equal?\n"
     ]
    },
    {
     "name": "stdin",
     "output_type": "stream",
     "text": [
      " higher\n"
     ]
    },
    {
     "name": "stdout",
     "output_type": "stream",
     "text": [
      "\n",
      "Rounds exhausted! Come back later\n",
      "\n",
      "View of dice rolls:  [np.int64(9), np.int64(2), np.int64(9), np.int64(5)]\n",
      "Your total score: 0\n"
     ]
    }
   ],
   "source": [
    "#number of rounds in the game\n",
    "num_of_rounds = 4\n",
    "\n",
    "#range of possible values for the die roll\n",
    "min_value = 1\n",
    "max_value = 6\n",
    "\n",
    "#intializing player's score\n",
    "score = 0\n",
    "\n",
    "#a list to record the dice sums\n",
    "sums_list = []\n",
    "\n",
    "while num_of_rounds >0 :\n",
    "    rolling = str(input('\\nType \"roll\": '))\n",
    "\n",
    "\n",
    "    if rolling == 'roll':\n",
    "        rolls_array = np.random.randint(min_value, max_value+1, size = (2,))\n",
    "        dice_sums = np.sum(rolls_array)\n",
    "        print (\"Dice sum:\", dice_sums)\n",
    "        sums_list.append(dice_sums)\n",
    "\n",
    "        if len(sums_list) > 1:\n",
    "            if (guess == 'higher' and (sums_list[-1] > sums_list[-2])) or \\\n",
    "               (guess == 'lower' and (sums_list[-1] < sums_list[-2])) or \\\n",
    "               (guess == 'equal' and (sums_list[-1] == sums_list[-2])):\n",
    "                print('Correct guess!\\n')\n",
    "                score += 1\n",
    "            else:\n",
    "                print('Incorrect guess!\\n')\n",
    "\n",
    "    else:\n",
    "        print('Please type \"roll\".')\n",
    "\n",
    "\n",
    "\n",
    "    print('\\nWill the next sum be higher, lower, or equal?')\n",
    "\n",
    "    guess = str(input()).strip().lower()\n",
    "\n",
    "    if guess not in [\"higher\", \"lower\", \"equal\"]:\n",
    "        print(\"Invalid input! Please enter 'higher', 'lower', or 'equal'.\")\n",
    "\n",
    "    num_of_rounds -= 1\n",
    "\n",
    "else:\n",
    "    print('\\nRounds exhausted! Come back later\\n')\n",
    "    print('View of dice rolls: ', sums_list)\n",
    "    print('Your total score:', score)"
   ]
  },
  {
   "cell_type": "markdown",
   "id": "77076f36-0823-4130-8d61-3cdef95ec7f6",
   "metadata": {},
   "source": [
    "**Note:**\n",
    "\n",
    "Whenever you enter \"roll\", the simulation kicks in by generating two random numbers between 1 and 6, and then sums it up before returning the results. It also keeps track of your score which is equal to the number of correct guesses you make."
   ]
  },
  {
   "cell_type": "code",
   "execution_count": null,
   "id": "078ee19d-3196-4286-9c63-1fba3ad001c8",
   "metadata": {},
   "outputs": [],
   "source": []
  }
 ],
 "metadata": {
  "kernelspec": {
   "display_name": "Python 3 (ipykernel)",
   "language": "python",
   "name": "python3"
  },
  "language_info": {
   "codemirror_mode": {
    "name": "ipython",
    "version": 3
   },
   "file_extension": ".py",
   "mimetype": "text/x-python",
   "name": "python",
   "nbconvert_exporter": "python",
   "pygments_lexer": "ipython3",
   "version": "3.9.7"
  }
 },
 "nbformat": 4,
 "nbformat_minor": 5
}
