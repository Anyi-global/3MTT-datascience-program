{
 "cells": [
  {
   "cell_type": "markdown",
   "id": "2751c6d3-8a07-4bd1-8328-0504f18a18c9",
   "metadata": {},
   "source": [
    "## DESCRIPTIVE STATISTICS"
   ]
  },
  {
   "cell_type": "markdown",
   "id": "71f9acdd-f7e0-4ae3-9e96-df8e52c32a3f",
   "metadata": {},
   "source": [
    "\n",
    "In this session we'll look at how to summarize and understand data using Python. Descriptive statistics provide simple summaries about the data, helping us understand its central tendency, variability, and overall distribution.\n",
    "\n",
    "Key Types of Descriptive Statistics:\n",
    "\n",
    "**Measures of Central Tendency:**\n",
    "- Mean: The average value.\n",
    "- Median: The middle value in sorted data.\n",
    "- Mode: The most frequently occurring value.\n",
    "\n",
    "**Measures of Dispersion:**\n",
    "- Range: Difference between the largest and smallest values.\n",
    "- Variance: Average of the squared deviations from the mean.\n",
    "- Standard Deviation: Square root of variance.\n",
    "- Interquartile Range (IQR): Spread of the middle 50% of the data."
   ]
  },
  {
   "cell_type": "code",
   "execution_count": 11,
   "id": "82ae5a82-3400-4362-bf2f-de569ec56ac3",
   "metadata": {},
   "outputs": [],
   "source": [
    "# importing libraries\n",
    "\n",
    "import pandas as pd\n",
    "import numpy as np\n",
    "import matplotlib.pyplot as plt\n",
    "import seaborn as sns"
   ]
  },
  {
   "cell_type": "code",
   "execution_count": 27,
   "id": "cfc5e011-42bf-4bda-8f80-fb01e724bbe0",
   "metadata": {},
   "outputs": [
    {
     "data": {
      "text/html": [
       "<div>\n",
       "<style scoped>\n",
       "    .dataframe tbody tr th:only-of-type {\n",
       "        vertical-align: middle;\n",
       "    }\n",
       "\n",
       "    .dataframe tbody tr th {\n",
       "        vertical-align: top;\n",
       "    }\n",
       "\n",
       "    .dataframe thead th {\n",
       "        text-align: right;\n",
       "    }\n",
       "</style>\n",
       "<table border=\"1\" class=\"dataframe\">\n",
       "  <thead>\n",
       "    <tr style=\"text-align: right;\">\n",
       "      <th></th>\n",
       "      <th>Unnamed: 0</th>\n",
       "      <th>species</th>\n",
       "      <th>island</th>\n",
       "      <th>bill_length_mm</th>\n",
       "      <th>bill_depth_mm</th>\n",
       "      <th>flipper_length_mm</th>\n",
       "      <th>body_mass_g</th>\n",
       "      <th>sex</th>\n",
       "      <th>year</th>\n",
       "    </tr>\n",
       "  </thead>\n",
       "  <tbody>\n",
       "    <tr>\n",
       "      <th>0</th>\n",
       "      <td>1</td>\n",
       "      <td>Adelie</td>\n",
       "      <td>Torgersen</td>\n",
       "      <td>39.1</td>\n",
       "      <td>18.7</td>\n",
       "      <td>181.0</td>\n",
       "      <td>3750.0</td>\n",
       "      <td>male</td>\n",
       "      <td>2007</td>\n",
       "    </tr>\n",
       "    <tr>\n",
       "      <th>1</th>\n",
       "      <td>2</td>\n",
       "      <td>Adelie</td>\n",
       "      <td>Torgersen</td>\n",
       "      <td>39.5</td>\n",
       "      <td>17.4</td>\n",
       "      <td>186.0</td>\n",
       "      <td>3800.0</td>\n",
       "      <td>female</td>\n",
       "      <td>2007</td>\n",
       "    </tr>\n",
       "    <tr>\n",
       "      <th>2</th>\n",
       "      <td>3</td>\n",
       "      <td>Adelie</td>\n",
       "      <td>Torgersen</td>\n",
       "      <td>40.3</td>\n",
       "      <td>18.0</td>\n",
       "      <td>195.0</td>\n",
       "      <td>3250.0</td>\n",
       "      <td>female</td>\n",
       "      <td>2007</td>\n",
       "    </tr>\n",
       "    <tr>\n",
       "      <th>3</th>\n",
       "      <td>4</td>\n",
       "      <td>Adelie</td>\n",
       "      <td>Torgersen</td>\n",
       "      <td>NaN</td>\n",
       "      <td>NaN</td>\n",
       "      <td>NaN</td>\n",
       "      <td>NaN</td>\n",
       "      <td>NaN</td>\n",
       "      <td>2007</td>\n",
       "    </tr>\n",
       "    <tr>\n",
       "      <th>4</th>\n",
       "      <td>5</td>\n",
       "      <td>Adelie</td>\n",
       "      <td>Torgersen</td>\n",
       "      <td>36.7</td>\n",
       "      <td>19.3</td>\n",
       "      <td>193.0</td>\n",
       "      <td>3450.0</td>\n",
       "      <td>female</td>\n",
       "      <td>2007</td>\n",
       "    </tr>\n",
       "  </tbody>\n",
       "</table>\n",
       "</div>"
      ],
      "text/plain": [
       "   Unnamed: 0 species     island  bill_length_mm  bill_depth_mm  \\\n",
       "0           1  Adelie  Torgersen            39.1           18.7   \n",
       "1           2  Adelie  Torgersen            39.5           17.4   \n",
       "2           3  Adelie  Torgersen            40.3           18.0   \n",
       "3           4  Adelie  Torgersen             NaN            NaN   \n",
       "4           5  Adelie  Torgersen            36.7           19.3   \n",
       "\n",
       "   flipper_length_mm  body_mass_g     sex  year  \n",
       "0              181.0       3750.0    male  2007  \n",
       "1              186.0       3800.0  female  2007  \n",
       "2              195.0       3250.0  female  2007  \n",
       "3                NaN          NaN     NaN  2007  \n",
       "4              193.0       3450.0  female  2007  "
      ]
     },
     "execution_count": 27,
     "metadata": {},
     "output_type": "execute_result"
    }
   ],
   "source": [
    "# load sample dataset\n",
    "df = pd.read_csv('penguins.csv')  # Seaborn's built-in dataset\n",
    "\n",
    "# Display the first few rows\n",
    "df.head()"
   ]
  },
  {
   "cell_type": "code",
   "execution_count": 13,
   "id": "f307f798-d941-4214-995e-3bee16347920",
   "metadata": {},
   "outputs": [
    {
     "name": "stdout",
     "output_type": "stream",
     "text": [
      "<class 'pandas.core.frame.DataFrame'>\n",
      "RangeIndex: 344 entries, 0 to 343\n",
      "Data columns (total 9 columns):\n",
      " #   Column             Non-Null Count  Dtype  \n",
      "---  ------             --------------  -----  \n",
      " 0   Unnamed: 0         344 non-null    int64  \n",
      " 1   species            344 non-null    object \n",
      " 2   island             344 non-null    object \n",
      " 3   bill_length_mm     342 non-null    float64\n",
      " 4   bill_depth_mm      342 non-null    float64\n",
      " 5   flipper_length_mm  342 non-null    float64\n",
      " 6   body_mass_g        342 non-null    float64\n",
      " 7   sex                333 non-null    object \n",
      " 8   year               344 non-null    int64  \n",
      "dtypes: float64(4), int64(2), object(3)\n",
      "memory usage: 24.3+ KB\n"
     ]
    }
   ],
   "source": [
    "df.info()"
   ]
  },
  {
   "cell_type": "code",
   "execution_count": 28,
   "id": "532a8eba-0e77-4ddd-b41d-e48e29d6e90d",
   "metadata": {},
   "outputs": [
    {
     "data": {
      "text/plain": [
       "Index(['Unnamed: 0', 'species', 'island', 'bill_length_mm', 'bill_depth_mm',\n",
       "       'flipper_length_mm', 'body_mass_g', 'sex', 'year'],\n",
       "      dtype='object')"
      ]
     },
     "execution_count": 28,
     "metadata": {},
     "output_type": "execute_result"
    }
   ],
   "source": [
    "df.columns"
   ]
  },
  {
   "cell_type": "code",
   "execution_count": 34,
   "id": "d9a00717-837a-4254-85dd-96942685fdec",
   "metadata": {},
   "outputs": [
    {
     "data": {
      "text/html": [
       "<div>\n",
       "<style scoped>\n",
       "    .dataframe tbody tr th:only-of-type {\n",
       "        vertical-align: middle;\n",
       "    }\n",
       "\n",
       "    .dataframe tbody tr th {\n",
       "        vertical-align: top;\n",
       "    }\n",
       "\n",
       "    .dataframe thead th {\n",
       "        text-align: right;\n",
       "    }\n",
       "</style>\n",
       "<table border=\"1\" class=\"dataframe\">\n",
       "  <thead>\n",
       "    <tr style=\"text-align: right;\">\n",
       "      <th></th>\n",
       "      <th>species</th>\n",
       "      <th>island</th>\n",
       "      <th>bill_length_mm</th>\n",
       "      <th>bill_depth_mm</th>\n",
       "      <th>flipper_length_mm</th>\n",
       "      <th>body_mass_g</th>\n",
       "      <th>sex</th>\n",
       "      <th>year</th>\n",
       "    </tr>\n",
       "  </thead>\n",
       "  <tbody>\n",
       "    <tr>\n",
       "      <th>0</th>\n",
       "      <td>Adelie</td>\n",
       "      <td>Torgersen</td>\n",
       "      <td>39.1</td>\n",
       "      <td>18.7</td>\n",
       "      <td>181.0</td>\n",
       "      <td>3750.0</td>\n",
       "      <td>male</td>\n",
       "      <td>2007</td>\n",
       "    </tr>\n",
       "    <tr>\n",
       "      <th>1</th>\n",
       "      <td>Adelie</td>\n",
       "      <td>Torgersen</td>\n",
       "      <td>39.5</td>\n",
       "      <td>17.4</td>\n",
       "      <td>186.0</td>\n",
       "      <td>3800.0</td>\n",
       "      <td>female</td>\n",
       "      <td>2007</td>\n",
       "    </tr>\n",
       "    <tr>\n",
       "      <th>2</th>\n",
       "      <td>Adelie</td>\n",
       "      <td>Torgersen</td>\n",
       "      <td>40.3</td>\n",
       "      <td>18.0</td>\n",
       "      <td>195.0</td>\n",
       "      <td>3250.0</td>\n",
       "      <td>female</td>\n",
       "      <td>2007</td>\n",
       "    </tr>\n",
       "    <tr>\n",
       "      <th>3</th>\n",
       "      <td>Adelie</td>\n",
       "      <td>Torgersen</td>\n",
       "      <td>NaN</td>\n",
       "      <td>NaN</td>\n",
       "      <td>NaN</td>\n",
       "      <td>NaN</td>\n",
       "      <td>NaN</td>\n",
       "      <td>2007</td>\n",
       "    </tr>\n",
       "    <tr>\n",
       "      <th>4</th>\n",
       "      <td>Adelie</td>\n",
       "      <td>Torgersen</td>\n",
       "      <td>36.7</td>\n",
       "      <td>19.3</td>\n",
       "      <td>193.0</td>\n",
       "      <td>3450.0</td>\n",
       "      <td>female</td>\n",
       "      <td>2007</td>\n",
       "    </tr>\n",
       "  </tbody>\n",
       "</table>\n",
       "</div>"
      ],
      "text/plain": [
       "  species     island  bill_length_mm  bill_depth_mm  flipper_length_mm  \\\n",
       "0  Adelie  Torgersen            39.1           18.7              181.0   \n",
       "1  Adelie  Torgersen            39.5           17.4              186.0   \n",
       "2  Adelie  Torgersen            40.3           18.0              195.0   \n",
       "3  Adelie  Torgersen             NaN            NaN                NaN   \n",
       "4  Adelie  Torgersen            36.7           19.3              193.0   \n",
       "\n",
       "   body_mass_g     sex  year  \n",
       "0       3750.0    male  2007  \n",
       "1       3800.0  female  2007  \n",
       "2       3250.0  female  2007  \n",
       "3          NaN     NaN  2007  \n",
       "4       3450.0  female  2007  "
      ]
     },
     "execution_count": 34,
     "metadata": {},
     "output_type": "execute_result"
    }
   ],
   "source": [
    "df.head()"
   ]
  },
  {
   "cell_type": "markdown",
   "id": "85ce93c5-1a75-4a69-bc57-3af7ed7cff7d",
   "metadata": {},
   "source": [
    "#### Measures of Central Tendency\n",
    "\n",
    "Measures of Central Tendency are statistical metrics that represent the \"center\" or \"middle\" of a dataset. They summarize a set of data by identifying a single value that best describes the data's central point, around which most data values are distributed.\n",
    "\n",
    "_Choosing the Right Measure_\n",
    "\n",
    "**Mean (AKA average):**\n",
    "- Best for symmetrical distributions (e.g., normal distributions).\n",
    "- Sensitive to outliers, which can skew the result.\n",
    "\n",
    "**Median (AKA middle number):**\n",
    "- Better for skewed distributions or datasets with outliers.\n",
    "- Represents the 50th percentile (middle value).\n",
    "\n",
    "**Mode (AKA highest occurence):**\n",
    "- Useful for categorical data or when identifying the most common value is important."
   ]
  },
  {
   "cell_type": "code",
   "execution_count": 36,
   "id": "cb94eb99-367d-4d77-a922-db971afbfa71",
   "metadata": {},
   "outputs": [
    {
     "name": "stdout",
     "output_type": "stream",
     "text": [
      "4177.325581395349\n"
     ]
    }
   ],
   "source": [
    "# finding the sum\n",
    "mass_sum = df['body_mass_g'].sum()\n",
    "\n",
    "# finding the count\n",
    "count_masses = len(df['body_mass_g'])  # this code counted the missing values as well\n",
    "\n",
    "average = mass_sum/count_masses\n",
    "print(average)"
   ]
  },
  {
   "cell_type": "code",
   "execution_count": 37,
   "id": "dfad5d46-3e75-446e-b1f0-abba93e089d1",
   "metadata": {},
   "outputs": [
    {
     "name": "stdout",
     "output_type": "stream",
     "text": [
      "Mean:\n",
      " bill_length_mm         43.921930\n",
      "bill_depth_mm          17.151170\n",
      "flipper_length_mm     200.915205\n",
      "body_mass_g          4201.754386\n",
      "year                 2008.029070\n",
      "dtype: float64\n"
     ]
    }
   ],
   "source": [
    "# Calculate mean of numerical columns\n",
    "# numeric_only=True --> this calculates the mean on numerical columns alone\n",
    "\n",
    "mean_values = df.mean(numeric_only=True)\n",
    "print(\"Mean:\\n\", mean_values)"
   ]
  },
  {
   "cell_type": "code",
   "execution_count": 38,
   "id": "ce0b112c-2abe-4c11-a2c8-a90c5ff0f1e6",
   "metadata": {},
   "outputs": [
    {
     "name": "stdout",
     "output_type": "stream",
     "text": [
      "Median: \n",
      " bill_length_mm         44.45\n",
      "bill_depth_mm          17.30\n",
      "flipper_length_mm     197.00\n",
      "body_mass_g          4050.00\n",
      "year                 2008.00\n",
      "dtype: float64\n"
     ]
    }
   ],
   "source": [
    "# Calculate the Median\n",
    "median_values = df.median(numeric_only=True)\n",
    "print(\"Median: \\n\", median_values)"
   ]
  },
  {
   "cell_type": "code",
   "execution_count": 40,
   "id": "d15e64ab-e58f-4bab-b5cb-61c60d28b6db",
   "metadata": {},
   "outputs": [
    {
     "name": "stdout",
     "output_type": "stream",
     "text": [
      "Mode: \n",
      "   species  island  bill_length_mm  bill_depth_mm  flipper_length_mm  \\\n",
      "0  Adelie  Biscoe            41.1           17.0              190.0   \n",
      "\n",
      "   body_mass_g   sex  year  \n",
      "0       3800.0  male  2009  \n"
     ]
    }
   ],
   "source": [
    "# Calculate the Mode\n",
    "mode_values = df.mode()\n",
    "print(\"Mode: \\n\", mode_values)"
   ]
  },
  {
   "cell_type": "code",
   "execution_count": 41,
   "id": "cd1e09d3-9b01-4768-b6fd-a889456bb664",
   "metadata": {},
   "outputs": [
    {
     "data": {
      "text/plain": [
       "sex\n",
       "male      168\n",
       "female    165\n",
       "Name: count, dtype: int64"
      ]
     },
     "execution_count": 41,
     "metadata": {},
     "output_type": "execute_result"
    }
   ],
   "source": [
    "df['sex'].value_counts()"
   ]
  },
  {
   "cell_type": "markdown",
   "id": "c6fdae2e-ad50-4c26-af8e-b9c18f5ce453",
   "metadata": {},
   "source": [
    "#### Measures of Dispersion\n",
    "\n",
    "Measures of Dispersion are statistical metrics that describe how spread out or scattered the data values are around the central tendency (e.g., mean, median). While measures of central tendency (like mean and median) summarize the \"center\" of the data, measures of dispersion tell us about the variability, range, and distribution of the data.\n",
    "\n",
    "**When to Use Measures of Dispersion**\n",
    "\n",
    "- Range: For quick insights into total variability.\n",
    "- InterQuartile Range (IQR): To analyze variability without being affected by outliers.\n",
    "- Variance and Standard Deviation: For detailed variability in the same units as the data."
   ]
  },
  {
   "cell_type": "code",
   "execution_count": 45,
   "id": "10e2ef76-61a4-47bb-8b7f-0255bb180e8c",
   "metadata": {},
   "outputs": [
    {
     "data": {
      "text/html": [
       "<div>\n",
       "<style scoped>\n",
       "    .dataframe tbody tr th:only-of-type {\n",
       "        vertical-align: middle;\n",
       "    }\n",
       "\n",
       "    .dataframe tbody tr th {\n",
       "        vertical-align: top;\n",
       "    }\n",
       "\n",
       "    .dataframe thead th {\n",
       "        text-align: right;\n",
       "    }\n",
       "</style>\n",
       "<table border=\"1\" class=\"dataframe\">\n",
       "  <thead>\n",
       "    <tr style=\"text-align: right;\">\n",
       "      <th></th>\n",
       "      <th>bill_length_mm</th>\n",
       "      <th>bill_depth_mm</th>\n",
       "      <th>flipper_length_mm</th>\n",
       "      <th>body_mass_g</th>\n",
       "      <th>year</th>\n",
       "    </tr>\n",
       "  </thead>\n",
       "  <tbody>\n",
       "    <tr>\n",
       "      <th>count</th>\n",
       "      <td>342.000000</td>\n",
       "      <td>342.000000</td>\n",
       "      <td>342.000000</td>\n",
       "      <td>342.000000</td>\n",
       "      <td>344.000000</td>\n",
       "    </tr>\n",
       "    <tr>\n",
       "      <th>mean</th>\n",
       "      <td>43.921930</td>\n",
       "      <td>17.151170</td>\n",
       "      <td>200.915205</td>\n",
       "      <td>4201.754386</td>\n",
       "      <td>2008.029070</td>\n",
       "    </tr>\n",
       "    <tr>\n",
       "      <th>std</th>\n",
       "      <td>5.459584</td>\n",
       "      <td>1.974793</td>\n",
       "      <td>14.061714</td>\n",
       "      <td>801.954536</td>\n",
       "      <td>0.818356</td>\n",
       "    </tr>\n",
       "    <tr>\n",
       "      <th>min</th>\n",
       "      <td>32.100000</td>\n",
       "      <td>13.100000</td>\n",
       "      <td>172.000000</td>\n",
       "      <td>2700.000000</td>\n",
       "      <td>2007.000000</td>\n",
       "    </tr>\n",
       "    <tr>\n",
       "      <th>25%</th>\n",
       "      <td>39.225000</td>\n",
       "      <td>15.600000</td>\n",
       "      <td>190.000000</td>\n",
       "      <td>3550.000000</td>\n",
       "      <td>2007.000000</td>\n",
       "    </tr>\n",
       "    <tr>\n",
       "      <th>50%</th>\n",
       "      <td>44.450000</td>\n",
       "      <td>17.300000</td>\n",
       "      <td>197.000000</td>\n",
       "      <td>4050.000000</td>\n",
       "      <td>2008.000000</td>\n",
       "    </tr>\n",
       "    <tr>\n",
       "      <th>75%</th>\n",
       "      <td>48.500000</td>\n",
       "      <td>18.700000</td>\n",
       "      <td>213.000000</td>\n",
       "      <td>4750.000000</td>\n",
       "      <td>2009.000000</td>\n",
       "    </tr>\n",
       "    <tr>\n",
       "      <th>max</th>\n",
       "      <td>59.600000</td>\n",
       "      <td>21.500000</td>\n",
       "      <td>231.000000</td>\n",
       "      <td>6300.000000</td>\n",
       "      <td>2009.000000</td>\n",
       "    </tr>\n",
       "  </tbody>\n",
       "</table>\n",
       "</div>"
      ],
      "text/plain": [
       "       bill_length_mm  bill_depth_mm  flipper_length_mm  body_mass_g  \\\n",
       "count      342.000000     342.000000         342.000000   342.000000   \n",
       "mean        43.921930      17.151170         200.915205  4201.754386   \n",
       "std          5.459584       1.974793          14.061714   801.954536   \n",
       "min         32.100000      13.100000         172.000000  2700.000000   \n",
       "25%         39.225000      15.600000         190.000000  3550.000000   \n",
       "50%         44.450000      17.300000         197.000000  4050.000000   \n",
       "75%         48.500000      18.700000         213.000000  4750.000000   \n",
       "max         59.600000      21.500000         231.000000  6300.000000   \n",
       "\n",
       "              year  \n",
       "count   344.000000  \n",
       "mean   2008.029070  \n",
       "std       0.818356  \n",
       "min    2007.000000  \n",
       "25%    2007.000000  \n",
       "50%    2008.000000  \n",
       "75%    2009.000000  \n",
       "max    2009.000000  "
      ]
     },
     "execution_count": 45,
     "metadata": {},
     "output_type": "execute_result"
    }
   ],
   "source": [
    "df.describe()"
   ]
  },
  {
   "cell_type": "code",
   "execution_count": 46,
   "id": "e3772e87-fb1d-4944-aa89-a2fb01ce1ee0",
   "metadata": {},
   "outputs": [
    {
     "data": {
      "text/plain": [
       "bill_length_mm         59.6\n",
       "bill_depth_mm          21.5\n",
       "flipper_length_mm     231.0\n",
       "body_mass_g          6300.0\n",
       "year                 2009.0\n",
       "dtype: float64"
      ]
     },
     "execution_count": 46,
     "metadata": {},
     "output_type": "execute_result"
    }
   ],
   "source": [
    "# Find the maximum in each of the numerical columns\n",
    "df.max(numeric_only=True)"
   ]
  },
  {
   "cell_type": "code",
   "execution_count": 47,
   "id": "ecf9db6e-45e9-49a7-9579-69e96a5374c0",
   "metadata": {},
   "outputs": [
    {
     "data": {
      "text/plain": [
       "bill_length_mm         32.1\n",
       "bill_depth_mm          13.1\n",
       "flipper_length_mm     172.0\n",
       "body_mass_g          2700.0\n",
       "year                 2007.0\n",
       "dtype: float64"
      ]
     },
     "execution_count": 47,
     "metadata": {},
     "output_type": "execute_result"
    }
   ],
   "source": [
    "# Find the minimum value in each of the numerical columns\n",
    "df.min(numeric_only=True)"
   ]
  },
  {
   "cell_type": "code",
   "execution_count": 48,
   "id": "64ae1eb3-d380-4192-9093-a8606ab55749",
   "metadata": {},
   "outputs": [
    {
     "name": "stdout",
     "output_type": "stream",
     "text": [
      "Range:\n",
      " bill_length_mm         27.5\n",
      "bill_depth_mm           8.4\n",
      "flipper_length_mm      59.0\n",
      "body_mass_g          3600.0\n",
      "year                    2.0\n",
      "dtype: float64\n"
     ]
    }
   ],
   "source": [
    "# Calculate the Range (The maximum value - The minimum value)\n",
    "df_range = df.max(numeric_only=True) - df.min(numeric_only=True)\n",
    "print(\"Range:\\n\", df_range)"
   ]
  },
  {
   "cell_type": "code",
   "execution_count": 49,
   "id": "403895eb-bc0f-4f33-b7ae-a5539616538f",
   "metadata": {},
   "outputs": [
    {
     "name": "stdout",
     "output_type": "stream",
     "text": [
      "Variance:\n",
      " bill_length_mm           29.807054\n",
      "bill_depth_mm             3.899808\n",
      "flipper_length_mm       197.731792\n",
      "body_mass_g          643131.077327\n",
      "year                      0.669706\n",
      "dtype: float64\n"
     ]
    }
   ],
   "source": [
    "# Calculate Variance\n",
    "variance_values = df.var(numeric_only=True)\n",
    "print(\"Variance:\\n\", variance_values)"
   ]
  },
  {
   "cell_type": "code",
   "execution_count": 50,
   "id": "dd4a241e-fafa-48d3-960b-e2f9f5af42bb",
   "metadata": {},
   "outputs": [
    {
     "name": "stdout",
     "output_type": "stream",
     "text": [
      "Standard Deviation:\n",
      " bill_length_mm         5.459584\n",
      "bill_depth_mm          1.974793\n",
      "flipper_length_mm     14.061714\n",
      "body_mass_g          801.954536\n",
      "year                   0.818356\n",
      "dtype: float64\n"
     ]
    }
   ],
   "source": [
    "# Calculate the standard deviation\n",
    "std_values = df.std(numeric_only=True)\n",
    "print(\"Standard Deviation:\\n\", std_values)"
   ]
  },
  {
   "cell_type": "code",
   "execution_count": 51,
   "id": "a4e500d8-0818-436c-8be9-77b97e11a6bb",
   "metadata": {},
   "outputs": [
    {
     "name": "stdout",
     "output_type": "stream",
     "text": [
      "Interquartile Range (IQR):\n",
      " bill_length_mm          9.275\n",
      "bill_depth_mm           3.100\n",
      "flipper_length_mm      23.000\n",
      "body_mass_g          1200.000\n",
      "year                    2.000\n",
      "dtype: float64\n"
     ]
    }
   ],
   "source": [
    "# Calculate IQR\n",
    "\n",
    "# Select only numeric columns\n",
    "numeric_data = df.select_dtypes(include='number')\n",
    "\n",
    "Q1 = numeric_data.quantile(0.25)  # 0.25 is the same thing as 25% = 25/100\n",
    "Q3 = numeric_data.quantile(0.75)  # 0.75 is the same thing as 75% = 75/100\n",
    "\n",
    "IQR = Q3 - Q1\n",
    "\n",
    "print(\"Interquartile Range (IQR):\\n\", IQR)"
   ]
  },
  {
   "cell_type": "code",
   "execution_count": 52,
   "id": "d47fb4c9-3c5c-4d67-a1d9-0e7782c065d5",
   "metadata": {},
   "outputs": [
    {
     "data": {
      "text/html": [
       "<div>\n",
       "<style scoped>\n",
       "    .dataframe tbody tr th:only-of-type {\n",
       "        vertical-align: middle;\n",
       "    }\n",
       "\n",
       "    .dataframe tbody tr th {\n",
       "        vertical-align: top;\n",
       "    }\n",
       "\n",
       "    .dataframe thead th {\n",
       "        text-align: right;\n",
       "    }\n",
       "</style>\n",
       "<table border=\"1\" class=\"dataframe\">\n",
       "  <thead>\n",
       "    <tr style=\"text-align: right;\">\n",
       "      <th></th>\n",
       "      <th>bill_length_mm</th>\n",
       "      <th>bill_depth_mm</th>\n",
       "      <th>flipper_length_mm</th>\n",
       "      <th>body_mass_g</th>\n",
       "      <th>year</th>\n",
       "    </tr>\n",
       "  </thead>\n",
       "  <tbody>\n",
       "    <tr>\n",
       "      <th>0</th>\n",
       "      <td>39.1</td>\n",
       "      <td>18.7</td>\n",
       "      <td>181.0</td>\n",
       "      <td>3750.0</td>\n",
       "      <td>2007</td>\n",
       "    </tr>\n",
       "    <tr>\n",
       "      <th>1</th>\n",
       "      <td>39.5</td>\n",
       "      <td>17.4</td>\n",
       "      <td>186.0</td>\n",
       "      <td>3800.0</td>\n",
       "      <td>2007</td>\n",
       "    </tr>\n",
       "    <tr>\n",
       "      <th>2</th>\n",
       "      <td>40.3</td>\n",
       "      <td>18.0</td>\n",
       "      <td>195.0</td>\n",
       "      <td>3250.0</td>\n",
       "      <td>2007</td>\n",
       "    </tr>\n",
       "    <tr>\n",
       "      <th>3</th>\n",
       "      <td>NaN</td>\n",
       "      <td>NaN</td>\n",
       "      <td>NaN</td>\n",
       "      <td>NaN</td>\n",
       "      <td>2007</td>\n",
       "    </tr>\n",
       "    <tr>\n",
       "      <th>4</th>\n",
       "      <td>36.7</td>\n",
       "      <td>19.3</td>\n",
       "      <td>193.0</td>\n",
       "      <td>3450.0</td>\n",
       "      <td>2007</td>\n",
       "    </tr>\n",
       "  </tbody>\n",
       "</table>\n",
       "</div>"
      ],
      "text/plain": [
       "   bill_length_mm  bill_depth_mm  flipper_length_mm  body_mass_g  year\n",
       "0            39.1           18.7              181.0       3750.0  2007\n",
       "1            39.5           17.4              186.0       3800.0  2007\n",
       "2            40.3           18.0              195.0       3250.0  2007\n",
       "3             NaN            NaN                NaN          NaN  2007\n",
       "4            36.7           19.3              193.0       3450.0  2007"
      ]
     },
     "execution_count": 52,
     "metadata": {},
     "output_type": "execute_result"
    }
   ],
   "source": [
    "numeric_data.head()"
   ]
  },
  {
   "cell_type": "markdown",
   "id": "a11f4ddc-812d-4e13-848a-88e9b19f1fa8",
   "metadata": {},
   "source": [
    "## Analyzing relationships between variables: Measures of Association\n",
    "\n",
    "Measures of association quantify the relationship between two variables. They tell us whether and how two variables are related. It is divided into two- covariance and correlaion.\n",
    "\n",
    "Key measures of association include:\n",
    "\n",
    "1. Covariance: Describes the direction of the relationship.\n",
    "2. Correlation:\n",
    "Under this we have two types:\n",
    "\n",
    "- Pearson Correlation: Measures the strength and direction of a linear relationship.\n",
    "- Spearman Correlation: Measures the strength and direction of a monotonic\n",
    "(something that is not necessarily linear) relationship.\n",
    "\n",
    "\n",
    "**1. Covariance**\n",
    "\n",
    "Covariance measures how two variables change together. It indicates the **direction of the relationship but not the strength**.\n",
    "\n",
    "- A positive covariance means that as one variable increases, the other tends to increase.\n",
    "- A negative covariance means that as one variable increases, the other tends to decrease.\n",
    "- A covariance close to 0 indicates no relationship.\n",
    "\n",
    "Example: Let’s say we have two variables: hours of study and exam scores.\n",
    "- If study time increases, exam scores also increase, the covariance will be positive.\n",
    "- If more study time leads to lower scores, the covariance will be negative.\n",
    "- If study time has no effect on scores, the covariance will be close to zero.\n",
    "\n",
    "Formula:\n",
    "\n",
    "$${Cov}(X, Y) = \\frac{\\sum (X_i - \\bar{X})(Y_i - \\bar{Y})}{n - 1}$$\n",
    "\n",
    "- $( X_i)$: Data points of variable ( X )  \n",
    "- $( Y_i)$: Data points of variable ( Y )  \n",
    "- $( \\bar{X})$: Mean of (X )\n",
    "- $( \\bar{Y})$: Mean of (Y)\n",
    "- $(n)$: Number of data points\n",
    "\n",
    "\n",
    "Limitations:\n",
    "\n",
    "It is difficult to interpret directly because its value depends on the scale of the variables. For instance, if one variable is measured in dollars and the other in kilometers, the covariance won’t be very meaningful.\n",
    "\n",
    "\n",
    "**Correlation**\n",
    "\n",
    "Correlation is a more standardized measure of the relationship between two variables. It tells you how strongly and in what direction the variables are related, but it scales the relationship to a range between -1 and 1:\n",
    "\n",
    "- A correlation of 1 means a perfect positive relationship (as one variable increases, the other also increases proportionally).\n",
    "- A correlation of -1 means a perfect negative relationship (as one variable increases, the other decreases proportionally).\n",
    "- A correlation of 0 means no relationship at all.\n",
    "\n",
    "Example:\n",
    "- If more hours of study strongly lead to higher exam scores, you might get a correlation close to 1.\n",
    "- If more hours of study somehow lead to lower exam scores, the correlation might be close to -1.\n",
    "- If study time has no effect, the correlation will be around 0.\n",
    "\n",
    "## Difference between correlation and covariance:\n",
    "\n",
    "While covariance tells you the direction of the relationship, correlation also tells you the strength of the relationship in a clear, understandable way (between -1 and 1). Correlation removes the issue of different units, making it easier to compare relationships between variables.\n",
    "\n",
    "\n",
    "**2. Pearson Correlation Coefficient**\n",
    "\n",
    "The Pearson correlation coefficient (r) **measures the strength and direction** of a linear relationship between two variables. It is a normalized version of covariance and ranges from -1 to 1.\n",
    "\n",
    "- $r=+1$: Perfect positive linear relationship.\n",
    "- $r=−1$: Perfect negative linear relationship.\n",
    "- $r=0$: No linear relationship.\n",
    "\n",
    "Formula:\n",
    "\n",
    "$$\n",
    "r = \\frac{\\text{Cov}(X, Y)}{\\sigma_X \\sigma_Y}$$\n",
    "\n",
    "- $\\text{Cov}(X, Y)$: Covariance of (X) and (Y).\n",
    "- $r$: The Pearson correlation coefficient.\n",
    "- $\\sigma_X$: The individual data points of variables X and Y.\n",
    "- $\\sigma_Y$: The means of X and Y.\n",
    "\n",
    "**3. Spearman Rank Correlation**\n",
    "\n",
    "The Spearman correlation coefficient (ρ) measures the strength and direction of a monotonic relationship (not necessarily linear). It uses the ranks of the data rather than their actual values. In the Spearman Rank Correlation, ranks refer to the positions of values in sorted order within each dataset. Instead of using the raw values, Spearman Correlation works on their ranked positions to measure the strength and direction of a monotonic relationship between two variables.\n",
    "\n",
    "- Suitable for non-linear but monotonic relationships.\n",
    "- Less sensitive to outliers than Pearson correlation.\n",
    "\n",
    "Formula:\n",
    "\n",
    "$$\n",
    "\\rho = 1 - \\frac{6 \\sum d_i^2}{n(n^2 - 1)}$$\n",
    "\n",
    "- $(d_i)$ is the difference between the ranks of the \\(i\\)-th observation in \\( X \\) and \\( Y \\).\n",
    "- $(n)$ is the number of observations."
   ]
  },
  {
   "cell_type": "code",
   "execution_count": 54,
   "id": "cd074a25-3145-4f52-9551-2a9b0f76de57",
   "metadata": {},
   "outputs": [
    {
     "name": "stdout",
     "output_type": "stream",
     "text": [
      "Covariance: 5.0\n"
     ]
    }
   ],
   "source": [
    "# Covariance\n",
    "import numpy as np\n",
    "\n",
    "# Example data\n",
    "x = [1, 2, 3, 4, 5]\n",
    "y = [2, 4, 6, 8, 10]\n",
    "\n",
    "# Calculate covariance\n",
    "covariance = np.cov(x,y)[0,1]  # Extracts the covariance value\n",
    "print(\"Covariance:\", covariance)"
   ]
  },
  {
   "cell_type": "markdown",
   "id": "cbb59d98-55e9-469f-9284-e76d165811fb",
   "metadata": {},
   "source": [
    "**How is this?🤔** Let's break it down.\n",
    "\n",
    "First, we know that:\n",
    "\n",
    "`x`: Independent variable (e.g., input values).\n",
    "\n",
    "`y`: Dependent variable, linearly dependent on x (y=2x).\n",
    "\n",
    "Next, the Covariance Matrix is calculated:\n",
    "\n",
    "`np.cov(x, y)` computes the covariance matrix for x and y.\n",
    "\n",
    "A covariance matrix is a 2x2 matrix where:\n",
    "\n",
    "- Element [0,0][0,0]: Variance of x.\n",
    "- Element [1,1][1,1]: Variance of y.\n",
    "- Element [0,1][0,1] or [1,0][1,0]: Covariance between x and y.\n",
    "\n",
    "In covariance we have three options:\n",
    "We can either calculate the covariance\n",
    "- For x\n",
    "- For y\n",
    "- Between x and y\n",
    "\n",
    "$$\n",
    "\\text{Covariance Matrix} =\n",
    "\\begin{bmatrix}\n",
    "\\text{Var}(x) & \\text{Cov}(x, y) \\\\\n",
    "\\text{Cov}(y, x) & \\text{Var}(y)\n",
    "\\end{bmatrix}\n",
    "$$\n",
    "\n",
    "Now, the Covariance Value is calculated:\n",
    "\n",
    "`covariance = np.cov(x, y)[0, 1]`\n",
    "\n",
    "Covariance Matrix Output:\n",
    "\n",
    "If you print `np.cov(x, y)`:"
   ]
  },
  {
   "cell_type": "code",
   "execution_count": 56,
   "id": "f9f6e80f-b905-4f6b-96c5-4cdf9db32c53",
   "metadata": {},
   "outputs": [
    {
     "name": "stdout",
     "output_type": "stream",
     "text": [
      "[[ 2.5  5. ]\n",
      " [ 5.  10. ]]\n"
     ]
    }
   ],
   "source": [
    "print(np.cov(x, y))"
   ]
  },
  {
   "cell_type": "markdown",
   "id": "f279a794-c549-4017-b0c9-7b581bcbd6dc",
   "metadata": {},
   "source": [
    "Where:\n",
    "\n",
    "- Variance of x: 2.5 (at position [0,0][0,0]).\n",
    "- Variance of y: 10.0 (at position [1,1][1,1]).\n",
    "- Covariance of x and y: 5.0 (at positions [0,1][0,1] and [1,0][1,0]).\n",
    "\n",
    "Covariance Value:\n",
    "\n",
    "The extracted covariance value is 5.0.\n",
    "\n",
    "\n",
    "**Interpretation of the Result**\n",
    "\n",
    "- The covariance of 5.0 is positive, indicating a positive relationship between x and y (as x increases, y also increases).\n",
    "- The magnitude of the covariance value depends on the units of x and y, so it doesn’t give a standardized measure of the strength of the relationship. For a normalized measure, you would use the Pearson correlation coefficient."
   ]
  },
  {
   "cell_type": "code",
   "execution_count": 58,
   "id": "f01d524d-98af-4c7b-bcac-b8520e61c0c8",
   "metadata": {},
   "outputs": [
    {
     "name": "stdout",
     "output_type": "stream",
     "text": [
      "Pearson Correlation Coefficient:  1.0\n"
     ]
    }
   ],
   "source": [
    "# Pearson Correlation Coefficient\n",
    "# Pearson uses a different library called \"scipy\"\n",
    "from scipy.stats import pearsonr\n",
    "\n",
    "# Example data\n",
    "x = [1, 2, 3, 4, 5]\n",
    "y = [2, 4, 6, 8, 10]\n",
    "\n",
    "# Calculate Pearson correlation\n",
    "pearson_corr, _ = pearsonr(x, y)\n",
    "print(\"Pearson Correlation Coefficient: \", pearson_corr)"
   ]
  },
  {
   "cell_type": "markdown",
   "id": "9508472e-42f6-4594-8956-5b91d09c8f5b",
   "metadata": {},
   "source": [
    "Interpretation of the Output\n",
    "\n",
    "- Pearson Correlation Coefficient (r = 1.0):\n",
    "\n",
    "The value r=1.0 confirms that x and y have a perfect positive linear relationship. As x increases, y increases proportionally."
   ]
  },
  {
   "cell_type": "code",
   "execution_count": 59,
   "id": "1c97beab-b2e2-42a6-994b-fdfc86f251a0",
   "metadata": {},
   "outputs": [
    {
     "data": {
      "text/html": [
       "<div>\n",
       "<style scoped>\n",
       "    .dataframe tbody tr th:only-of-type {\n",
       "        vertical-align: middle;\n",
       "    }\n",
       "\n",
       "    .dataframe tbody tr th {\n",
       "        vertical-align: top;\n",
       "    }\n",
       "\n",
       "    .dataframe thead th {\n",
       "        text-align: right;\n",
       "    }\n",
       "</style>\n",
       "<table border=\"1\" class=\"dataframe\">\n",
       "  <thead>\n",
       "    <tr style=\"text-align: right;\">\n",
       "      <th></th>\n",
       "      <th>bill_length_mm</th>\n",
       "      <th>bill_depth_mm</th>\n",
       "      <th>flipper_length_mm</th>\n",
       "      <th>body_mass_g</th>\n",
       "      <th>year</th>\n",
       "    </tr>\n",
       "  </thead>\n",
       "  <tbody>\n",
       "    <tr>\n",
       "      <th>bill_length_mm</th>\n",
       "      <td>1.000000</td>\n",
       "      <td>-0.235053</td>\n",
       "      <td>0.656181</td>\n",
       "      <td>0.595110</td>\n",
       "      <td>0.054545</td>\n",
       "    </tr>\n",
       "    <tr>\n",
       "      <th>bill_depth_mm</th>\n",
       "      <td>-0.235053</td>\n",
       "      <td>1.000000</td>\n",
       "      <td>-0.583851</td>\n",
       "      <td>-0.471916</td>\n",
       "      <td>-0.060354</td>\n",
       "    </tr>\n",
       "    <tr>\n",
       "      <th>flipper_length_mm</th>\n",
       "      <td>0.656181</td>\n",
       "      <td>-0.583851</td>\n",
       "      <td>1.000000</td>\n",
       "      <td>0.871202</td>\n",
       "      <td>0.169675</td>\n",
       "    </tr>\n",
       "    <tr>\n",
       "      <th>body_mass_g</th>\n",
       "      <td>0.595110</td>\n",
       "      <td>-0.471916</td>\n",
       "      <td>0.871202</td>\n",
       "      <td>1.000000</td>\n",
       "      <td>0.042209</td>\n",
       "    </tr>\n",
       "    <tr>\n",
       "      <th>year</th>\n",
       "      <td>0.054545</td>\n",
       "      <td>-0.060354</td>\n",
       "      <td>0.169675</td>\n",
       "      <td>0.042209</td>\n",
       "      <td>1.000000</td>\n",
       "    </tr>\n",
       "  </tbody>\n",
       "</table>\n",
       "</div>"
      ],
      "text/plain": [
       "                   bill_length_mm  bill_depth_mm  flipper_length_mm  \\\n",
       "bill_length_mm           1.000000      -0.235053           0.656181   \n",
       "bill_depth_mm           -0.235053       1.000000          -0.583851   \n",
       "flipper_length_mm        0.656181      -0.583851           1.000000   \n",
       "body_mass_g              0.595110      -0.471916           0.871202   \n",
       "year                     0.054545      -0.060354           0.169675   \n",
       "\n",
       "                   body_mass_g      year  \n",
       "bill_length_mm        0.595110  0.054545  \n",
       "bill_depth_mm        -0.471916 -0.060354  \n",
       "flipper_length_mm     0.871202  0.169675  \n",
       "body_mass_g           1.000000  0.042209  \n",
       "year                  0.042209  1.000000  "
      ]
     },
     "execution_count": 59,
     "metadata": {},
     "output_type": "execute_result"
    }
   ],
   "source": [
    "numeric_data.corr()"
   ]
  },
  {
   "cell_type": "markdown",
   "id": "72cf1ddb-017f-4b6a-981b-912297bdb61e",
   "metadata": {},
   "source": [
    "The numeric_data.corr() method in pandas calculates the pairwise correlation coefficients between all numeric columns in a DataFrame. By default, it computes the Pearson correlation coefficient."
   ]
  },
  {
   "cell_type": "code",
   "execution_count": 60,
   "id": "9de1bb02-7ef9-4107-ae1b-da7ef2f0a850",
   "metadata": {},
   "outputs": [
    {
     "name": "stdout",
     "output_type": "stream",
     "text": [
      "Spearman Correlation Coefficient:  0.9999999999999999\n"
     ]
    }
   ],
   "source": [
    "# Spearman Rank Correlation\n",
    "from scipy.stats import spearmanr\n",
    "\n",
    "# Example data\n",
    "x = [1, 2, 3, 4, 5]\n",
    "y = [2, 4, 6, 8, 10]\n",
    "\n",
    "# Calculate Spearman correlation\n",
    "spearman_corr, _ = spearmanr(x, y)\n",
    "print(\"Spearman Correlation Coefficient: \", spearman_corr)"
   ]
  },
  {
   "cell_type": "code",
   "execution_count": null,
   "id": "f9766c6b-944d-441b-845d-8a11edfab44f",
   "metadata": {},
   "outputs": [],
   "source": []
  }
 ],
 "metadata": {
  "kernelspec": {
   "display_name": "Python 3 (ipykernel)",
   "language": "python",
   "name": "python3"
  },
  "language_info": {
   "codemirror_mode": {
    "name": "ipython",
    "version": 3
   },
   "file_extension": ".py",
   "mimetype": "text/x-python",
   "name": "python",
   "nbconvert_exporter": "python",
   "pygments_lexer": "ipython3",
   "version": "3.12.2"
  }
 },
 "nbformat": 4,
 "nbformat_minor": 5
}
