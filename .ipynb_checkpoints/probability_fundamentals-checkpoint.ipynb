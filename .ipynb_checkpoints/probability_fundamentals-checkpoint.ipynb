{
 "cells": [
  {
   "cell_type": "markdown",
   "id": "44cdfa30-9f67-4f53-b6a1-f799bd621f9b",
   "metadata": {},
   "source": [
    "## PROBABILITY FUNDAMENTALS"
   ]
  },
  {
   "cell_type": "markdown",
   "id": "f725c29a-7a5c-49f1-9d1e-0bfc94caee47",
   "metadata": {},
   "source": [
    "# Probability for Data Science\n",
    "\n",
    "![Probability](https://drive.google.com/uc?export=view&id=1zlkvV68JIE0-L9ZIXuXJYi2wAyOrUd3P)\n",
    "\n",
    "\n",
    "Probability is a crucial part of data science. It helps us make informed guesses and understand patterns in data, which is important for decision-making, prediction, and understanding uncertainty in our models. This guide will introduce you to the basic concepts of probability, explained in simple terms, and show how they relate to data science.\n",
    "\n",
    "\n",
    "## What is Probability?\n",
    "\n",
    "Probability measures how likely something is to happen. It is represented as a number between 0 and 1, where:\n",
    "- 0 means an event will never happen (impossible),\n",
    "- 1 means an event will always happen (certain).\n",
    "\n",
    "In data science, probability helps us deal with uncertainity in data and make predictions.\n",
    "\n",
    "**Example**:\n",
    "The probability of flipping a coin and it landing on heads is 0.5 (or 50%), because there are two equally likely outcomes: heads or tails.\n",
    "\n",
    "\n",
    "\n",
    "## Terminologies in Probability\n",
    "\n",
    "a. **Experiment**\n",
    "An experiment is any process that can be repeated, where the outcome is uncertain. Examples include flipping a coin, rolling a dice, or running a machine learning model.\n",
    "\n",
    "b. **Outcome**\n",
    "An outcome is a possible result of an experiment. For example, if you roll a dice, an outcome might be getting a 4.\n",
    "\n",
    "c. **Event**\n",
    "An event is a collection of outcomes. For example, rolling an even number on a dice (2, 4, or 6) is an event.\n",
    "\n",
    "d. **Sample Space**\n",
    "The sample space is the set of all possible outcomes of an experiment. For a coin flip, the sample space is {Heads, Tails}. For rolling a dice, the sample space is {1, 2, 3, 4, 5, 6}.\n",
    "\n",
    "\n",
    "\n",
    "## Types of Probability\n",
    "\n",
    "a. **Theoretical Probability**\n",
    "Theoretical probability is based on reasoning. It's what we expect to happen in an ideal world.\n",
    "\n",
    "**Formula**:\n",
    "$$\n",
    "P(A) = \\frac{Number \\ of \\ favorable \\ outcomes}{Total \\ number \\ of \\ outcomes}\n",
    "$$\n",
    "\n",
    "**Example**:\n",
    "The probability of rolling a 3 on a dice is:\n",
    "$$\n",
    "P(3) = \\frac{1}{6}\n",
    "$$\n",
    "There’s 1 favorable outcome (rolling a 3) out of 6 possible outcomes.\n",
    "\n",
    "b. **Experimental Probability**\n",
    "Experimental probability is based on actual experiments and real-world data. It’s calculated by conducting experiments and recording the outcomes.\n",
    "\n",
    "**Formula**:\n",
    "$$P(A) = \\frac {Number \\ of \\ times \\ event \\ occurs}{Total \\ number \\ of \\ trials}$$\n",
    "\n",
    "**Example**:\n",
    "If you roll a dice 100 times and you get a 3 twenty times, then the experimental probability of rolling a 3 is:\n",
    "$$\n",
    "P(3) = \\frac{20}{100} = 0.2\n",
    "$$\n",
    "\n",
    "\n",
    "\n",
    "## Probability Rules\n",
    "\n",
    "a. **Addition Rule**\n",
    "\n",
    "If two events are **mutually exclusive** (they cannot happen at the same time), the probability of either event happening is the sum of their individual probabilities.\n",
    "\n",
    "It either you're jumping or standing, or it is either raining or not raining. These two things cannot happen at the same time.\n",
    "\n",
    "**Formula**:\n",
    "$$\n",
    "P(A \\ or \\ B) = P(A) + P(B)\n",
    "$$\n",
    "\n",
    "**Example**:\n",
    "The probability of rolling a 1 or a 2 on a dice is:\n",
    "$$\n",
    "P(1 \\ or \\ 2) = \\frac{1}{6} + \\frac{1}{6} = \\frac{2}{6} = \\frac{1}{3}\n",
    "$$\n",
    "\n",
    "b. **Multiplication Rule**\n",
    "\n",
    "If two events are **independent** (the outcome of one event does not affect the other), the probability of both events happening is the product of their individual probabilities.\n",
    "\n",
    "**Formula**:\n",
    "$$\n",
    "P(A \\ and \\ B) = P(A) \\ * \\ P(B)\n",
    "$$\n",
    "\n",
    "**Example**:\n",
    "The probability of flipping two heads in a row with a coin is:\n",
    "$$\n",
    "P(Heads, \\ Heads) = \\frac{1}{2} * \\frac{1}{2} = \\frac{1}{4}\n",
    "$$\n",
    "\n",
    "\n",
    "## Conditional Probability\n",
    "\n",
    "Conditional probability is the probability of one event happening, given that another event has already happened. It’s written as \\(P(A|B)\\), meaning the probability of A happening given that B has happened. E.g., probability of using an umbrella given it raining or it has rained.\n",
    "\n",
    "**Formula**:\n",
    "$$\n",
    "P(A|B) = \\frac{P(A \\ and \\ B)}{P(B)}\n",
    "$$\n",
    "\n",
    "**Example**:\n",
    "Suppose 70% of people like coffee, and 40% of those coffee drinkers also like tea. The probability of someone liking tea, given that they like coffee, is:\n",
    "$$\n",
    "P(Tea|Coffee) = \\frac{0.4}{0.7} \\approx 0.57\n",
    "$$\n",
    "\n",
    "\n",
    "## Bayes' Theorem\n",
    "\n",
    "Bayes' theorem is a formula used to update probabilities based on new information. It’s important in machine learning, especially in classification problems.\n",
    "\n",
    "**Formula**:\n",
    "$$\n",
    "P(A|B) = \\frac{P(B|A) \\ * P(A)}{P(B)}\n",
    "$$\n",
    "\n",
    "**Example**:\n",
    "Let’s say 1% of a population has a disease, and a test for the disease is 90% accurate. If someone tests positive, Bayes' theorem helps us calculate the probability that they actually have the disease, considering both the accuracy of the test and the rarity of the disease.\n",
    "\n",
    "\n",
    "## Probability Distributions\n",
    "\n",
    "In data science, probability distributions describe how the values of a random variable are distributed. Two common types are:\n",
    "\n",
    "a. **Discrete Probability Distributions**: A discrete probability distribution applies to scenarios where the variable can take on specific, countable values (like rolling a dice or flipping a coin).\n",
    "\n",
    "_Example_: The probability of each face of a fair dice is 1/6.\n",
    "\n",
    "b. **Continuous Probability Distributions**: A continuous probability distribution applies when the variable can take on any value within a range (like measuring someone's height).\n",
    "\n",
    "_Example_ The normal distribution (or bell curve) is a common continuous distribution in data science.\n",
    "\n",
    "**More on this in the next three modules.**\n",
    "\n",
    "\n",
    "## Why is Probability Important in Data Science?\n",
    "\n",
    "In data science, probability helps with:\n",
    "- **Prediction**: We use probability to make predictions about future events or trends.\n",
    "- **Uncertainty**: Data is rarely perfect, so probability helps us deal with uncertainty.\n",
    "- **Machine Learning**: Algorithms like Naive Bayes, decision trees, and more rely on probability to make decisions."
   ]
  },
  {
   "cell_type": "markdown",
   "id": "6055cf2b-c696-4f2d-9328-58b4691a02b1",
   "metadata": {},
   "source": [
    "## Example\n",
    "\n",
    "Suppose we have a dataset of a medical test's results. The dataset contains:\n",
    "\n",
    "- Whether a patient has a disease (Disease: Yes/No).\n",
    "- Whether their test result was positive (Test_Result: Positive/Negative).\n",
    "\n",
    "\n",
    "Goals:\n",
    "\n",
    "- Compute the probability of having the disease.\n",
    "- Compute the conditional probability P(Disease∣Positive Test)P(Disease∣Positive Test).\n",
    "- Check if the events \"Disease\" and \"Positive Test\" are independent.\n",
    "- Apply Bayes' Theorem to verify P(Disease∣Positive Test)P(Disease∣Positive Test)."
   ]
  },
  {
   "cell_type": "code",
   "execution_count": 3,
   "id": "c3b51e15-2208-4b73-b385-0f1b27a998ed",
   "metadata": {},
   "outputs": [],
   "source": [
    "#import the required library\n",
    "import pandas as pd\n",
    "\n",
    "# Create the dataset\n",
    "data = {\n",
    "    \"Patient_ID\": [1, 2, 3, 4, 5, 6, 7, 8, 9, 10],\n",
    "    \"Disease\": [\"Yes\", \"No\", \"Yes\", \"No\", \"No\", \"Yes\", \"No\", \"Yes\", \"No\", \"No\"],\n",
    "    \"Test_Result\": [\"Positive\", \"Positive\", \"Positive\", \"Negative\", \"Positive\", \"Positive\", \"Negative\", \"Positive\", \"Positive\", \"Negative\"]\n",
    "}\n",
    "df = pd.DataFrame(data)"
   ]
  },
  {
   "cell_type": "code",
   "execution_count": 4,
   "id": "f8a698bd-36b3-4791-ae0e-1b16006aba6e",
   "metadata": {},
   "outputs": [
    {
     "data": {
      "text/html": [
       "<div>\n",
       "<style scoped>\n",
       "    .dataframe tbody tr th:only-of-type {\n",
       "        vertical-align: middle;\n",
       "    }\n",
       "\n",
       "    .dataframe tbody tr th {\n",
       "        vertical-align: top;\n",
       "    }\n",
       "\n",
       "    .dataframe thead th {\n",
       "        text-align: right;\n",
       "    }\n",
       "</style>\n",
       "<table border=\"1\" class=\"dataframe\">\n",
       "  <thead>\n",
       "    <tr style=\"text-align: right;\">\n",
       "      <th></th>\n",
       "      <th>Patient_ID</th>\n",
       "      <th>Disease</th>\n",
       "      <th>Test_Result</th>\n",
       "    </tr>\n",
       "  </thead>\n",
       "  <tbody>\n",
       "    <tr>\n",
       "      <th>0</th>\n",
       "      <td>1</td>\n",
       "      <td>Yes</td>\n",
       "      <td>Positive</td>\n",
       "    </tr>\n",
       "    <tr>\n",
       "      <th>1</th>\n",
       "      <td>2</td>\n",
       "      <td>No</td>\n",
       "      <td>Positive</td>\n",
       "    </tr>\n",
       "    <tr>\n",
       "      <th>2</th>\n",
       "      <td>3</td>\n",
       "      <td>Yes</td>\n",
       "      <td>Positive</td>\n",
       "    </tr>\n",
       "    <tr>\n",
       "      <th>3</th>\n",
       "      <td>4</td>\n",
       "      <td>No</td>\n",
       "      <td>Negative</td>\n",
       "    </tr>\n",
       "    <tr>\n",
       "      <th>4</th>\n",
       "      <td>5</td>\n",
       "      <td>No</td>\n",
       "      <td>Positive</td>\n",
       "    </tr>\n",
       "    <tr>\n",
       "      <th>5</th>\n",
       "      <td>6</td>\n",
       "      <td>Yes</td>\n",
       "      <td>Positive</td>\n",
       "    </tr>\n",
       "    <tr>\n",
       "      <th>6</th>\n",
       "      <td>7</td>\n",
       "      <td>No</td>\n",
       "      <td>Negative</td>\n",
       "    </tr>\n",
       "    <tr>\n",
       "      <th>7</th>\n",
       "      <td>8</td>\n",
       "      <td>Yes</td>\n",
       "      <td>Positive</td>\n",
       "    </tr>\n",
       "    <tr>\n",
       "      <th>8</th>\n",
       "      <td>9</td>\n",
       "      <td>No</td>\n",
       "      <td>Positive</td>\n",
       "    </tr>\n",
       "    <tr>\n",
       "      <th>9</th>\n",
       "      <td>10</td>\n",
       "      <td>No</td>\n",
       "      <td>Negative</td>\n",
       "    </tr>\n",
       "  </tbody>\n",
       "</table>\n",
       "</div>"
      ],
      "text/plain": [
       "   Patient_ID Disease Test_Result\n",
       "0           1     Yes    Positive\n",
       "1           2      No    Positive\n",
       "2           3     Yes    Positive\n",
       "3           4      No    Negative\n",
       "4           5      No    Positive\n",
       "5           6     Yes    Positive\n",
       "6           7      No    Negative\n",
       "7           8     Yes    Positive\n",
       "8           9      No    Positive\n",
       "9          10      No    Negative"
      ]
     },
     "execution_count": 4,
     "metadata": {},
     "output_type": "execute_result"
    }
   ],
   "source": [
    "df"
   ]
  },
  {
   "cell_type": "code",
   "execution_count": 5,
   "id": "e1d14652-8fe6-4e32-882d-f5f5d5422c1d",
   "metadata": {},
   "outputs": [
    {
     "name": "stdout",
     "output_type": "stream",
     "text": [
      "<class 'pandas.core.frame.DataFrame'>\n",
      "RangeIndex: 10 entries, 0 to 9\n",
      "Data columns (total 3 columns):\n",
      " #   Column       Non-Null Count  Dtype \n",
      "---  ------       --------------  ----- \n",
      " 0   Patient_ID   10 non-null     int64 \n",
      " 1   Disease      10 non-null     object\n",
      " 2   Test_Result  10 non-null     object\n",
      "dtypes: int64(1), object(2)\n",
      "memory usage: 372.0+ bytes\n"
     ]
    }
   ],
   "source": [
    "#find out more information about the data\n",
    "df.info()"
   ]
  },
  {
   "cell_type": "code",
   "execution_count": 6,
   "id": "e64316fd-4a6b-4ba0-be9d-30a27304bac7",
   "metadata": {},
   "outputs": [
    {
     "data": {
      "text/plain": [
       "10"
      ]
     },
     "execution_count": 6,
     "metadata": {},
     "output_type": "execute_result"
    }
   ],
   "source": [
    "# Total number of patients\n",
    "total_patients = df.shape[0]\n",
    "total_patients"
   ]
  },
  {
   "cell_type": "code",
   "execution_count": 7,
   "id": "b20a8d66-7d27-4e7f-b4a3-0c5fb035e71d",
   "metadata": {},
   "outputs": [
    {
     "name": "stdout",
     "output_type": "stream",
     "text": [
      "P(Disease): 0.40\n"
     ]
    }
   ],
   "source": [
    "# 1. Probability of having the disease (P(Disease))\n",
    "num_disease = len(df[df[\"Disease\"] == \"Yes\"])\n",
    "P_disease = num_disease / total_patients\n",
    "\n",
    "print(f\"P(Disease): {P_disease:.2f}\")"
   ]
  },
  {
   "cell_type": "code",
   "execution_count": 8,
   "id": "abd06a74-584b-4d78-8ac2-c9c6a2abbdfc",
   "metadata": {},
   "outputs": [
    {
     "data": {
      "text/plain": [
       "4"
      ]
     },
     "execution_count": 8,
     "metadata": {},
     "output_type": "execute_result"
    }
   ],
   "source": [
    "len(df[df[\"Disease\"] == \"Yes\"])"
   ]
  },
  {
   "cell_type": "markdown",
   "id": "8d0dc899-1416-4917-a8a9-2f6e43549b70",
   "metadata": {},
   "source": [
    "This is the probability of having the disease, irrespective of the test result. Out of 10 patients, 4 have the disease. So, the probability is 40%.\n",
    "\n",
    "This represents the prevalence of the disease in the dataset. Knowing the base rate helps understand how common the disease is in the population being studied."
   ]
  },
  {
   "cell_type": "code",
   "execution_count": 9,
   "id": "36eba5e4-2270-457a-9cfb-002d1d3208d6",
   "metadata": {},
   "outputs": [
    {
     "name": "stdout",
     "output_type": "stream",
     "text": [
      "P(Disease | Positive Test): 0.57\n"
     ]
    }
   ],
   "source": [
    "# 2. Conditional Probability: P(Disease | Positive Test)\n",
    "\n",
    "# Filter for positive tests\n",
    "positive_tests = df[df[\"Test_Result\"] == \"Positive\"]\n",
    "\n",
    "# Count of total positive tests\n",
    "num_positive_tests = len(positive_tests)\n",
    "\n",
    "# Count of positive tests where disease is \"Yes\"\n",
    "num_disease_given_positive = len(df[(df[\"Test_Result\"] == \"Positive\") & (df[\"Disease\"] == \"Yes\")])\n",
    "\n",
    "# Calculate P(Disease | Positive Test)\n",
    "P_disease_given_positive = num_disease_given_positive / num_positive_tests\n",
    "print(f\"P(Disease | Positive Test): {P_disease_given_positive:.2f}\")"
   ]
  },
  {
   "cell_type": "code",
   "execution_count": 11,
   "id": "48481ea8-6f98-419f-bc8e-684eb7ffcace",
   "metadata": {},
   "outputs": [
    {
     "data": {
      "text/plain": [
       "4"
      ]
     },
     "execution_count": 11,
     "metadata": {},
     "output_type": "execute_result"
    }
   ],
   "source": [
    "# Count of positive tests where disease is \"Yes\"\n",
    "num_disease_given_positive = len(df[(df[\"Test_Result\"] == \"Positive\") & (df[\"Disease\"] == \"Yes\")])\n",
    "num_disease_given_positive"
   ]
  },
  {
   "cell_type": "code",
   "execution_count": 12,
   "id": "40184e0b-e865-497b-84ac-e7f98ec05c05",
   "metadata": {},
   "outputs": [
    {
     "data": {
      "text/plain": [
       "7"
      ]
     },
     "execution_count": 12,
     "metadata": {},
     "output_type": "execute_result"
    }
   ],
   "source": [
    "# Count of total positive tests\n",
    "num_positive_tests = len(positive_tests)\n",
    "num_positive_tests"
   ]
  },
  {
   "cell_type": "code",
   "execution_count": 13,
   "id": "942fd220-35b0-42d5-a60f-03642ea1456d",
   "metadata": {},
   "outputs": [
    {
     "data": {
      "text/html": [
       "<div>\n",
       "<style scoped>\n",
       "    .dataframe tbody tr th:only-of-type {\n",
       "        vertical-align: middle;\n",
       "    }\n",
       "\n",
       "    .dataframe tbody tr th {\n",
       "        vertical-align: top;\n",
       "    }\n",
       "\n",
       "    .dataframe thead th {\n",
       "        text-align: right;\n",
       "    }\n",
       "</style>\n",
       "<table border=\"1\" class=\"dataframe\">\n",
       "  <thead>\n",
       "    <tr style=\"text-align: right;\">\n",
       "      <th></th>\n",
       "      <th>Patient_ID</th>\n",
       "      <th>Disease</th>\n",
       "      <th>Test_Result</th>\n",
       "    </tr>\n",
       "  </thead>\n",
       "  <tbody>\n",
       "    <tr>\n",
       "      <th>0</th>\n",
       "      <td>1</td>\n",
       "      <td>Yes</td>\n",
       "      <td>Positive</td>\n",
       "    </tr>\n",
       "    <tr>\n",
       "      <th>1</th>\n",
       "      <td>2</td>\n",
       "      <td>No</td>\n",
       "      <td>Positive</td>\n",
       "    </tr>\n",
       "    <tr>\n",
       "      <th>2</th>\n",
       "      <td>3</td>\n",
       "      <td>Yes</td>\n",
       "      <td>Positive</td>\n",
       "    </tr>\n",
       "    <tr>\n",
       "      <th>4</th>\n",
       "      <td>5</td>\n",
       "      <td>No</td>\n",
       "      <td>Positive</td>\n",
       "    </tr>\n",
       "    <tr>\n",
       "      <th>5</th>\n",
       "      <td>6</td>\n",
       "      <td>Yes</td>\n",
       "      <td>Positive</td>\n",
       "    </tr>\n",
       "    <tr>\n",
       "      <th>7</th>\n",
       "      <td>8</td>\n",
       "      <td>Yes</td>\n",
       "      <td>Positive</td>\n",
       "    </tr>\n",
       "    <tr>\n",
       "      <th>8</th>\n",
       "      <td>9</td>\n",
       "      <td>No</td>\n",
       "      <td>Positive</td>\n",
       "    </tr>\n",
       "  </tbody>\n",
       "</table>\n",
       "</div>"
      ],
      "text/plain": [
       "   Patient_ID Disease Test_Result\n",
       "0           1     Yes    Positive\n",
       "1           2      No    Positive\n",
       "2           3     Yes    Positive\n",
       "4           5      No    Positive\n",
       "5           6     Yes    Positive\n",
       "7           8     Yes    Positive\n",
       "8           9      No    Positive"
      ]
     },
     "execution_count": 13,
     "metadata": {},
     "output_type": "execute_result"
    }
   ],
   "source": [
    "df[df[\"Test_Result\"] == \"Positive\"]"
   ]
  },
  {
   "cell_type": "code",
   "execution_count": 14,
   "id": "9afc2821-2538-42ec-a58c-db04fe51f82e",
   "metadata": {},
   "outputs": [
    {
     "data": {
      "text/plain": [
       "0     True\n",
       "1    False\n",
       "2     True\n",
       "3    False\n",
       "4    False\n",
       "5     True\n",
       "6    False\n",
       "7     True\n",
       "8    False\n",
       "9    False\n",
       "Name: Disease, dtype: bool"
      ]
     },
     "execution_count": 14,
     "metadata": {},
     "output_type": "execute_result"
    }
   ],
   "source": [
    "df[\"Disease\"] == \"Yes\""
   ]
  },
  {
   "cell_type": "code",
   "execution_count": 15,
   "id": "c909ca32-73e4-4301-b638-f3affdea729f",
   "metadata": {},
   "outputs": [
    {
     "data": {
      "text/html": [
       "<div>\n",
       "<style scoped>\n",
       "    .dataframe tbody tr th:only-of-type {\n",
       "        vertical-align: middle;\n",
       "    }\n",
       "\n",
       "    .dataframe tbody tr th {\n",
       "        vertical-align: top;\n",
       "    }\n",
       "\n",
       "    .dataframe thead th {\n",
       "        text-align: right;\n",
       "    }\n",
       "</style>\n",
       "<table border=\"1\" class=\"dataframe\">\n",
       "  <thead>\n",
       "    <tr style=\"text-align: right;\">\n",
       "      <th></th>\n",
       "      <th>Patient_ID</th>\n",
       "      <th>Disease</th>\n",
       "      <th>Test_Result</th>\n",
       "    </tr>\n",
       "  </thead>\n",
       "  <tbody>\n",
       "    <tr>\n",
       "      <th>0</th>\n",
       "      <td>1</td>\n",
       "      <td>Yes</td>\n",
       "      <td>Positive</td>\n",
       "    </tr>\n",
       "    <tr>\n",
       "      <th>2</th>\n",
       "      <td>3</td>\n",
       "      <td>Yes</td>\n",
       "      <td>Positive</td>\n",
       "    </tr>\n",
       "    <tr>\n",
       "      <th>5</th>\n",
       "      <td>6</td>\n",
       "      <td>Yes</td>\n",
       "      <td>Positive</td>\n",
       "    </tr>\n",
       "    <tr>\n",
       "      <th>7</th>\n",
       "      <td>8</td>\n",
       "      <td>Yes</td>\n",
       "      <td>Positive</td>\n",
       "    </tr>\n",
       "  </tbody>\n",
       "</table>\n",
       "</div>"
      ],
      "text/plain": [
       "   Patient_ID Disease Test_Result\n",
       "0           1     Yes    Positive\n",
       "2           3     Yes    Positive\n",
       "5           6     Yes    Positive\n",
       "7           8     Yes    Positive"
      ]
     },
     "execution_count": 15,
     "metadata": {},
     "output_type": "execute_result"
    }
   ],
   "source": [
    "(df[(df[\"Test_Result\"] == \"Positive\") & (df[\"Disease\"] == \"Yes\")])"
   ]
  },
  {
   "cell_type": "markdown",
   "id": "b37d9031-cec4-4c9c-ad3a-2df2e03edd0f",
   "metadata": {},
   "source": [
    "This is the conditional probability of having the disease given that the test result is positive. Out of the 7 patients who tested positive, 4 actually have the disease.\n",
    "\n",
    "The results goes to reflect the reliability of a positive test in diagnosing the disease. It’s often referred to as the Positive Predictive Value (PPV) of the test. A higher PPV indicates that a positive test result is more likely to indicate the disease accurately."
   ]
  },
  {
   "cell_type": "code",
   "execution_count": 16,
   "id": "ccdd03c6-b14d-452b-b614-b1db26f98dca",
   "metadata": {},
   "outputs": [
    {
     "name": "stdout",
     "output_type": "stream",
     "text": [
      "P(Disease ∩ Positive Test): 0.40\n",
      "P(Disease) * P(Positive Test): 0.28\n",
      "Disease and Positive Test are NOT independent.\n"
     ]
    }
   ],
   "source": [
    "# 3. Check independence: P(Disease ∩ Positive Test) vs P(Disease) * P(Positive Test)\n",
    "P_positive = len(df[df[\"Test_Result\"] == \"Positive\"]) / total_patients\n",
    "P_disease_and_positive = num_disease_given_positive / total_patients\n",
    "P_independence_check = P_disease * P_positive\n",
    "\n",
    "print(f\"P(Disease ∩ Positive Test): {P_disease_and_positive:.2f}\")\n",
    "print(f\"P(Disease) * P(Positive Test): {P_independence_check:.2f}\")\n",
    "\n",
    "if abs(P_disease_and_positive - P_independence_check) < 1e-5:\n",
    "    print(\"Disease and Positive Test are independent.\")\n",
    "else:\n",
    "    print(\"Disease and Positive Test are NOT independent.\")"
   ]
  },
  {
   "cell_type": "code",
   "execution_count": 17,
   "id": "55825868-3f0e-400c-a3dc-d039239eed00",
   "metadata": {},
   "outputs": [
    {
     "data": {
      "text/plain": [
       "0.4"
      ]
     },
     "execution_count": 17,
     "metadata": {},
     "output_type": "execute_result"
    }
   ],
   "source": [
    "P_disease_and_positive"
   ]
  },
  {
   "cell_type": "code",
   "execution_count": 18,
   "id": "a58d3c65-1b2c-4b78-9fc2-abbd1e9f2d7a",
   "metadata": {},
   "outputs": [
    {
     "data": {
      "text/plain": [
       "0.27999999999999997"
      ]
     },
     "execution_count": 18,
     "metadata": {},
     "output_type": "execute_result"
    }
   ],
   "source": [
    "P_independence_check"
   ]
  },
  {
   "cell_type": "code",
   "execution_count": 19,
   "id": "c4f7c9ac-fef5-4ea9-b933-4fe98512b0a4",
   "metadata": {},
   "outputs": [
    {
     "data": {
      "text/plain": [
       "1e-05"
      ]
     },
     "execution_count": 19,
     "metadata": {},
     "output_type": "execute_result"
    }
   ],
   "source": [
    "1e-5\n",
    "\n",
    "0.00001"
   ]
  },
  {
   "cell_type": "markdown",
   "id": "2bc37ea4-5add-41b6-b531-5fe509e1f319",
   "metadata": {},
   "source": [
    "1. The first result represents the joint probability that a patient both has the disease and tests positive. This captures the overlap of the two events: \"having the disease\" and \"testing positive.\" It also reflects how frequently these two conditions occur together in the population.\n",
    "2. Second, is the probability of \"Disease\" and \"Positive Test\" assuming the events are independent. Where independence means the occurrence of one event does not influence the occurrence of the other.\n",
    "\n",
    "\n",
    "The actual joint probability P(Disease ∩ Positive Test)=0.40 is not equal to the calculated product P(Disease)×P(Positive Test)=0.28. This discrepancy shows that the two events are not independent.\n",
    "\n",
    "**What does this mean?**\n",
    "\n",
    "- The probability of testing positive depends on whether the patient has the disease. In other words: Patients with the disease are much more likely to test positive compared to patients without the disease.\n",
    "- This dependence is expected for a medical test that is designed to detect the disease. A test with no dependence on the disease status would not be useful!"
   ]
  },
  {
   "cell_type": "markdown",
   "id": "13fa6a40-5393-4954-918c-7dbd3318b50b",
   "metadata": {},
   "source": [
    "## Conclusion\n",
    "\n",
    "Understanding probability is crucial for data science, as it allows us to handle uncertainty and make informed predictions. With these basics, you’ll have a solid foundation to explore more advanced topics in machine learning and statistics.\n",
    "\n",
    "Feel free to reach out if you have questions or want more detailed explanations!"
   ]
  },
  {
   "cell_type": "code",
   "execution_count": null,
   "id": "7b42c56d-8c35-4ef7-a20c-7657db8ff5eb",
   "metadata": {},
   "outputs": [],
   "source": []
  }
 ],
 "metadata": {
  "kernelspec": {
   "display_name": "Python 3 (ipykernel)",
   "language": "python",
   "name": "python3"
  },
  "language_info": {
   "codemirror_mode": {
    "name": "ipython",
    "version": 3
   },
   "file_extension": ".py",
   "mimetype": "text/x-python",
   "name": "python",
   "nbconvert_exporter": "python",
   "pygments_lexer": "ipython3",
   "version": "3.12.2"
  }
 },
 "nbformat": 4,
 "nbformat_minor": 5
}
