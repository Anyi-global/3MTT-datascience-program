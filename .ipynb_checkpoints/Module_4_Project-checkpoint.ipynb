{
 "cells": [
  {
   "cell_type": "markdown",
   "id": "6097ff66-04ab-45df-8cd9-939c0f7876a2",
   "metadata": {},
   "source": [
    "# COVID-19 Data Analysis: Exploring Trends, Vaccination Impact, and Insights Through Visualizations\n",
    "\n",
    "The COVID-19 pandemic, caused by the SARS-CoV-2 virus, has significantly impacted global health, economies, and daily life. Since its emergence in late 2019, vast amounts of data have been collected on infection rates, mortality, vaccination efforts, and testing strategies. Analyzing this data is crucial for understanding the spread of the virus, identifying trends, and making informed policy decisions. This project involves basic data cleaning, exploratory data analysis (EDA), and visualization to uncover insights into COVID-19 cases, deaths, and vaccinations over time.\n",
    "\n",
    "## About the Dataset\n",
    "\n",
    "The **[dataset](https://drive.google.com/file/d/1syeD6Ni_ZlfXHHH0Jp6ALpvg9iCAEk_-/view?usp=sharing)** used for this project contains essential COVID-19 metrics, tracking the progression of the pandemic across different countries. The dataset consists of the following columns:\n",
    "\n",
    "- DATE: The recorded date of COVID-19 data entry.\n",
    "- country: The country or region where the cases, deaths, and vaccinations were reported.\n",
    "- NEW Cases: The number of newly confirmed COVID-19 cases reported on a given date.\n",
    "- NEW_DEATHS: The number of new deaths attributed to COVID-19 on that specific date.\n",
    "- vaccinated: The number of people who have received at least one dose of the COVID-19 vaccine.\n",
    "\n",
    "This dataset may require cleaning and preprocessing to handle missing values, incorrect formats, and inconsistencies before conducting meaningful analysis.\n",
    "\n",
    "## Objective\n",
    "\n",
    "The primary goal of this mini-project is to clean, analyze, and visualize COVID-19 data to identify trends, patterns, and key insights. The specific objectives include:\n",
    "\n",
    "- Perform Data Cleaning: Handle missing values, standardize date formats, and filter out inconsistencies.\n",
    "- Explore Trends in COVID-19 Cases and Deaths:\n",
    "  - Analyze daily and cumulative trends in infections and fatalities.\n",
    "  - Compare case and death rates across different countries and regions.\n",
    "- Create Data Visualizations:\n",
    "  - Line Plots: Show the trend of cases, deaths, and vaccinations over time.\n",
    "  - Bar Charts: Compare cases, deaths, and vaccinations by country.\n",
    "  - Scatter Plots: Explore relationships between infection rates and testing or vaccination rates."
   ]
  },
  {
   "cell_type": "markdown",
   "id": "9e153e42-c663-4c2c-a355-b6ca3503049f",
   "metadata": {},
   "source": [
    "<hr><hr>"
   ]
  },
  {
   "cell_type": "markdown",
   "id": "ec734012-8078-4154-98e5-0defaa45563a",
   "metadata": {},
   "source": [
    "# Module 4 Project\n",
    "<hr><hr>"
   ]
  },
  {
   "cell_type": "markdown",
   "id": "776dd649-d1e0-4b60-8d00-4f8d66ce0ea3",
   "metadata": {},
   "source": [
    "## ANALYZING COVID-19 DATASET TO UNCOVER PATTERNS AND INSIGHTS\n",
    "<hr>"
   ]
  },
  {
   "cell_type": "markdown",
   "id": "92c10273-42c3-4edf-980e-cc88620a2c5c",
   "metadata": {},
   "source": [
    "### Import Libraries for Analysis"
   ]
  },
  {
   "cell_type": "code",
   "execution_count": 216,
   "id": "e2ac221c-c359-4005-b943-72bd2006ec9b",
   "metadata": {},
   "outputs": [],
   "source": [
    "# import libraries\n",
    "import pandas as pd\n",
    "import numpy as np\n",
    "import matplotlib.pyplot as plt\n",
    "import seaborn as sns"
   ]
  },
  {
   "cell_type": "code",
   "execution_count": 217,
   "id": "ba011c09-e3d7-40b8-9855-08873bb931dc",
   "metadata": {},
   "outputs": [
    {
     "data": {
      "text/html": [
       "<div>\n",
       "<style scoped>\n",
       "    .dataframe tbody tr th:only-of-type {\n",
       "        vertical-align: middle;\n",
       "    }\n",
       "\n",
       "    .dataframe tbody tr th {\n",
       "        vertical-align: top;\n",
       "    }\n",
       "\n",
       "    .dataframe thead th {\n",
       "        text-align: right;\n",
       "    }\n",
       "</style>\n",
       "<table border=\"1\" class=\"dataframe\">\n",
       "  <thead>\n",
       "    <tr style=\"text-align: right;\">\n",
       "      <th></th>\n",
       "      <th>DATE</th>\n",
       "      <th>country</th>\n",
       "      <th>NEW Cases</th>\n",
       "      <th>NEW_DEATHS</th>\n",
       "      <th>vaccinated</th>\n",
       "    </tr>\n",
       "  </thead>\n",
       "  <tbody>\n",
       "    <tr>\n",
       "      <th>0</th>\n",
       "      <td>2024-11-01</td>\n",
       "      <td>Argentina</td>\n",
       "      <td>NaN</td>\n",
       "      <td>NaN</td>\n",
       "      <td>NaN</td>\n",
       "    </tr>\n",
       "    <tr>\n",
       "      <th>1</th>\n",
       "      <td>2024-11-01</td>\n",
       "      <td>Australia</td>\n",
       "      <td>0.0</td>\n",
       "      <td>0.0</td>\n",
       "      <td>327.0</td>\n",
       "    </tr>\n",
       "    <tr>\n",
       "      <th>2</th>\n",
       "      <td>2024-11-01</td>\n",
       "      <td>Australia</td>\n",
       "      <td>0.0</td>\n",
       "      <td>0.0</td>\n",
       "      <td>327.0</td>\n",
       "    </tr>\n",
       "    <tr>\n",
       "      <th>3</th>\n",
       "      <td>2024-11-01</td>\n",
       "      <td>Brazil</td>\n",
       "      <td>971.0</td>\n",
       "      <td>48.0</td>\n",
       "      <td>430.0</td>\n",
       "    </tr>\n",
       "    <tr>\n",
       "      <th>4</th>\n",
       "      <td>2024-11-01</td>\n",
       "      <td>Canada</td>\n",
       "      <td>176.0</td>\n",
       "      <td>8.0</td>\n",
       "      <td>NaN</td>\n",
       "    </tr>\n",
       "    <tr>\n",
       "      <th>5</th>\n",
       "      <td>2024-11-01</td>\n",
       "      <td>China</td>\n",
       "      <td>1034.0</td>\n",
       "      <td>51.0</td>\n",
       "      <td>462.0</td>\n",
       "    </tr>\n",
       "    <tr>\n",
       "      <th>6</th>\n",
       "      <td>2024-11-02</td>\n",
       "      <td>Argentina</td>\n",
       "      <td>23.0</td>\n",
       "      <td>1.0</td>\n",
       "      <td>195.0</td>\n",
       "    </tr>\n",
       "    <tr>\n",
       "      <th>7</th>\n",
       "      <td>2024-11-02</td>\n",
       "      <td>Australia</td>\n",
       "      <td>0.0</td>\n",
       "      <td>NaN</td>\n",
       "      <td>336.0</td>\n",
       "    </tr>\n",
       "    <tr>\n",
       "      <th>8</th>\n",
       "      <td>2024-11-02</td>\n",
       "      <td>Brazil</td>\n",
       "      <td>185.0</td>\n",
       "      <td>9.0</td>\n",
       "      <td>173.0</td>\n",
       "    </tr>\n",
       "    <tr>\n",
       "      <th>9</th>\n",
       "      <td>2024-11-02</td>\n",
       "      <td>Canada</td>\n",
       "      <td>615.0</td>\n",
       "      <td>30.0</td>\n",
       "      <td>369.0</td>\n",
       "    </tr>\n",
       "  </tbody>\n",
       "</table>\n",
       "</div>"
      ],
      "text/plain": [
       "        DATE    country    NEW Cases  NEW_DEATHS  vaccinated \n",
       "0  2024-11-01  Argentina         NaN         NaN          NaN\n",
       "1  2024-11-01  Australia         0.0         0.0        327.0\n",
       "2  2024-11-01  Australia         0.0         0.0        327.0\n",
       "3  2024-11-01     Brazil       971.0        48.0        430.0\n",
       "4  2024-11-01     Canada       176.0         8.0          NaN\n",
       "5  2024-11-01      China      1034.0        51.0        462.0\n",
       "6  2024-11-02  Argentina        23.0         1.0        195.0\n",
       "7  2024-11-02  Australia         0.0         NaN        336.0\n",
       "8  2024-11-02     Brazil       185.0         9.0        173.0\n",
       "9  2024-11-02     Canada       615.0        30.0        369.0"
      ]
     },
     "execution_count": 217,
     "metadata": {},
     "output_type": "execute_result"
    }
   ],
   "source": [
    "## the missing values are represented in more than one form\n",
    "missing_vals = ['unknown']\n",
    "\n",
    "# load dataset\n",
    "df = pd.read_csv('Covid-19 Dataset.csv', na_values=missing_vals)\n",
    "df.head(10)"
   ]
  },
  {
   "cell_type": "code",
   "execution_count": 142,
   "id": "bfd07bfb-b834-450c-a3e8-d0ae43fc2acb",
   "metadata": {},
   "outputs": [],
   "source": [
    "# pd.set_option('display.max_rows', None)  # Show all rows\n",
    "# pd.reset_option('display.max_rows')"
   ]
  },
  {
   "cell_type": "code",
   "execution_count": 143,
   "id": "c020e03e-1041-48dc-b07f-2125731d727c",
   "metadata": {},
   "outputs": [
    {
     "data": {
      "text/html": [
       "<div>\n",
       "<style scoped>\n",
       "    .dataframe tbody tr th:only-of-type {\n",
       "        vertical-align: middle;\n",
       "    }\n",
       "\n",
       "    .dataframe tbody tr th {\n",
       "        vertical-align: top;\n",
       "    }\n",
       "\n",
       "    .dataframe thead th {\n",
       "        text-align: right;\n",
       "    }\n",
       "</style>\n",
       "<table border=\"1\" class=\"dataframe\">\n",
       "  <thead>\n",
       "    <tr style=\"text-align: right;\">\n",
       "      <th></th>\n",
       "      <th>DATE</th>\n",
       "      <th>country</th>\n",
       "      <th>NEW Cases</th>\n",
       "      <th>NEW_DEATHS</th>\n",
       "      <th>vaccinated</th>\n",
       "    </tr>\n",
       "  </thead>\n",
       "  <tbody>\n",
       "    <tr>\n",
       "      <th>0</th>\n",
       "      <td>2024-11-01</td>\n",
       "      <td>Argentina</td>\n",
       "      <td>NaN</td>\n",
       "      <td>NaN</td>\n",
       "      <td>NaN</td>\n",
       "    </tr>\n",
       "    <tr>\n",
       "      <th>1</th>\n",
       "      <td>2024-11-01</td>\n",
       "      <td>Australia</td>\n",
       "      <td>0.0</td>\n",
       "      <td>0.0</td>\n",
       "      <td>327.0</td>\n",
       "    </tr>\n",
       "    <tr>\n",
       "      <th>2</th>\n",
       "      <td>2024-11-01</td>\n",
       "      <td>Australia</td>\n",
       "      <td>0.0</td>\n",
       "      <td>0.0</td>\n",
       "      <td>327.0</td>\n",
       "    </tr>\n",
       "    <tr>\n",
       "      <th>3</th>\n",
       "      <td>2024-11-01</td>\n",
       "      <td>Brazil</td>\n",
       "      <td>971.0</td>\n",
       "      <td>48.0</td>\n",
       "      <td>430.0</td>\n",
       "    </tr>\n",
       "    <tr>\n",
       "      <th>4</th>\n",
       "      <td>2024-11-01</td>\n",
       "      <td>Canada</td>\n",
       "      <td>176.0</td>\n",
       "      <td>8.0</td>\n",
       "      <td>NaN</td>\n",
       "    </tr>\n",
       "    <tr>\n",
       "      <th>...</th>\n",
       "      <td>...</td>\n",
       "      <td>...</td>\n",
       "      <td>...</td>\n",
       "      <td>...</td>\n",
       "      <td>...</td>\n",
       "    </tr>\n",
       "    <tr>\n",
       "      <th>160</th>\n",
       "      <td>2024-11-30</td>\n",
       "      <td>Brazil</td>\n",
       "      <td>514.0</td>\n",
       "      <td>25.0</td>\n",
       "      <td>NaN</td>\n",
       "    </tr>\n",
       "    <tr>\n",
       "      <th>161</th>\n",
       "      <td>2024-11-30</td>\n",
       "      <td>Canada</td>\n",
       "      <td>1133.0</td>\n",
       "      <td>56.0</td>\n",
       "      <td>438.0</td>\n",
       "    </tr>\n",
       "    <tr>\n",
       "      <th>162</th>\n",
       "      <td>2024-11-30</td>\n",
       "      <td>Canada</td>\n",
       "      <td>1133.0</td>\n",
       "      <td>56.0</td>\n",
       "      <td>438.0</td>\n",
       "    </tr>\n",
       "    <tr>\n",
       "      <th>163</th>\n",
       "      <td>2024-11-30</td>\n",
       "      <td>China</td>\n",
       "      <td>0.0</td>\n",
       "      <td>0.0</td>\n",
       "      <td>NaN</td>\n",
       "    </tr>\n",
       "    <tr>\n",
       "      <th>164</th>\n",
       "      <td>2024-11-30</td>\n",
       "      <td>China</td>\n",
       "      <td>0.0</td>\n",
       "      <td>0.0</td>\n",
       "      <td>NaN</td>\n",
       "    </tr>\n",
       "  </tbody>\n",
       "</table>\n",
       "<p>165 rows × 5 columns</p>\n",
       "</div>"
      ],
      "text/plain": [
       "          DATE    country    NEW Cases  NEW_DEATHS  vaccinated \n",
       "0    2024-11-01  Argentina         NaN         NaN          NaN\n",
       "1    2024-11-01  Australia         0.0         0.0        327.0\n",
       "2    2024-11-01  Australia         0.0         0.0        327.0\n",
       "3    2024-11-01     Brazil       971.0        48.0        430.0\n",
       "4    2024-11-01     Canada       176.0         8.0          NaN\n",
       "..          ...        ...         ...         ...          ...\n",
       "160  2024-11-30     Brazil       514.0        25.0          NaN\n",
       "161  2024-11-30     Canada      1133.0        56.0        438.0\n",
       "162  2024-11-30     Canada      1133.0        56.0        438.0\n",
       "163  2024-11-30      China         0.0         0.0          NaN\n",
       "164  2024-11-30      China         0.0         0.0          NaN\n",
       "\n",
       "[165 rows x 5 columns]"
      ]
     },
     "execution_count": 143,
     "metadata": {},
     "output_type": "execute_result"
    }
   ],
   "source": [
    "df"
   ]
  },
  {
   "cell_type": "markdown",
   "id": "ac6ccc4b-a0e0-4abc-ae89-f836ed00cada",
   "metadata": {},
   "source": [
    "### Data Overview"
   ]
  },
  {
   "cell_type": "code",
   "execution_count": 110,
   "id": "7e16883c-9848-4d89-9a9d-68a16ec331e9",
   "metadata": {},
   "outputs": [
    {
     "name": "stdout",
     "output_type": "stream",
     "text": [
      "<class 'pandas.core.frame.DataFrame'>\n",
      "RangeIndex: 165 entries, 0 to 164\n",
      "Data columns (total 5 columns):\n",
      " #   Column       Non-Null Count  Dtype  \n",
      "---  ------       --------------  -----  \n",
      " 0   DATE         165 non-null    object \n",
      " 1   country      165 non-null    object \n",
      " 2    NEW Cases   154 non-null    float64\n",
      " 3   NEW_DEATHS   139 non-null    float64\n",
      " 4   vaccinated   148 non-null    float64\n",
      "dtypes: float64(3), object(2)\n",
      "memory usage: 6.6+ KB\n"
     ]
    }
   ],
   "source": [
    "# information about our dataset\n",
    "df.info()"
   ]
  },
  {
   "cell_type": "markdown",
   "id": "d7573560-f7b7-45a7-9596-5cd6d8c15cf5",
   "metadata": {},
   "source": [
    "**Comment**: From the information provided, we have, 165 records of data and 5 columns. The date format has to be standardized from object to \"datetime\" datatype format to have a more quality data for analysis."
   ]
  },
  {
   "cell_type": "code",
   "execution_count": 111,
   "id": "304d0c33-b47f-4175-87c9-2b199f292788",
   "metadata": {},
   "outputs": [
    {
     "data": {
      "text/plain": [
       "(165, 5)"
      ]
     },
     "execution_count": 111,
     "metadata": {},
     "output_type": "execute_result"
    }
   ],
   "source": [
    "# shape of our dataset\n",
    "df.shape"
   ]
  },
  {
   "cell_type": "code",
   "execution_count": 218,
   "id": "87b6353a-6b69-4629-9cd1-6e37d85f8ac3",
   "metadata": {},
   "outputs": [
    {
     "data": {
      "text/plain": [
       "Index(['DATE ', 'country ', ' NEW Cases', 'NEW_DEATHS', 'vaccinated '], dtype='object')"
      ]
     },
     "execution_count": 218,
     "metadata": {},
     "output_type": "execute_result"
    }
   ],
   "source": [
    "# columns in our dataset\n",
    "df.columns"
   ]
  },
  {
   "cell_type": "code",
   "execution_count": 113,
   "id": "79597fc4-898f-4673-a3c3-77ba6bf5d468",
   "metadata": {},
   "outputs": [
    {
     "data": {
      "text/plain": [
       "DATE            object\n",
       "country         object\n",
       " NEW Cases     float64\n",
       "NEW_DEATHS     float64\n",
       "vaccinated     float64\n",
       "dtype: object"
      ]
     },
     "execution_count": 113,
     "metadata": {},
     "output_type": "execute_result"
    }
   ],
   "source": [
    "# the datatypes we have in our dataset\n",
    "df.dtypes"
   ]
  },
  {
   "cell_type": "code",
   "execution_count": 219,
   "id": "af0efba8-8281-4695-be1e-7926b92ffd78",
   "metadata": {},
   "outputs": [
    {
     "data": {
      "text/plain": [
       "Index(['date', 'country', 'new_cases', 'new_deaths', 'vaccinated'], dtype='object')"
      ]
     },
     "execution_count": 219,
     "metadata": {},
     "output_type": "execute_result"
    }
   ],
   "source": [
    "# converting all column names to lower case + replacing spaces with underscores\n",
    "df.columns = df.columns.str.strip().str.lower().str.replace(' ', '_')\n",
    "df.columns"
   ]
  },
  {
   "cell_type": "markdown",
   "id": "1d59ccfc-51da-4521-be05-3f8850b80c97",
   "metadata": {},
   "source": [
    "### Summary Statistics of Our Dataset"
   ]
  },
  {
   "cell_type": "code",
   "execution_count": 220,
   "id": "a8e9a785-8468-4161-b0b1-a772c100ecc0",
   "metadata": {},
   "outputs": [
    {
     "data": {
      "text/html": [
       "<div>\n",
       "<style scoped>\n",
       "    .dataframe tbody tr th:only-of-type {\n",
       "        vertical-align: middle;\n",
       "    }\n",
       "\n",
       "    .dataframe tbody tr th {\n",
       "        vertical-align: top;\n",
       "    }\n",
       "\n",
       "    .dataframe thead th {\n",
       "        text-align: right;\n",
       "    }\n",
       "</style>\n",
       "<table border=\"1\" class=\"dataframe\">\n",
       "  <thead>\n",
       "    <tr style=\"text-align: right;\">\n",
       "      <th></th>\n",
       "      <th>new_cases</th>\n",
       "      <th>new_deaths</th>\n",
       "      <th>vaccinated</th>\n",
       "    </tr>\n",
       "  </thead>\n",
       "  <tbody>\n",
       "    <tr>\n",
       "      <th>count</th>\n",
       "      <td>154.000000</td>\n",
       "      <td>139.000000</td>\n",
       "      <td>148.000000</td>\n",
       "    </tr>\n",
       "    <tr>\n",
       "      <th>mean</th>\n",
       "      <td>579.032468</td>\n",
       "      <td>28.474820</td>\n",
       "      <td>302.027027</td>\n",
       "    </tr>\n",
       "    <tr>\n",
       "      <th>std</th>\n",
       "      <td>406.078350</td>\n",
       "      <td>20.640586</td>\n",
       "      <td>151.993956</td>\n",
       "    </tr>\n",
       "    <tr>\n",
       "      <th>min</th>\n",
       "      <td>0.000000</td>\n",
       "      <td>0.000000</td>\n",
       "      <td>2.000000</td>\n",
       "    </tr>\n",
       "    <tr>\n",
       "      <th>25%</th>\n",
       "      <td>271.750000</td>\n",
       "      <td>13.500000</td>\n",
       "      <td>171.000000</td>\n",
       "    </tr>\n",
       "    <tr>\n",
       "      <th>50%</th>\n",
       "      <td>589.000000</td>\n",
       "      <td>29.000000</td>\n",
       "      <td>346.500000</td>\n",
       "    </tr>\n",
       "    <tr>\n",
       "      <th>75%</th>\n",
       "      <td>801.250000</td>\n",
       "      <td>39.500000</td>\n",
       "      <td>428.500000</td>\n",
       "    </tr>\n",
       "    <tr>\n",
       "      <th>max</th>\n",
       "      <td>1730.000000</td>\n",
       "      <td>86.000000</td>\n",
       "      <td>499.000000</td>\n",
       "    </tr>\n",
       "  </tbody>\n",
       "</table>\n",
       "</div>"
      ],
      "text/plain": [
       "         new_cases  new_deaths  vaccinated\n",
       "count   154.000000  139.000000  148.000000\n",
       "mean    579.032468   28.474820  302.027027\n",
       "std     406.078350   20.640586  151.993956\n",
       "min       0.000000    0.000000    2.000000\n",
       "25%     271.750000   13.500000  171.000000\n",
       "50%     589.000000   29.000000  346.500000\n",
       "75%     801.250000   39.500000  428.500000\n",
       "max    1730.000000   86.000000  499.000000"
      ]
     },
     "execution_count": 220,
     "metadata": {},
     "output_type": "execute_result"
    }
   ],
   "source": [
    "# summary statistics of our dataset (numerical columns only)\n",
    "df.describe()"
   ]
  },
  {
   "cell_type": "code",
   "execution_count": 116,
   "id": "98fd5821-2ef8-42cb-a963-44aa6a0802f9",
   "metadata": {},
   "outputs": [
    {
     "data": {
      "text/html": [
       "<div>\n",
       "<style scoped>\n",
       "    .dataframe tbody tr th:only-of-type {\n",
       "        vertical-align: middle;\n",
       "    }\n",
       "\n",
       "    .dataframe tbody tr th {\n",
       "        vertical-align: top;\n",
       "    }\n",
       "\n",
       "    .dataframe thead th {\n",
       "        text-align: right;\n",
       "    }\n",
       "</style>\n",
       "<table border=\"1\" class=\"dataframe\">\n",
       "  <thead>\n",
       "    <tr style=\"text-align: right;\">\n",
       "      <th></th>\n",
       "      <th>date</th>\n",
       "      <th>country</th>\n",
       "      <th>new_cases</th>\n",
       "      <th>new_deaths</th>\n",
       "      <th>vaccinated</th>\n",
       "    </tr>\n",
       "  </thead>\n",
       "  <tbody>\n",
       "    <tr>\n",
       "      <th>count</th>\n",
       "      <td>165</td>\n",
       "      <td>165</td>\n",
       "      <td>154.000000</td>\n",
       "      <td>139.000000</td>\n",
       "      <td>148.000000</td>\n",
       "    </tr>\n",
       "    <tr>\n",
       "      <th>unique</th>\n",
       "      <td>42</td>\n",
       "      <td>5</td>\n",
       "      <td>NaN</td>\n",
       "      <td>NaN</td>\n",
       "      <td>NaN</td>\n",
       "    </tr>\n",
       "    <tr>\n",
       "      <th>top</th>\n",
       "      <td>2024-11-30</td>\n",
       "      <td>Brazil</td>\n",
       "      <td>NaN</td>\n",
       "      <td>NaN</td>\n",
       "      <td>NaN</td>\n",
       "    </tr>\n",
       "    <tr>\n",
       "      <th>freq</th>\n",
       "      <td>7</td>\n",
       "      <td>34</td>\n",
       "      <td>NaN</td>\n",
       "      <td>NaN</td>\n",
       "      <td>NaN</td>\n",
       "    </tr>\n",
       "    <tr>\n",
       "      <th>mean</th>\n",
       "      <td>NaN</td>\n",
       "      <td>NaN</td>\n",
       "      <td>579.032468</td>\n",
       "      <td>28.474820</td>\n",
       "      <td>302.027027</td>\n",
       "    </tr>\n",
       "    <tr>\n",
       "      <th>std</th>\n",
       "      <td>NaN</td>\n",
       "      <td>NaN</td>\n",
       "      <td>406.078350</td>\n",
       "      <td>20.640586</td>\n",
       "      <td>151.993956</td>\n",
       "    </tr>\n",
       "    <tr>\n",
       "      <th>min</th>\n",
       "      <td>NaN</td>\n",
       "      <td>NaN</td>\n",
       "      <td>0.000000</td>\n",
       "      <td>0.000000</td>\n",
       "      <td>2.000000</td>\n",
       "    </tr>\n",
       "    <tr>\n",
       "      <th>25%</th>\n",
       "      <td>NaN</td>\n",
       "      <td>NaN</td>\n",
       "      <td>271.750000</td>\n",
       "      <td>13.500000</td>\n",
       "      <td>171.000000</td>\n",
       "    </tr>\n",
       "    <tr>\n",
       "      <th>50%</th>\n",
       "      <td>NaN</td>\n",
       "      <td>NaN</td>\n",
       "      <td>589.000000</td>\n",
       "      <td>29.000000</td>\n",
       "      <td>346.500000</td>\n",
       "    </tr>\n",
       "    <tr>\n",
       "      <th>75%</th>\n",
       "      <td>NaN</td>\n",
       "      <td>NaN</td>\n",
       "      <td>801.250000</td>\n",
       "      <td>39.500000</td>\n",
       "      <td>428.500000</td>\n",
       "    </tr>\n",
       "    <tr>\n",
       "      <th>max</th>\n",
       "      <td>NaN</td>\n",
       "      <td>NaN</td>\n",
       "      <td>1730.000000</td>\n",
       "      <td>86.000000</td>\n",
       "      <td>499.000000</td>\n",
       "    </tr>\n",
       "  </tbody>\n",
       "</table>\n",
       "</div>"
      ],
      "text/plain": [
       "              date country    new_cases  new_deaths  vaccinated\n",
       "count          165     165   154.000000  139.000000  148.000000\n",
       "unique          42       5          NaN         NaN         NaN\n",
       "top     2024-11-30  Brazil          NaN         NaN         NaN\n",
       "freq             7      34          NaN         NaN         NaN\n",
       "mean           NaN     NaN   579.032468   28.474820  302.027027\n",
       "std            NaN     NaN   406.078350   20.640586  151.993956\n",
       "min            NaN     NaN     0.000000    0.000000    2.000000\n",
       "25%            NaN     NaN   271.750000   13.500000  171.000000\n",
       "50%            NaN     NaN   589.000000   29.000000  346.500000\n",
       "75%            NaN     NaN   801.250000   39.500000  428.500000\n",
       "max            NaN     NaN  1730.000000   86.000000  499.000000"
      ]
     },
     "execution_count": 116,
     "metadata": {},
     "output_type": "execute_result"
    }
   ],
   "source": [
    "# summary statistics of both the numerical and categorical column\n",
    "df.describe(include='all')"
   ]
  },
  {
   "cell_type": "code",
   "execution_count": 118,
   "id": "ccb5130c-bdaf-4d1a-b9a1-74ed3a6cb3ae",
   "metadata": {},
   "outputs": [
    {
     "data": {
      "text/plain": [
       "country\n",
       "Brazil       34\n",
       "China        34\n",
       "Argentina    33\n",
       "Australia    33\n",
       "Canada       31\n",
       "Name: count, dtype: int64"
      ]
     },
     "execution_count": 118,
     "metadata": {},
     "output_type": "execute_result"
    }
   ],
   "source": [
    "# value counts of categorical columns\n",
    "df['country'].value_counts()"
   ]
  },
  {
   "cell_type": "markdown",
   "id": "c3114ceb-3c22-4eef-b546-122a1da6c6e8",
   "metadata": {},
   "source": [
    "<hr>"
   ]
  },
  {
   "cell_type": "markdown",
   "id": "9d0517aa-dffb-4b0e-9a31-88da627c008e",
   "metadata": {},
   "source": [
    "## Data Cleaning and Preprocessing\n",
    "<hr>"
   ]
  },
  {
   "cell_type": "markdown",
   "id": "8c1fbac3-db16-4fed-8562-995bba650d02",
   "metadata": {},
   "source": [
    "### Standardizing Columns and Removing Inconsistency in the Date Format"
   ]
  },
  {
   "cell_type": "code",
   "execution_count": 221,
   "id": "02a74572-aa36-4dec-9460-38850a0828de",
   "metadata": {},
   "outputs": [],
   "source": [
    "## Converting the vaccinated column datatype from object to numeric datatype\n",
    "\n",
    "# Convert to numeric datatype\n",
    "df['vaccinated'] = pd.to_numeric(df['vaccinated'], errors='coerce')"
   ]
  },
  {
   "cell_type": "code",
   "execution_count": 222,
   "id": "48ba1b85-930d-4b54-b52c-4c65e3239f23",
   "metadata": {},
   "outputs": [
    {
     "name": "stdout",
     "output_type": "stream",
     "text": [
      "<class 'pandas.core.frame.DataFrame'>\n",
      "RangeIndex: 165 entries, 0 to 164\n",
      "Data columns (total 5 columns):\n",
      " #   Column      Non-Null Count  Dtype  \n",
      "---  ------      --------------  -----  \n",
      " 0   date        165 non-null    object \n",
      " 1   country     165 non-null    object \n",
      " 2   new_cases   154 non-null    float64\n",
      " 3   new_deaths  139 non-null    float64\n",
      " 4   vaccinated  148 non-null    float64\n",
      "dtypes: float64(3), object(2)\n",
      "memory usage: 6.6+ KB\n"
     ]
    }
   ],
   "source": [
    "df.info()"
   ]
  },
  {
   "cell_type": "code",
   "execution_count": 223,
   "id": "11db28db-7f04-4ebe-8d1b-2ccbcfaeed40",
   "metadata": {},
   "outputs": [
    {
     "data": {
      "text/html": [
       "<div>\n",
       "<style scoped>\n",
       "    .dataframe tbody tr th:only-of-type {\n",
       "        vertical-align: middle;\n",
       "    }\n",
       "\n",
       "    .dataframe tbody tr th {\n",
       "        vertical-align: top;\n",
       "    }\n",
       "\n",
       "    .dataframe thead th {\n",
       "        text-align: right;\n",
       "    }\n",
       "</style>\n",
       "<table border=\"1\" class=\"dataframe\">\n",
       "  <thead>\n",
       "    <tr style=\"text-align: right;\">\n",
       "      <th></th>\n",
       "      <th>date</th>\n",
       "      <th>country</th>\n",
       "      <th>new_cases</th>\n",
       "      <th>new_deaths</th>\n",
       "      <th>vaccinated</th>\n",
       "    </tr>\n",
       "  </thead>\n",
       "  <tbody>\n",
       "    <tr>\n",
       "      <th>0</th>\n",
       "      <td>2024-11-01</td>\n",
       "      <td>Argentina</td>\n",
       "      <td>NaN</td>\n",
       "      <td>NaN</td>\n",
       "      <td>NaN</td>\n",
       "    </tr>\n",
       "    <tr>\n",
       "      <th>1</th>\n",
       "      <td>2024-11-01</td>\n",
       "      <td>Australia</td>\n",
       "      <td>0.0</td>\n",
       "      <td>0.0</td>\n",
       "      <td>327.0</td>\n",
       "    </tr>\n",
       "    <tr>\n",
       "      <th>2</th>\n",
       "      <td>2024-11-01</td>\n",
       "      <td>Australia</td>\n",
       "      <td>0.0</td>\n",
       "      <td>0.0</td>\n",
       "      <td>327.0</td>\n",
       "    </tr>\n",
       "    <tr>\n",
       "      <th>3</th>\n",
       "      <td>2024-11-01</td>\n",
       "      <td>Brazil</td>\n",
       "      <td>971.0</td>\n",
       "      <td>48.0</td>\n",
       "      <td>430.0</td>\n",
       "    </tr>\n",
       "    <tr>\n",
       "      <th>4</th>\n",
       "      <td>2024-11-01</td>\n",
       "      <td>Canada</td>\n",
       "      <td>176.0</td>\n",
       "      <td>8.0</td>\n",
       "      <td>NaN</td>\n",
       "    </tr>\n",
       "  </tbody>\n",
       "</table>\n",
       "</div>"
      ],
      "text/plain": [
       "         date    country  new_cases  new_deaths  vaccinated\n",
       "0  2024-11-01  Argentina        NaN         NaN         NaN\n",
       "1  2024-11-01  Australia        0.0         0.0       327.0\n",
       "2  2024-11-01  Australia        0.0         0.0       327.0\n",
       "3  2024-11-01     Brazil      971.0        48.0       430.0\n",
       "4  2024-11-01     Canada      176.0         8.0         NaN"
      ]
     },
     "execution_count": 223,
     "metadata": {},
     "output_type": "execute_result"
    }
   ],
   "source": [
    "df.head()"
   ]
  },
  {
   "cell_type": "code",
   "execution_count": 224,
   "id": "7e82ca8a-0944-4b3d-9d6b-016dbb403e3c",
   "metadata": {},
   "outputs": [
    {
     "name": "stdout",
     "output_type": "stream",
     "text": [
      "<class 'pandas.core.frame.DataFrame'>\n",
      "RangeIndex: 165 entries, 0 to 164\n",
      "Data columns (total 5 columns):\n",
      " #   Column      Non-Null Count  Dtype         \n",
      "---  ------      --------------  -----         \n",
      " 0   date        150 non-null    datetime64[ns]\n",
      " 1   country     165 non-null    object        \n",
      " 2   new_cases   154 non-null    float64       \n",
      " 3   new_deaths  139 non-null    float64       \n",
      " 4   vaccinated  148 non-null    float64       \n",
      "dtypes: datetime64[ns](1), float64(3), object(1)\n",
      "memory usage: 6.6+ KB\n"
     ]
    }
   ],
   "source": [
    "## Standardizing the date format\n",
    "\n",
    "# stripping trailing spaces or white spaces\n",
    "df['date'] = df['date'].astype(str).str.strip()\n",
    "\n",
    "# converting date column to datetime format\n",
    "df['date'] = pd.to_datetime(df['date'], errors='coerce')\n",
    "\n",
    "# errors='coerce' sets invalid formats to NaT (so they don’t break the code)\n",
    "\n",
    "df.info()"
   ]
  },
  {
   "cell_type": "code",
   "execution_count": 173,
   "id": "2cdd14ef-756f-42b7-820a-ffc124ef1abb",
   "metadata": {},
   "outputs": [
    {
     "data": {
      "text/plain": [
       "dtype('<M8[ns]')"
      ]
     },
     "execution_count": 173,
     "metadata": {},
     "output_type": "execute_result"
    }
   ],
   "source": [
    "df['date'].dtype"
   ]
  },
  {
   "cell_type": "code",
   "execution_count": 196,
   "id": "3f7e74fc-09c5-4c7a-929b-c754ee9f0da6",
   "metadata": {},
   "outputs": [],
   "source": [
    "# pd.set_option('display.max_rows', None)  # Show all rows\n",
    "# pd.reset_option('display.max_rows') # Reset to default"
   ]
  },
  {
   "cell_type": "code",
   "execution_count": 197,
   "id": "2d4ee22c-eedf-4346-a2a9-76380124bf96",
   "metadata": {},
   "outputs": [
    {
     "data": {
      "text/html": [
       "<div>\n",
       "<style scoped>\n",
       "    .dataframe tbody tr th:only-of-type {\n",
       "        vertical-align: middle;\n",
       "    }\n",
       "\n",
       "    .dataframe tbody tr th {\n",
       "        vertical-align: top;\n",
       "    }\n",
       "\n",
       "    .dataframe thead th {\n",
       "        text-align: right;\n",
       "    }\n",
       "</style>\n",
       "<table border=\"1\" class=\"dataframe\">\n",
       "  <thead>\n",
       "    <tr style=\"text-align: right;\">\n",
       "      <th></th>\n",
       "      <th>date</th>\n",
       "      <th>country</th>\n",
       "      <th>new_cases</th>\n",
       "      <th>new_deaths</th>\n",
       "      <th>vaccinated</th>\n",
       "    </tr>\n",
       "  </thead>\n",
       "  <tbody>\n",
       "    <tr>\n",
       "      <th>0</th>\n",
       "      <td>2024-11-01</td>\n",
       "      <td>Argentina</td>\n",
       "      <td>NaN</td>\n",
       "      <td>NaN</td>\n",
       "      <td>NaN</td>\n",
       "    </tr>\n",
       "    <tr>\n",
       "      <th>1</th>\n",
       "      <td>2024-11-01</td>\n",
       "      <td>Australia</td>\n",
       "      <td>0.0</td>\n",
       "      <td>0.0</td>\n",
       "      <td>327.0</td>\n",
       "    </tr>\n",
       "    <tr>\n",
       "      <th>2</th>\n",
       "      <td>2024-11-01</td>\n",
       "      <td>Australia</td>\n",
       "      <td>0.0</td>\n",
       "      <td>0.0</td>\n",
       "      <td>327.0</td>\n",
       "    </tr>\n",
       "    <tr>\n",
       "      <th>3</th>\n",
       "      <td>2024-11-01</td>\n",
       "      <td>Brazil</td>\n",
       "      <td>971.0</td>\n",
       "      <td>48.0</td>\n",
       "      <td>430.0</td>\n",
       "    </tr>\n",
       "    <tr>\n",
       "      <th>4</th>\n",
       "      <td>2024-11-01</td>\n",
       "      <td>Canada</td>\n",
       "      <td>176.0</td>\n",
       "      <td>8.0</td>\n",
       "      <td>NaN</td>\n",
       "    </tr>\n",
       "    <tr>\n",
       "      <th>...</th>\n",
       "      <td>...</td>\n",
       "      <td>...</td>\n",
       "      <td>...</td>\n",
       "      <td>...</td>\n",
       "      <td>...</td>\n",
       "    </tr>\n",
       "    <tr>\n",
       "      <th>160</th>\n",
       "      <td>2024-11-30</td>\n",
       "      <td>Brazil</td>\n",
       "      <td>514.0</td>\n",
       "      <td>25.0</td>\n",
       "      <td>NaN</td>\n",
       "    </tr>\n",
       "    <tr>\n",
       "      <th>161</th>\n",
       "      <td>2024-11-30</td>\n",
       "      <td>Canada</td>\n",
       "      <td>1133.0</td>\n",
       "      <td>56.0</td>\n",
       "      <td>438.0</td>\n",
       "    </tr>\n",
       "    <tr>\n",
       "      <th>162</th>\n",
       "      <td>2024-11-30</td>\n",
       "      <td>Canada</td>\n",
       "      <td>1133.0</td>\n",
       "      <td>56.0</td>\n",
       "      <td>438.0</td>\n",
       "    </tr>\n",
       "    <tr>\n",
       "      <th>163</th>\n",
       "      <td>2024-11-30</td>\n",
       "      <td>China</td>\n",
       "      <td>0.0</td>\n",
       "      <td>0.0</td>\n",
       "      <td>NaN</td>\n",
       "    </tr>\n",
       "    <tr>\n",
       "      <th>164</th>\n",
       "      <td>2024-11-30</td>\n",
       "      <td>China</td>\n",
       "      <td>0.0</td>\n",
       "      <td>0.0</td>\n",
       "      <td>NaN</td>\n",
       "    </tr>\n",
       "  </tbody>\n",
       "</table>\n",
       "<p>165 rows × 5 columns</p>\n",
       "</div>"
      ],
      "text/plain": [
       "          date    country  new_cases  new_deaths  vaccinated\n",
       "0   2024-11-01  Argentina        NaN         NaN         NaN\n",
       "1   2024-11-01  Australia        0.0         0.0       327.0\n",
       "2   2024-11-01  Australia        0.0         0.0       327.0\n",
       "3   2024-11-01     Brazil      971.0        48.0       430.0\n",
       "4   2024-11-01     Canada      176.0         8.0         NaN\n",
       "..         ...        ...        ...         ...         ...\n",
       "160 2024-11-30     Brazil      514.0        25.0         NaN\n",
       "161 2024-11-30     Canada     1133.0        56.0       438.0\n",
       "162 2024-11-30     Canada     1133.0        56.0       438.0\n",
       "163 2024-11-30      China        0.0         0.0         NaN\n",
       "164 2024-11-30      China        0.0         0.0         NaN\n",
       "\n",
       "[165 rows x 5 columns]"
      ]
     },
     "execution_count": 197,
     "metadata": {},
     "output_type": "execute_result"
    }
   ],
   "source": [
    "df"
   ]
  },
  {
   "cell_type": "markdown",
   "id": "000ffc31-2580-45b3-aa79-56acdea6bc7b",
   "metadata": {},
   "source": [
    "**Comment**: We can see that we have successfully converted our date format, and inconsistency removed"
   ]
  },
  {
   "cell_type": "code",
   "execution_count": 225,
   "id": "3ce683ea-46bd-47e5-82ad-e081311cafdd",
   "metadata": {},
   "outputs": [
    {
     "name": "stdout",
     "output_type": "stream",
     "text": [
      "Total unparsed (NaT) dates: 15\n"
     ]
    }
   ],
   "source": [
    "# Count how many got converted to NaT\n",
    "print(\"Total unparsed (NaT) dates:\", df['date'].isnull().sum())"
   ]
  },
  {
   "cell_type": "code",
   "execution_count": 199,
   "id": "c4a15f92-0327-4048-93cc-1ef176248dc2",
   "metadata": {},
   "outputs": [
    {
     "name": "stdout",
     "output_type": "stream",
     "text": [
      "<DatetimeArray>\n",
      "['2024-11-01 00:00:00', '2024-11-02 00:00:00', '2024-11-03 00:00:00',\n",
      " '2024-11-04 00:00:00', '2024-11-05 00:00:00',                 'NaT',\n",
      " '2024-11-06 00:00:00', '2024-11-07 00:00:00', '2024-11-08 00:00:00',\n",
      " '2024-11-09 00:00:00', '2024-11-10 00:00:00', '2024-11-11 00:00:00',\n",
      " '2024-11-12 00:00:00', '2024-11-13 00:00:00', '2024-11-14 00:00:00',\n",
      " '2024-11-15 00:00:00', '2024-11-16 00:00:00', '2024-11-17 00:00:00',\n",
      " '2024-11-18 00:00:00', '2024-11-19 00:00:00', '2024-11-20 00:00:00',\n",
      " '2024-11-21 00:00:00', '2024-11-22 00:00:00', '2024-11-23 00:00:00',\n",
      " '2024-11-24 00:00:00', '2024-11-25 00:00:00', '2024-11-26 00:00:00',\n",
      " '2024-11-27 00:00:00', '2024-11-28 00:00:00', '2024-11-29 00:00:00',\n",
      " '2024-11-30 00:00:00']\n",
      "Length: 31, dtype: datetime64[ns]\n"
     ]
    }
   ],
   "source": [
    "# check for unique values in the date column\n",
    "print(df['date'].unique())"
   ]
  },
  {
   "cell_type": "markdown",
   "id": "0419aa9f-70fe-4f14-a6ce-5d10ab2be7d4",
   "metadata": {},
   "source": [
    "### Identifying Missing Values"
   ]
  },
  {
   "cell_type": "code",
   "execution_count": 226,
   "id": "add52f42-2a65-45d4-8138-ad444e4c4b54",
   "metadata": {},
   "outputs": [
    {
     "data": {
      "text/plain": [
       "date          15\n",
       "country        0\n",
       "new_cases     11\n",
       "new_deaths    26\n",
       "vaccinated    17\n",
       "dtype: int64"
      ]
     },
     "execution_count": 226,
     "metadata": {},
     "output_type": "execute_result"
    }
   ],
   "source": [
    "# identify missing values\n",
    "df.isnull().sum()"
   ]
  },
  {
   "cell_type": "markdown",
   "id": "edadeca8-6b14-4ba5-83f8-ef69fa0d1bdc",
   "metadata": {},
   "source": [
    "**Comment**: From what we can see here, we have 15 rows with missing values in the date column, 11 rows with missing values in the New Cases column, 26 rows with missing values in the New_Deaths column, and 17 rows with missing values in the vaccinated column."
   ]
  },
  {
   "cell_type": "code",
   "execution_count": 227,
   "id": "757ba9a6-6558-4996-9d2e-0a4f6d8d39eb",
   "metadata": {},
   "outputs": [
    {
     "data": {
      "text/plain": [
       "date           9.090909\n",
       "country        0.000000\n",
       "new_cases      6.666667\n",
       "new_deaths    15.757576\n",
       "vaccinated    10.303030\n",
       "dtype: float64"
      ]
     },
     "execution_count": 227,
     "metadata": {},
     "output_type": "execute_result"
    }
   ],
   "source": [
    "# checking percentage of missing values\n",
    "df.isnull().mean() * 100"
   ]
  },
  {
   "cell_type": "markdown",
   "id": "11f0f0bd-cbed-45b5-8d8d-0f41563b7a5b",
   "metadata": {},
   "source": [
    "**Comment**: From our analysis, we have an average of 9.09% missing values in the date column, 6.67% missing values in the New Cases columnn, 15.76% missing values in the New_Deaths column, 10.30% missing values in the vaccinated column"
   ]
  },
  {
   "cell_type": "code",
   "execution_count": 184,
   "id": "eb675b2b-de0f-4e3c-ad90-a4bf16a1d4c2",
   "metadata": {},
   "outputs": [
    {
     "data": {
      "text/plain": [
       "date           True\n",
       "country       False\n",
       "new_cases      True\n",
       "new_deaths     True\n",
       "vaccinated     True\n",
       "dtype: bool"
      ]
     },
     "execution_count": 184,
     "metadata": {},
     "output_type": "execute_result"
    }
   ],
   "source": [
    "# identify columns with atleast one missing value\n",
    "df.isnull().any(axis=0)"
   ]
  },
  {
   "cell_type": "code",
   "execution_count": 185,
   "id": "1443e36a-c790-4975-a661-a3864bb34a35",
   "metadata": {},
   "outputs": [
    {
     "data": {
      "text/plain": [
       "date          False\n",
       "country       False\n",
       "new_cases     False\n",
       "new_deaths    False\n",
       "vaccinated    False\n",
       "dtype: bool"
      ]
     },
     "execution_count": 185,
     "metadata": {},
     "output_type": "execute_result"
    }
   ],
   "source": [
    "# identify columns that have missing values throughout the columns\n",
    "df.isnull().all(axis=0)"
   ]
  },
  {
   "cell_type": "markdown",
   "id": "206e2c8e-40cc-4122-a180-7750690cdc34",
   "metadata": {},
   "source": [
    "**Comment**: Our observation here is that there is no column with missing values throughout"
   ]
  },
  {
   "cell_type": "code",
   "execution_count": 186,
   "id": "71404e6b-8452-4cde-89b4-3314c99e2e88",
   "metadata": {},
   "outputs": [
    {
     "data": {
      "text/plain": [
       "np.int64(0)"
      ]
     },
     "execution_count": 186,
     "metadata": {},
     "output_type": "execute_result"
    }
   ],
   "source": [
    "# number of columns with all missing values\n",
    "df.isnull().all(axis=0).sum()"
   ]
  },
  {
   "cell_type": "code",
   "execution_count": 187,
   "id": "8329daf5-12d5-4369-ae0a-fba2749553a8",
   "metadata": {},
   "outputs": [
    {
     "data": {
      "text/plain": [
       "0       True\n",
       "1      False\n",
       "2      False\n",
       "3      False\n",
       "4       True\n",
       "       ...  \n",
       "160     True\n",
       "161    False\n",
       "162    False\n",
       "163     True\n",
       "164     True\n",
       "Length: 165, dtype: bool"
      ]
     },
     "execution_count": 187,
     "metadata": {},
     "output_type": "execute_result"
    }
   ],
   "source": [
    "# rows with atleast one missing values\n",
    "df.isnull().any(axis=1)"
   ]
  },
  {
   "cell_type": "code",
   "execution_count": 188,
   "id": "7a22c13c-e69f-4141-8a04-4f182b6dbe3f",
   "metadata": {},
   "outputs": [
    {
     "data": {
      "text/plain": [
       "0      False\n",
       "1      False\n",
       "2      False\n",
       "3      False\n",
       "4      False\n",
       "       ...  \n",
       "160    False\n",
       "161    False\n",
       "162    False\n",
       "163    False\n",
       "164    False\n",
       "Length: 165, dtype: bool"
      ]
     },
     "execution_count": 188,
     "metadata": {},
     "output_type": "execute_result"
    }
   ],
   "source": [
    "# rows with all missing values\n",
    "df.isnull().all(axis=1)"
   ]
  },
  {
   "cell_type": "code",
   "execution_count": 189,
   "id": "2c4ed8a7-f387-4bd8-9065-2da340ea85c7",
   "metadata": {},
   "outputs": [
    {
     "data": {
      "text/plain": [
       "np.int64(0)"
      ]
     },
     "execution_count": 189,
     "metadata": {},
     "output_type": "execute_result"
    }
   ],
   "source": [
    "# number of rows with all missing values\n",
    "df.isnull().all(axis=1).sum()"
   ]
  },
  {
   "cell_type": "markdown",
   "id": "69a58507-a42d-4059-a2d5-814dd55dce0c",
   "metadata": {},
   "source": [
    "### Handling Missing Values"
   ]
  },
  {
   "cell_type": "code",
   "execution_count": 228,
   "id": "98469e79-eeec-4391-a6fb-9ebba86c39fd",
   "metadata": {},
   "outputs": [
    {
     "data": {
      "text/plain": [
       "date           9.090909\n",
       "country        0.000000\n",
       "new_cases      6.666667\n",
       "new_deaths    15.757576\n",
       "vaccinated    10.303030\n",
       "dtype: float64"
      ]
     },
     "execution_count": 228,
     "metadata": {},
     "output_type": "execute_result"
    }
   ],
   "source": [
    "## treatment in columns - removing columns\n",
    "# calculating the percent of null values for each column\n",
    "(df.isnull().sum()/len(df.index)) * 100"
   ]
  },
  {
   "cell_type": "code",
   "execution_count": 230,
   "id": "dbbb68d0-bd5d-47a9-8eb3-87beb43762bf",
   "metadata": {},
   "outputs": [
    {
     "data": {
      "text/html": [
       "<div>\n",
       "<style scoped>\n",
       "    .dataframe tbody tr th:only-of-type {\n",
       "        vertical-align: middle;\n",
       "    }\n",
       "\n",
       "    .dataframe tbody tr th {\n",
       "        vertical-align: top;\n",
       "    }\n",
       "\n",
       "    .dataframe thead th {\n",
       "        text-align: right;\n",
       "    }\n",
       "</style>\n",
       "<table border=\"1\" class=\"dataframe\">\n",
       "  <thead>\n",
       "    <tr style=\"text-align: right;\">\n",
       "      <th></th>\n",
       "      <th>date</th>\n",
       "      <th>country</th>\n",
       "      <th>new_cases</th>\n",
       "      <th>new_deaths</th>\n",
       "      <th>vaccinated</th>\n",
       "    </tr>\n",
       "  </thead>\n",
       "  <tbody>\n",
       "    <tr>\n",
       "      <th>0</th>\n",
       "      <td>2024-11-01</td>\n",
       "      <td>Argentina</td>\n",
       "      <td>NaN</td>\n",
       "      <td>NaN</td>\n",
       "      <td>NaN</td>\n",
       "    </tr>\n",
       "    <tr>\n",
       "      <th>12</th>\n",
       "      <td>2024-11-03</td>\n",
       "      <td>Australia</td>\n",
       "      <td>NaN</td>\n",
       "      <td>NaN</td>\n",
       "      <td>474.0</td>\n",
       "    </tr>\n",
       "    <tr>\n",
       "      <th>55</th>\n",
       "      <td>2024-11-11</td>\n",
       "      <td>Brazil</td>\n",
       "      <td>NaN</td>\n",
       "      <td>NaN</td>\n",
       "      <td>285.0</td>\n",
       "    </tr>\n",
       "    <tr>\n",
       "      <th>60</th>\n",
       "      <td>2024-11-12</td>\n",
       "      <td>Brazil</td>\n",
       "      <td>NaN</td>\n",
       "      <td>NaN</td>\n",
       "      <td>182.0</td>\n",
       "    </tr>\n",
       "    <tr>\n",
       "      <th>73</th>\n",
       "      <td>NaT</td>\n",
       "      <td>China</td>\n",
       "      <td>718.0</td>\n",
       "      <td>35.0</td>\n",
       "      <td>NaN</td>\n",
       "    </tr>\n",
       "    <tr>\n",
       "      <th>76</th>\n",
       "      <td>2024-11-15</td>\n",
       "      <td>Brazil</td>\n",
       "      <td>NaN</td>\n",
       "      <td>NaN</td>\n",
       "      <td>NaN</td>\n",
       "    </tr>\n",
       "    <tr>\n",
       "      <th>92</th>\n",
       "      <td>NaT</td>\n",
       "      <td>Argentina</td>\n",
       "      <td>NaN</td>\n",
       "      <td>NaN</td>\n",
       "      <td>NaN</td>\n",
       "    </tr>\n",
       "    <tr>\n",
       "      <th>102</th>\n",
       "      <td>2024-11-19</td>\n",
       "      <td>China</td>\n",
       "      <td>NaN</td>\n",
       "      <td>NaN</td>\n",
       "      <td>169.0</td>\n",
       "    </tr>\n",
       "    <tr>\n",
       "      <th>108</th>\n",
       "      <td>2024-11-20</td>\n",
       "      <td>Canada</td>\n",
       "      <td>NaN</td>\n",
       "      <td>NaN</td>\n",
       "      <td>332.0</td>\n",
       "    </tr>\n",
       "    <tr>\n",
       "      <th>109</th>\n",
       "      <td>2024-11-20</td>\n",
       "      <td>China</td>\n",
       "      <td>116.0</td>\n",
       "      <td>NaN</td>\n",
       "      <td>NaN</td>\n",
       "    </tr>\n",
       "    <tr>\n",
       "      <th>110</th>\n",
       "      <td>NaT</td>\n",
       "      <td>Argentina</td>\n",
       "      <td>1248.0</td>\n",
       "      <td>62.0</td>\n",
       "      <td>NaN</td>\n",
       "    </tr>\n",
       "    <tr>\n",
       "      <th>133</th>\n",
       "      <td>2024-11-25</td>\n",
       "      <td>Australia</td>\n",
       "      <td>NaN</td>\n",
       "      <td>NaN</td>\n",
       "      <td>353.0</td>\n",
       "    </tr>\n",
       "    <tr>\n",
       "      <th>143</th>\n",
       "      <td>NaT</td>\n",
       "      <td>Australia</td>\n",
       "      <td>1074.0</td>\n",
       "      <td>NaN</td>\n",
       "      <td>446.0</td>\n",
       "    </tr>\n",
       "    <tr>\n",
       "      <th>145</th>\n",
       "      <td>2024-11-27</td>\n",
       "      <td>Canada</td>\n",
       "      <td>NaN</td>\n",
       "      <td>NaN</td>\n",
       "      <td>499.0</td>\n",
       "    </tr>\n",
       "    <tr>\n",
       "      <th>155</th>\n",
       "      <td>2024-11-29</td>\n",
       "      <td>Brazil</td>\n",
       "      <td>NaN</td>\n",
       "      <td>NaN</td>\n",
       "      <td>62.0</td>\n",
       "    </tr>\n",
       "  </tbody>\n",
       "</table>\n",
       "</div>"
      ],
      "text/plain": [
       "          date    country  new_cases  new_deaths  vaccinated\n",
       "0   2024-11-01  Argentina        NaN         NaN         NaN\n",
       "12  2024-11-03  Australia        NaN         NaN       474.0\n",
       "55  2024-11-11     Brazil        NaN         NaN       285.0\n",
       "60  2024-11-12     Brazil        NaN         NaN       182.0\n",
       "73         NaT      China      718.0        35.0         NaN\n",
       "76  2024-11-15     Brazil        NaN         NaN         NaN\n",
       "92         NaT  Argentina        NaN         NaN         NaN\n",
       "102 2024-11-19      China        NaN         NaN       169.0\n",
       "108 2024-11-20     Canada        NaN         NaN       332.0\n",
       "109 2024-11-20      China      116.0         NaN         NaN\n",
       "110        NaT  Argentina     1248.0        62.0         NaN\n",
       "133 2024-11-25  Australia        NaN         NaN       353.0\n",
       "143        NaT  Australia     1074.0         NaN       446.0\n",
       "145 2024-11-27     Canada        NaN         NaN       499.0\n",
       "155 2024-11-29     Brazil        NaN         NaN        62.0"
      ]
     },
     "execution_count": 230,
     "metadata": {},
     "output_type": "execute_result"
    }
   ],
   "source": [
    "# missing value treatment in rows - removing rows\n",
    "df[df.isnull().sum(axis=1) >= 2]"
   ]
  },
  {
   "cell_type": "code",
   "execution_count": 261,
   "id": "241c8810-4004-4d23-9c24-3d2649f30a8d",
   "metadata": {},
   "outputs": [
    {
     "name": "stdout",
     "output_type": "stream",
     "text": [
      "<class 'pandas.core.frame.DataFrame'>\n",
      "Index: 150 entries, 1 to 164\n",
      "Data columns (total 5 columns):\n",
      " #   Column      Non-Null Count  Dtype         \n",
      "---  ------      --------------  -----         \n",
      " 0   date        139 non-null    datetime64[ns]\n",
      " 1   country     150 non-null    object        \n",
      " 2   new_cases   150 non-null    float64       \n",
      " 3   new_deaths  137 non-null    float64       \n",
      " 4   vaccinated  139 non-null    float64       \n",
      "dtypes: datetime64[ns](1), float64(3), object(1)\n",
      "memory usage: 7.0+ KB\n"
     ]
    }
   ],
   "source": [
    "# creating a new dataframe where missing values is less than two in a row\n",
    "new_df = df[df.isnull().sum(axis=1) < 2].copy()\n",
    "new_df.info()"
   ]
  },
  {
   "cell_type": "markdown",
   "id": "8dccdcbe-e60e-4c38-87a7-3a7ada8e2599",
   "metadata": {},
   "source": [
    "**Comment**: What just happened here is that, we dropped rows with missing values greater than or equal to 2 and we assigned the ones with less than 2 missing values to a new dataframe called 'new_df'. This dataframe is what we'll be working with henceforth. We'll go ahead to handle other missing values in our new dataframe using 'Mean Imputation'."
   ]
  },
  {
   "cell_type": "markdown",
   "id": "0419bba0-cf42-4cdd-9aa3-84dee774626e",
   "metadata": {},
   "source": [
    "### Filling Missing Values Using Imputation Techniques"
   ]
  },
  {
   "cell_type": "code",
   "execution_count": 264,
   "id": "e4cb1a02-a5b3-4987-aecc-a454974d7cf4",
   "metadata": {
    "scrolled": true
   },
   "outputs": [
    {
     "data": {
      "text/html": [
       "<div>\n",
       "<style scoped>\n",
       "    .dataframe tbody tr th:only-of-type {\n",
       "        vertical-align: middle;\n",
       "    }\n",
       "\n",
       "    .dataframe tbody tr th {\n",
       "        vertical-align: top;\n",
       "    }\n",
       "\n",
       "    .dataframe thead th {\n",
       "        text-align: right;\n",
       "    }\n",
       "</style>\n",
       "<table border=\"1\" class=\"dataframe\">\n",
       "  <thead>\n",
       "    <tr style=\"text-align: right;\">\n",
       "      <th></th>\n",
       "      <th>date</th>\n",
       "      <th>country</th>\n",
       "      <th>new_cases</th>\n",
       "      <th>new_deaths</th>\n",
       "      <th>vaccinated</th>\n",
       "    </tr>\n",
       "  </thead>\n",
       "  <tbody>\n",
       "    <tr>\n",
       "      <th>1</th>\n",
       "      <td>2024-11-01</td>\n",
       "      <td>Australia</td>\n",
       "      <td>0.0</td>\n",
       "      <td>0.000000</td>\n",
       "      <td>327.00000</td>\n",
       "    </tr>\n",
       "    <tr>\n",
       "      <th>2</th>\n",
       "      <td>2024-11-01</td>\n",
       "      <td>Australia</td>\n",
       "      <td>0.0</td>\n",
       "      <td>0.000000</td>\n",
       "      <td>327.00000</td>\n",
       "    </tr>\n",
       "    <tr>\n",
       "      <th>3</th>\n",
       "      <td>2024-11-01</td>\n",
       "      <td>Brazil</td>\n",
       "      <td>971.0</td>\n",
       "      <td>48.000000</td>\n",
       "      <td>430.00000</td>\n",
       "    </tr>\n",
       "    <tr>\n",
       "      <th>4</th>\n",
       "      <td>2024-11-01</td>\n",
       "      <td>Canada</td>\n",
       "      <td>176.0</td>\n",
       "      <td>8.000000</td>\n",
       "      <td>301.42446</td>\n",
       "    </tr>\n",
       "    <tr>\n",
       "      <th>5</th>\n",
       "      <td>2024-11-01</td>\n",
       "      <td>China</td>\n",
       "      <td>1034.0</td>\n",
       "      <td>51.000000</td>\n",
       "      <td>462.00000</td>\n",
       "    </tr>\n",
       "    <tr>\n",
       "      <th>6</th>\n",
       "      <td>2024-11-02</td>\n",
       "      <td>Argentina</td>\n",
       "      <td>23.0</td>\n",
       "      <td>1.000000</td>\n",
       "      <td>195.00000</td>\n",
       "    </tr>\n",
       "    <tr>\n",
       "      <th>7</th>\n",
       "      <td>2024-11-02</td>\n",
       "      <td>Australia</td>\n",
       "      <td>0.0</td>\n",
       "      <td>28.182482</td>\n",
       "      <td>336.00000</td>\n",
       "    </tr>\n",
       "    <tr>\n",
       "      <th>8</th>\n",
       "      <td>2024-11-02</td>\n",
       "      <td>Brazil</td>\n",
       "      <td>185.0</td>\n",
       "      <td>9.000000</td>\n",
       "      <td>173.00000</td>\n",
       "    </tr>\n",
       "    <tr>\n",
       "      <th>9</th>\n",
       "      <td>2024-11-02</td>\n",
       "      <td>Canada</td>\n",
       "      <td>615.0</td>\n",
       "      <td>30.000000</td>\n",
       "      <td>369.00000</td>\n",
       "    </tr>\n",
       "    <tr>\n",
       "      <th>10</th>\n",
       "      <td>2024-11-02</td>\n",
       "      <td>China</td>\n",
       "      <td>376.0</td>\n",
       "      <td>18.000000</td>\n",
       "      <td>61.00000</td>\n",
       "    </tr>\n",
       "    <tr>\n",
       "      <th>11</th>\n",
       "      <td>2024-11-03</td>\n",
       "      <td>Argentina</td>\n",
       "      <td>337.0</td>\n",
       "      <td>16.000000</td>\n",
       "      <td>425.00000</td>\n",
       "    </tr>\n",
       "    <tr>\n",
       "      <th>13</th>\n",
       "      <td>2024-11-03</td>\n",
       "      <td>Brazil</td>\n",
       "      <td>641.0</td>\n",
       "      <td>28.182482</td>\n",
       "      <td>47.00000</td>\n",
       "    </tr>\n",
       "    <tr>\n",
       "      <th>14</th>\n",
       "      <td>2024-11-03</td>\n",
       "      <td>Canada</td>\n",
       "      <td>785.0</td>\n",
       "      <td>39.000000</td>\n",
       "      <td>320.00000</td>\n",
       "    </tr>\n",
       "    <tr>\n",
       "      <th>15</th>\n",
       "      <td>2024-11-03</td>\n",
       "      <td>China</td>\n",
       "      <td>35.0</td>\n",
       "      <td>1.000000</td>\n",
       "      <td>369.00000</td>\n",
       "    </tr>\n",
       "    <tr>\n",
       "      <th>16</th>\n",
       "      <td>2024-11-04</td>\n",
       "      <td>Argentina</td>\n",
       "      <td>96.0</td>\n",
       "      <td>4.000000</td>\n",
       "      <td>383.00000</td>\n",
       "    </tr>\n",
       "    <tr>\n",
       "      <th>17</th>\n",
       "      <td>2024-11-04</td>\n",
       "      <td>Australia</td>\n",
       "      <td>0.0</td>\n",
       "      <td>0.000000</td>\n",
       "      <td>440.00000</td>\n",
       "    </tr>\n",
       "    <tr>\n",
       "      <th>18</th>\n",
       "      <td>2024-11-04</td>\n",
       "      <td>Brazil</td>\n",
       "      <td>793.0</td>\n",
       "      <td>39.000000</td>\n",
       "      <td>137.00000</td>\n",
       "    </tr>\n",
       "    <tr>\n",
       "      <th>19</th>\n",
       "      <td>2024-11-04</td>\n",
       "      <td>Brazil</td>\n",
       "      <td>793.0</td>\n",
       "      <td>39.000000</td>\n",
       "      <td>137.00000</td>\n",
       "    </tr>\n",
       "    <tr>\n",
       "      <th>20</th>\n",
       "      <td>2024-11-04</td>\n",
       "      <td>Canada</td>\n",
       "      <td>884.0</td>\n",
       "      <td>44.000000</td>\n",
       "      <td>493.00000</td>\n",
       "    </tr>\n",
       "    <tr>\n",
       "      <th>21</th>\n",
       "      <td>2024-11-04</td>\n",
       "      <td>China</td>\n",
       "      <td>696.0</td>\n",
       "      <td>34.000000</td>\n",
       "      <td>301.42446</td>\n",
       "    </tr>\n",
       "    <tr>\n",
       "      <th>22</th>\n",
       "      <td>2024-11-05</td>\n",
       "      <td>Argentina</td>\n",
       "      <td>283.0</td>\n",
       "      <td>28.182482</td>\n",
       "      <td>41.00000</td>\n",
       "    </tr>\n",
       "    <tr>\n",
       "      <th>23</th>\n",
       "      <td>2024-11-05</td>\n",
       "      <td>Australia</td>\n",
       "      <td>140.0</td>\n",
       "      <td>7.000000</td>\n",
       "      <td>450.00000</td>\n",
       "    </tr>\n",
       "    <tr>\n",
       "      <th>24</th>\n",
       "      <td>2024-11-05</td>\n",
       "      <td>Brazil</td>\n",
       "      <td>638.0</td>\n",
       "      <td>31.000000</td>\n",
       "      <td>346.00000</td>\n",
       "    </tr>\n",
       "    <tr>\n",
       "      <th>25</th>\n",
       "      <td>NaT</td>\n",
       "      <td>Canada</td>\n",
       "      <td>867.0</td>\n",
       "      <td>43.000000</td>\n",
       "      <td>485.00000</td>\n",
       "    </tr>\n",
       "    <tr>\n",
       "      <th>26</th>\n",
       "      <td>2024-11-05</td>\n",
       "      <td>China</td>\n",
       "      <td>772.0</td>\n",
       "      <td>38.000000</td>\n",
       "      <td>359.00000</td>\n",
       "    </tr>\n",
       "    <tr>\n",
       "      <th>27</th>\n",
       "      <td>2024-11-06</td>\n",
       "      <td>Argentina</td>\n",
       "      <td>377.0</td>\n",
       "      <td>18.000000</td>\n",
       "      <td>418.00000</td>\n",
       "    </tr>\n",
       "    <tr>\n",
       "      <th>28</th>\n",
       "      <td>2024-11-06</td>\n",
       "      <td>Australia</td>\n",
       "      <td>351.0</td>\n",
       "      <td>17.000000</td>\n",
       "      <td>401.00000</td>\n",
       "    </tr>\n",
       "    <tr>\n",
       "      <th>29</th>\n",
       "      <td>2024-11-06</td>\n",
       "      <td>Brazil</td>\n",
       "      <td>10.0</td>\n",
       "      <td>0.000000</td>\n",
       "      <td>2.00000</td>\n",
       "    </tr>\n",
       "    <tr>\n",
       "      <th>30</th>\n",
       "      <td>2024-11-06</td>\n",
       "      <td>Canada</td>\n",
       "      <td>152.0</td>\n",
       "      <td>28.182482</td>\n",
       "      <td>421.00000</td>\n",
       "    </tr>\n",
       "    <tr>\n",
       "      <th>31</th>\n",
       "      <td>2024-11-06</td>\n",
       "      <td>China</td>\n",
       "      <td>483.0</td>\n",
       "      <td>24.000000</td>\n",
       "      <td>383.00000</td>\n",
       "    </tr>\n",
       "    <tr>\n",
       "      <th>32</th>\n",
       "      <td>2024-11-07</td>\n",
       "      <td>Argentina</td>\n",
       "      <td>391.0</td>\n",
       "      <td>19.000000</td>\n",
       "      <td>75.00000</td>\n",
       "    </tr>\n",
       "    <tr>\n",
       "      <th>33</th>\n",
       "      <td>2024-11-07</td>\n",
       "      <td>Australia</td>\n",
       "      <td>423.0</td>\n",
       "      <td>21.000000</td>\n",
       "      <td>339.00000</td>\n",
       "    </tr>\n",
       "    <tr>\n",
       "      <th>34</th>\n",
       "      <td>2024-11-07</td>\n",
       "      <td>Brazil</td>\n",
       "      <td>605.0</td>\n",
       "      <td>30.000000</td>\n",
       "      <td>121.00000</td>\n",
       "    </tr>\n",
       "    <tr>\n",
       "      <th>35</th>\n",
       "      <td>NaT</td>\n",
       "      <td>Canada</td>\n",
       "      <td>560.0</td>\n",
       "      <td>28.000000</td>\n",
       "      <td>449.00000</td>\n",
       "    </tr>\n",
       "    <tr>\n",
       "      <th>36</th>\n",
       "      <td>2024-11-07</td>\n",
       "      <td>China</td>\n",
       "      <td>0.0</td>\n",
       "      <td>0.000000</td>\n",
       "      <td>115.00000</td>\n",
       "    </tr>\n",
       "    <tr>\n",
       "      <th>37</th>\n",
       "      <td>2024-11-08</td>\n",
       "      <td>Argentina</td>\n",
       "      <td>665.0</td>\n",
       "      <td>33.000000</td>\n",
       "      <td>301.42446</td>\n",
       "    </tr>\n",
       "    <tr>\n",
       "      <th>38</th>\n",
       "      <td>2024-11-08</td>\n",
       "      <td>Australia</td>\n",
       "      <td>313.0</td>\n",
       "      <td>15.000000</td>\n",
       "      <td>486.00000</td>\n",
       "    </tr>\n",
       "    <tr>\n",
       "      <th>39</th>\n",
       "      <td>2024-11-08</td>\n",
       "      <td>Australia</td>\n",
       "      <td>313.0</td>\n",
       "      <td>15.000000</td>\n",
       "      <td>486.00000</td>\n",
       "    </tr>\n",
       "    <tr>\n",
       "      <th>40</th>\n",
       "      <td>2024-11-08</td>\n",
       "      <td>Brazil</td>\n",
       "      <td>212.0</td>\n",
       "      <td>28.182482</td>\n",
       "      <td>313.00000</td>\n",
       "    </tr>\n",
       "    <tr>\n",
       "      <th>41</th>\n",
       "      <td>2024-11-08</td>\n",
       "      <td>Canada</td>\n",
       "      <td>404.0</td>\n",
       "      <td>20.000000</td>\n",
       "      <td>484.00000</td>\n",
       "    </tr>\n",
       "    <tr>\n",
       "      <th>42</th>\n",
       "      <td>2024-11-08</td>\n",
       "      <td>China</td>\n",
       "      <td>444.0</td>\n",
       "      <td>22.000000</td>\n",
       "      <td>276.00000</td>\n",
       "    </tr>\n",
       "    <tr>\n",
       "      <th>43</th>\n",
       "      <td>2024-11-09</td>\n",
       "      <td>Argentina</td>\n",
       "      <td>376.0</td>\n",
       "      <td>18.000000</td>\n",
       "      <td>174.00000</td>\n",
       "    </tr>\n",
       "    <tr>\n",
       "      <th>44</th>\n",
       "      <td>2024-11-09</td>\n",
       "      <td>Australia</td>\n",
       "      <td>268.0</td>\n",
       "      <td>13.000000</td>\n",
       "      <td>358.00000</td>\n",
       "    </tr>\n",
       "    <tr>\n",
       "      <th>45</th>\n",
       "      <td>2024-11-09</td>\n",
       "      <td>Brazil</td>\n",
       "      <td>918.0</td>\n",
       "      <td>45.000000</td>\n",
       "      <td>57.00000</td>\n",
       "    </tr>\n",
       "    <tr>\n",
       "      <th>46</th>\n",
       "      <td>2024-11-09</td>\n",
       "      <td>Canada</td>\n",
       "      <td>320.0</td>\n",
       "      <td>16.000000</td>\n",
       "      <td>476.00000</td>\n",
       "    </tr>\n",
       "    <tr>\n",
       "      <th>47</th>\n",
       "      <td>2024-11-09</td>\n",
       "      <td>China</td>\n",
       "      <td>853.0</td>\n",
       "      <td>42.000000</td>\n",
       "      <td>252.00000</td>\n",
       "    </tr>\n",
       "    <tr>\n",
       "      <th>48</th>\n",
       "      <td>2024-11-10</td>\n",
       "      <td>Argentina</td>\n",
       "      <td>454.0</td>\n",
       "      <td>22.000000</td>\n",
       "      <td>142.00000</td>\n",
       "    </tr>\n",
       "    <tr>\n",
       "      <th>49</th>\n",
       "      <td>2024-11-10</td>\n",
       "      <td>Australia</td>\n",
       "      <td>405.0</td>\n",
       "      <td>20.000000</td>\n",
       "      <td>301.42446</td>\n",
       "    </tr>\n",
       "    <tr>\n",
       "      <th>50</th>\n",
       "      <td>2024-11-10</td>\n",
       "      <td>Brazil</td>\n",
       "      <td>57.0</td>\n",
       "      <td>2.000000</td>\n",
       "      <td>18.00000</td>\n",
       "    </tr>\n",
       "    <tr>\n",
       "      <th>51</th>\n",
       "      <td>2024-11-10</td>\n",
       "      <td>Canada</td>\n",
       "      <td>209.0</td>\n",
       "      <td>10.000000</td>\n",
       "      <td>418.00000</td>\n",
       "    </tr>\n",
       "    <tr>\n",
       "      <th>52</th>\n",
       "      <td>2024-11-10</td>\n",
       "      <td>China</td>\n",
       "      <td>0.0</td>\n",
       "      <td>0.000000</td>\n",
       "      <td>171.00000</td>\n",
       "    </tr>\n",
       "    <tr>\n",
       "      <th>53</th>\n",
       "      <td>NaT</td>\n",
       "      <td>Argentina</td>\n",
       "      <td>532.0</td>\n",
       "      <td>26.000000</td>\n",
       "      <td>378.00000</td>\n",
       "    </tr>\n",
       "    <tr>\n",
       "      <th>54</th>\n",
       "      <td>2024-11-11</td>\n",
       "      <td>Australia</td>\n",
       "      <td>403.0</td>\n",
       "      <td>20.000000</td>\n",
       "      <td>454.00000</td>\n",
       "    </tr>\n",
       "    <tr>\n",
       "      <th>56</th>\n",
       "      <td>2024-11-11</td>\n",
       "      <td>Canada</td>\n",
       "      <td>0.0</td>\n",
       "      <td>0.000000</td>\n",
       "      <td>471.00000</td>\n",
       "    </tr>\n",
       "    <tr>\n",
       "      <th>57</th>\n",
       "      <td>2024-11-11</td>\n",
       "      <td>China</td>\n",
       "      <td>226.0</td>\n",
       "      <td>11.000000</td>\n",
       "      <td>493.00000</td>\n",
       "    </tr>\n",
       "    <tr>\n",
       "      <th>58</th>\n",
       "      <td>2024-11-12</td>\n",
       "      <td>Argentina</td>\n",
       "      <td>217.0</td>\n",
       "      <td>10.000000</td>\n",
       "      <td>70.00000</td>\n",
       "    </tr>\n",
       "    <tr>\n",
       "      <th>59</th>\n",
       "      <td>2024-11-12</td>\n",
       "      <td>Australia</td>\n",
       "      <td>796.0</td>\n",
       "      <td>28.182482</td>\n",
       "      <td>433.00000</td>\n",
       "    </tr>\n",
       "    <tr>\n",
       "      <th>61</th>\n",
       "      <td>2024-11-12</td>\n",
       "      <td>Canada</td>\n",
       "      <td>120.0</td>\n",
       "      <td>6.000000</td>\n",
       "      <td>404.00000</td>\n",
       "    </tr>\n",
       "    <tr>\n",
       "      <th>62</th>\n",
       "      <td>2024-11-12</td>\n",
       "      <td>China</td>\n",
       "      <td>422.0</td>\n",
       "      <td>21.000000</td>\n",
       "      <td>448.00000</td>\n",
       "    </tr>\n",
       "    <tr>\n",
       "      <th>63</th>\n",
       "      <td>2024-11-13</td>\n",
       "      <td>Argentina</td>\n",
       "      <td>560.0</td>\n",
       "      <td>28.000000</td>\n",
       "      <td>451.00000</td>\n",
       "    </tr>\n",
       "    <tr>\n",
       "      <th>64</th>\n",
       "      <td>2024-11-13</td>\n",
       "      <td>Australia</td>\n",
       "      <td>783.0</td>\n",
       "      <td>28.182482</td>\n",
       "      <td>436.00000</td>\n",
       "    </tr>\n",
       "    <tr>\n",
       "      <th>65</th>\n",
       "      <td>2024-11-13</td>\n",
       "      <td>Brazil</td>\n",
       "      <td>591.0</td>\n",
       "      <td>29.000000</td>\n",
       "      <td>102.00000</td>\n",
       "    </tr>\n",
       "    <tr>\n",
       "      <th>66</th>\n",
       "      <td>2024-11-13</td>\n",
       "      <td>Canada</td>\n",
       "      <td>436.0</td>\n",
       "      <td>21.000000</td>\n",
       "      <td>344.00000</td>\n",
       "    </tr>\n",
       "    <tr>\n",
       "      <th>67</th>\n",
       "      <td>2024-11-13</td>\n",
       "      <td>China</td>\n",
       "      <td>246.0</td>\n",
       "      <td>12.000000</td>\n",
       "      <td>107.00000</td>\n",
       "    </tr>\n",
       "    <tr>\n",
       "      <th>68</th>\n",
       "      <td>2024-11-14</td>\n",
       "      <td>Argentina</td>\n",
       "      <td>806.0</td>\n",
       "      <td>40.000000</td>\n",
       "      <td>11.00000</td>\n",
       "    </tr>\n",
       "    <tr>\n",
       "      <th>69</th>\n",
       "      <td>2024-11-14</td>\n",
       "      <td>Argentina</td>\n",
       "      <td>806.0</td>\n",
       "      <td>40.000000</td>\n",
       "      <td>11.00000</td>\n",
       "    </tr>\n",
       "    <tr>\n",
       "      <th>70</th>\n",
       "      <td>2024-11-14</td>\n",
       "      <td>Australia</td>\n",
       "      <td>1018.0</td>\n",
       "      <td>50.000000</td>\n",
       "      <td>328.00000</td>\n",
       "    </tr>\n",
       "    <tr>\n",
       "      <th>71</th>\n",
       "      <td>2024-11-14</td>\n",
       "      <td>Brazil</td>\n",
       "      <td>640.0</td>\n",
       "      <td>32.000000</td>\n",
       "      <td>481.00000</td>\n",
       "    </tr>\n",
       "    <tr>\n",
       "      <th>72</th>\n",
       "      <td>2024-11-14</td>\n",
       "      <td>Canada</td>\n",
       "      <td>646.0</td>\n",
       "      <td>32.000000</td>\n",
       "      <td>401.00000</td>\n",
       "    </tr>\n",
       "    <tr>\n",
       "      <th>74</th>\n",
       "      <td>2024-11-15</td>\n",
       "      <td>Argentina</td>\n",
       "      <td>728.0</td>\n",
       "      <td>36.000000</td>\n",
       "      <td>301.42446</td>\n",
       "    </tr>\n",
       "    <tr>\n",
       "      <th>75</th>\n",
       "      <td>2024-11-15</td>\n",
       "      <td>Australia</td>\n",
       "      <td>770.0</td>\n",
       "      <td>38.000000</td>\n",
       "      <td>382.00000</td>\n",
       "    </tr>\n",
       "    <tr>\n",
       "      <th>77</th>\n",
       "      <td>2024-11-15</td>\n",
       "      <td>Canada</td>\n",
       "      <td>717.0</td>\n",
       "      <td>35.000000</td>\n",
       "      <td>369.00000</td>\n",
       "    </tr>\n",
       "    <tr>\n",
       "      <th>78</th>\n",
       "      <td>2024-11-15</td>\n",
       "      <td>China</td>\n",
       "      <td>345.0</td>\n",
       "      <td>17.000000</td>\n",
       "      <td>301.00000</td>\n",
       "    </tr>\n",
       "    <tr>\n",
       "      <th>79</th>\n",
       "      <td>2024-11-16</td>\n",
       "      <td>Argentina</td>\n",
       "      <td>751.0</td>\n",
       "      <td>37.000000</td>\n",
       "      <td>295.00000</td>\n",
       "    </tr>\n",
       "    <tr>\n",
       "      <th>80</th>\n",
       "      <td>2024-11-16</td>\n",
       "      <td>Australia</td>\n",
       "      <td>823.0</td>\n",
       "      <td>41.000000</td>\n",
       "      <td>314.00000</td>\n",
       "    </tr>\n",
       "    <tr>\n",
       "      <th>81</th>\n",
       "      <td>2024-11-16</td>\n",
       "      <td>Brazil</td>\n",
       "      <td>491.0</td>\n",
       "      <td>24.000000</td>\n",
       "      <td>45.00000</td>\n",
       "    </tr>\n",
       "    <tr>\n",
       "      <th>82</th>\n",
       "      <td>NaT</td>\n",
       "      <td>Canada</td>\n",
       "      <td>677.0</td>\n",
       "      <td>33.000000</td>\n",
       "      <td>323.00000</td>\n",
       "    </tr>\n",
       "    <tr>\n",
       "      <th>83</th>\n",
       "      <td>NaT</td>\n",
       "      <td>China</td>\n",
       "      <td>727.0</td>\n",
       "      <td>36.000000</td>\n",
       "      <td>326.00000</td>\n",
       "    </tr>\n",
       "    <tr>\n",
       "      <th>84</th>\n",
       "      <td>NaT</td>\n",
       "      <td>China</td>\n",
       "      <td>727.0</td>\n",
       "      <td>36.000000</td>\n",
       "      <td>326.00000</td>\n",
       "    </tr>\n",
       "    <tr>\n",
       "      <th>85</th>\n",
       "      <td>2024-11-17</td>\n",
       "      <td>Argentina</td>\n",
       "      <td>759.0</td>\n",
       "      <td>28.182482</td>\n",
       "      <td>397.00000</td>\n",
       "    </tr>\n",
       "    <tr>\n",
       "      <th>86</th>\n",
       "      <td>2024-11-17</td>\n",
       "      <td>Argentina</td>\n",
       "      <td>759.0</td>\n",
       "      <td>28.182482</td>\n",
       "      <td>397.00000</td>\n",
       "    </tr>\n",
       "    <tr>\n",
       "      <th>87</th>\n",
       "      <td>NaT</td>\n",
       "      <td>Australia</td>\n",
       "      <td>942.0</td>\n",
       "      <td>47.000000</td>\n",
       "      <td>474.00000</td>\n",
       "    </tr>\n",
       "    <tr>\n",
       "      <th>88</th>\n",
       "      <td>2024-11-17</td>\n",
       "      <td>Brazil</td>\n",
       "      <td>18.0</td>\n",
       "      <td>0.000000</td>\n",
       "      <td>37.00000</td>\n",
       "    </tr>\n",
       "    <tr>\n",
       "      <th>89</th>\n",
       "      <td>2024-11-17</td>\n",
       "      <td>Brazil</td>\n",
       "      <td>18.0</td>\n",
       "      <td>0.000000</td>\n",
       "      <td>37.00000</td>\n",
       "    </tr>\n",
       "    <tr>\n",
       "      <th>90</th>\n",
       "      <td>2024-11-17</td>\n",
       "      <td>Canada</td>\n",
       "      <td>294.0</td>\n",
       "      <td>14.000000</td>\n",
       "      <td>358.00000</td>\n",
       "    </tr>\n",
       "    <tr>\n",
       "      <th>91</th>\n",
       "      <td>2024-11-17</td>\n",
       "      <td>China</td>\n",
       "      <td>863.0</td>\n",
       "      <td>43.000000</td>\n",
       "      <td>206.00000</td>\n",
       "    </tr>\n",
       "    <tr>\n",
       "      <th>93</th>\n",
       "      <td>2024-11-18</td>\n",
       "      <td>Australia</td>\n",
       "      <td>882.0</td>\n",
       "      <td>28.182482</td>\n",
       "      <td>458.00000</td>\n",
       "    </tr>\n",
       "    <tr>\n",
       "      <th>94</th>\n",
       "      <td>2024-11-18</td>\n",
       "      <td>Brazil</td>\n",
       "      <td>433.0</td>\n",
       "      <td>21.000000</td>\n",
       "      <td>457.00000</td>\n",
       "    </tr>\n",
       "    <tr>\n",
       "      <th>95</th>\n",
       "      <td>2024-11-18</td>\n",
       "      <td>Canada</td>\n",
       "      <td>38.0</td>\n",
       "      <td>1.000000</td>\n",
       "      <td>385.00000</td>\n",
       "    </tr>\n",
       "    <tr>\n",
       "      <th>96</th>\n",
       "      <td>2024-11-18</td>\n",
       "      <td>China</td>\n",
       "      <td>94.0</td>\n",
       "      <td>4.000000</td>\n",
       "      <td>138.00000</td>\n",
       "    </tr>\n",
       "    <tr>\n",
       "      <th>97</th>\n",
       "      <td>2024-11-18</td>\n",
       "      <td>China</td>\n",
       "      <td>94.0</td>\n",
       "      <td>4.000000</td>\n",
       "      <td>138.00000</td>\n",
       "    </tr>\n",
       "    <tr>\n",
       "      <th>98</th>\n",
       "      <td>2024-11-19</td>\n",
       "      <td>Argentina</td>\n",
       "      <td>916.0</td>\n",
       "      <td>45.000000</td>\n",
       "      <td>260.00000</td>\n",
       "    </tr>\n",
       "    <tr>\n",
       "      <th>99</th>\n",
       "      <td>2024-11-19</td>\n",
       "      <td>Australia</td>\n",
       "      <td>730.0</td>\n",
       "      <td>36.000000</td>\n",
       "      <td>480.00000</td>\n",
       "    </tr>\n",
       "    <tr>\n",
       "      <th>100</th>\n",
       "      <td>2024-11-19</td>\n",
       "      <td>Brazil</td>\n",
       "      <td>114.0</td>\n",
       "      <td>5.000000</td>\n",
       "      <td>168.00000</td>\n",
       "    </tr>\n",
       "    <tr>\n",
       "      <th>101</th>\n",
       "      <td>2024-11-19</td>\n",
       "      <td>Canada</td>\n",
       "      <td>0.0</td>\n",
       "      <td>0.000000</td>\n",
       "      <td>352.00000</td>\n",
       "    </tr>\n",
       "    <tr>\n",
       "      <th>103</th>\n",
       "      <td>2024-11-20</td>\n",
       "      <td>Argentina</td>\n",
       "      <td>589.0</td>\n",
       "      <td>29.000000</td>\n",
       "      <td>120.00000</td>\n",
       "    </tr>\n",
       "    <tr>\n",
       "      <th>104</th>\n",
       "      <td>2024-11-20</td>\n",
       "      <td>Argentina</td>\n",
       "      <td>589.0</td>\n",
       "      <td>29.000000</td>\n",
       "      <td>120.00000</td>\n",
       "    </tr>\n",
       "    <tr>\n",
       "      <th>105</th>\n",
       "      <td>2024-11-20</td>\n",
       "      <td>Australia</td>\n",
       "      <td>749.0</td>\n",
       "      <td>37.000000</td>\n",
       "      <td>421.00000</td>\n",
       "    </tr>\n",
       "    <tr>\n",
       "      <th>106</th>\n",
       "      <td>2024-11-20</td>\n",
       "      <td>Brazil</td>\n",
       "      <td>587.0</td>\n",
       "      <td>29.000000</td>\n",
       "      <td>11.00000</td>\n",
       "    </tr>\n",
       "    <tr>\n",
       "      <th>107</th>\n",
       "      <td>2024-11-20</td>\n",
       "      <td>Brazil</td>\n",
       "      <td>587.0</td>\n",
       "      <td>29.000000</td>\n",
       "      <td>11.00000</td>\n",
       "    </tr>\n",
       "    <tr>\n",
       "      <th>111</th>\n",
       "      <td>2024-11-21</td>\n",
       "      <td>Australia</td>\n",
       "      <td>626.0</td>\n",
       "      <td>31.000000</td>\n",
       "      <td>499.00000</td>\n",
       "    </tr>\n",
       "    <tr>\n",
       "      <th>112</th>\n",
       "      <td>2024-11-21</td>\n",
       "      <td>Brazil</td>\n",
       "      <td>896.0</td>\n",
       "      <td>44.000000</td>\n",
       "      <td>187.00000</td>\n",
       "    </tr>\n",
       "    <tr>\n",
       "      <th>113</th>\n",
       "      <td>2024-11-21</td>\n",
       "      <td>Canada</td>\n",
       "      <td>606.0</td>\n",
       "      <td>30.000000</td>\n",
       "      <td>465.00000</td>\n",
       "    </tr>\n",
       "    <tr>\n",
       "      <th>114</th>\n",
       "      <td>2024-11-21</td>\n",
       "      <td>China</td>\n",
       "      <td>588.0</td>\n",
       "      <td>29.000000</td>\n",
       "      <td>107.00000</td>\n",
       "    </tr>\n",
       "    <tr>\n",
       "      <th>115</th>\n",
       "      <td>2024-11-22</td>\n",
       "      <td>Argentina</td>\n",
       "      <td>896.0</td>\n",
       "      <td>28.182482</td>\n",
       "      <td>349.00000</td>\n",
       "    </tr>\n",
       "    <tr>\n",
       "      <th>116</th>\n",
       "      <td>2024-11-22</td>\n",
       "      <td>Australia</td>\n",
       "      <td>741.0</td>\n",
       "      <td>37.000000</td>\n",
       "      <td>346.00000</td>\n",
       "    </tr>\n",
       "    <tr>\n",
       "      <th>117</th>\n",
       "      <td>2024-11-22</td>\n",
       "      <td>Brazil</td>\n",
       "      <td>345.0</td>\n",
       "      <td>17.000000</td>\n",
       "      <td>397.00000</td>\n",
       "    </tr>\n",
       "    <tr>\n",
       "      <th>118</th>\n",
       "      <td>2024-11-22</td>\n",
       "      <td>Brazil</td>\n",
       "      <td>345.0</td>\n",
       "      <td>17.000000</td>\n",
       "      <td>397.00000</td>\n",
       "    </tr>\n",
       "    <tr>\n",
       "      <th>119</th>\n",
       "      <td>2024-11-22</td>\n",
       "      <td>Canada</td>\n",
       "      <td>664.0</td>\n",
       "      <td>33.000000</td>\n",
       "      <td>309.00000</td>\n",
       "    </tr>\n",
       "    <tr>\n",
       "      <th>120</th>\n",
       "      <td>2024-11-22</td>\n",
       "      <td>China</td>\n",
       "      <td>627.0</td>\n",
       "      <td>31.000000</td>\n",
       "      <td>278.00000</td>\n",
       "    </tr>\n",
       "    <tr>\n",
       "      <th>121</th>\n",
       "      <td>2024-11-23</td>\n",
       "      <td>Argentina</td>\n",
       "      <td>1196.0</td>\n",
       "      <td>59.000000</td>\n",
       "      <td>422.00000</td>\n",
       "    </tr>\n",
       "    <tr>\n",
       "      <th>122</th>\n",
       "      <td>NaT</td>\n",
       "      <td>Australia</td>\n",
       "      <td>1087.0</td>\n",
       "      <td>54.000000</td>\n",
       "      <td>395.00000</td>\n",
       "    </tr>\n",
       "    <tr>\n",
       "      <th>123</th>\n",
       "      <td>NaT</td>\n",
       "      <td>Australia</td>\n",
       "      <td>1087.0</td>\n",
       "      <td>54.000000</td>\n",
       "      <td>395.00000</td>\n",
       "    </tr>\n",
       "    <tr>\n",
       "      <th>124</th>\n",
       "      <td>2024-11-23</td>\n",
       "      <td>Brazil</td>\n",
       "      <td>151.0</td>\n",
       "      <td>7.000000</td>\n",
       "      <td>131.00000</td>\n",
       "    </tr>\n",
       "    <tr>\n",
       "      <th>125</th>\n",
       "      <td>2024-11-23</td>\n",
       "      <td>Canada</td>\n",
       "      <td>730.0</td>\n",
       "      <td>36.000000</td>\n",
       "      <td>427.00000</td>\n",
       "    </tr>\n",
       "    <tr>\n",
       "      <th>126</th>\n",
       "      <td>2024-11-23</td>\n",
       "      <td>China</td>\n",
       "      <td>1030.0</td>\n",
       "      <td>51.000000</td>\n",
       "      <td>30.00000</td>\n",
       "    </tr>\n",
       "    <tr>\n",
       "      <th>127</th>\n",
       "      <td>2024-11-24</td>\n",
       "      <td>Argentina</td>\n",
       "      <td>831.0</td>\n",
       "      <td>41.000000</td>\n",
       "      <td>33.00000</td>\n",
       "    </tr>\n",
       "    <tr>\n",
       "      <th>128</th>\n",
       "      <td>2024-11-24</td>\n",
       "      <td>Australia</td>\n",
       "      <td>1196.0</td>\n",
       "      <td>59.000000</td>\n",
       "      <td>356.00000</td>\n",
       "    </tr>\n",
       "    <tr>\n",
       "      <th>129</th>\n",
       "      <td>2024-11-24</td>\n",
       "      <td>Brazil</td>\n",
       "      <td>66.0</td>\n",
       "      <td>3.000000</td>\n",
       "      <td>498.00000</td>\n",
       "    </tr>\n",
       "    <tr>\n",
       "      <th>130</th>\n",
       "      <td>2024-11-24</td>\n",
       "      <td>Canada</td>\n",
       "      <td>597.0</td>\n",
       "      <td>28.182482</td>\n",
       "      <td>319.00000</td>\n",
       "    </tr>\n",
       "    <tr>\n",
       "      <th>131</th>\n",
       "      <td>2024-11-24</td>\n",
       "      <td>China</td>\n",
       "      <td>10.0</td>\n",
       "      <td>0.000000</td>\n",
       "      <td>375.00000</td>\n",
       "    </tr>\n",
       "    <tr>\n",
       "      <th>132</th>\n",
       "      <td>2024-11-25</td>\n",
       "      <td>Argentina</td>\n",
       "      <td>1063.0</td>\n",
       "      <td>53.000000</td>\n",
       "      <td>301.42446</td>\n",
       "    </tr>\n",
       "    <tr>\n",
       "      <th>134</th>\n",
       "      <td>2024-11-25</td>\n",
       "      <td>Brazil</td>\n",
       "      <td>357.0</td>\n",
       "      <td>17.000000</td>\n",
       "      <td>301.42446</td>\n",
       "    </tr>\n",
       "    <tr>\n",
       "      <th>135</th>\n",
       "      <td>2024-11-25</td>\n",
       "      <td>Canada</td>\n",
       "      <td>48.0</td>\n",
       "      <td>2.000000</td>\n",
       "      <td>377.00000</td>\n",
       "    </tr>\n",
       "    <tr>\n",
       "      <th>136</th>\n",
       "      <td>2024-11-25</td>\n",
       "      <td>China</td>\n",
       "      <td>1093.0</td>\n",
       "      <td>54.000000</td>\n",
       "      <td>266.00000</td>\n",
       "    </tr>\n",
       "    <tr>\n",
       "      <th>137</th>\n",
       "      <td>2024-11-26</td>\n",
       "      <td>Argentina</td>\n",
       "      <td>1350.0</td>\n",
       "      <td>67.000000</td>\n",
       "      <td>175.00000</td>\n",
       "    </tr>\n",
       "    <tr>\n",
       "      <th>138</th>\n",
       "      <td>2024-11-26</td>\n",
       "      <td>Australia</td>\n",
       "      <td>1568.0</td>\n",
       "      <td>78.000000</td>\n",
       "      <td>496.00000</td>\n",
       "    </tr>\n",
       "    <tr>\n",
       "      <th>139</th>\n",
       "      <td>2024-11-26</td>\n",
       "      <td>Brazil</td>\n",
       "      <td>410.0</td>\n",
       "      <td>20.000000</td>\n",
       "      <td>70.00000</td>\n",
       "    </tr>\n",
       "    <tr>\n",
       "      <th>140</th>\n",
       "      <td>NaT</td>\n",
       "      <td>Canada</td>\n",
       "      <td>778.0</td>\n",
       "      <td>38.000000</td>\n",
       "      <td>440.00000</td>\n",
       "    </tr>\n",
       "    <tr>\n",
       "      <th>141</th>\n",
       "      <td>2024-11-26</td>\n",
       "      <td>China</td>\n",
       "      <td>949.0</td>\n",
       "      <td>47.000000</td>\n",
       "      <td>444.00000</td>\n",
       "    </tr>\n",
       "    <tr>\n",
       "      <th>142</th>\n",
       "      <td>2024-11-27</td>\n",
       "      <td>Argentina</td>\n",
       "      <td>1470.0</td>\n",
       "      <td>73.000000</td>\n",
       "      <td>233.00000</td>\n",
       "    </tr>\n",
       "    <tr>\n",
       "      <th>144</th>\n",
       "      <td>2024-11-27</td>\n",
       "      <td>Brazil</td>\n",
       "      <td>759.0</td>\n",
       "      <td>37.000000</td>\n",
       "      <td>418.00000</td>\n",
       "    </tr>\n",
       "    <tr>\n",
       "      <th>146</th>\n",
       "      <td>2024-11-27</td>\n",
       "      <td>China</td>\n",
       "      <td>521.0</td>\n",
       "      <td>26.000000</td>\n",
       "      <td>17.00000</td>\n",
       "    </tr>\n",
       "    <tr>\n",
       "      <th>147</th>\n",
       "      <td>2024-11-28</td>\n",
       "      <td>Argentina</td>\n",
       "      <td>1228.0</td>\n",
       "      <td>61.000000</td>\n",
       "      <td>171.00000</td>\n",
       "    </tr>\n",
       "    <tr>\n",
       "      <th>148</th>\n",
       "      <td>2024-11-28</td>\n",
       "      <td>Australia</td>\n",
       "      <td>1730.0</td>\n",
       "      <td>86.000000</td>\n",
       "      <td>347.00000</td>\n",
       "    </tr>\n",
       "    <tr>\n",
       "      <th>149</th>\n",
       "      <td>2024-11-28</td>\n",
       "      <td>Brazil</td>\n",
       "      <td>141.0</td>\n",
       "      <td>7.000000</td>\n",
       "      <td>134.00000</td>\n",
       "    </tr>\n",
       "    <tr>\n",
       "      <th>150</th>\n",
       "      <td>2024-11-28</td>\n",
       "      <td>Canada</td>\n",
       "      <td>803.0</td>\n",
       "      <td>28.182482</td>\n",
       "      <td>483.00000</td>\n",
       "    </tr>\n",
       "    <tr>\n",
       "      <th>151</th>\n",
       "      <td>2024-11-28</td>\n",
       "      <td>China</td>\n",
       "      <td>401.0</td>\n",
       "      <td>20.000000</td>\n",
       "      <td>190.00000</td>\n",
       "    </tr>\n",
       "    <tr>\n",
       "      <th>152</th>\n",
       "      <td>2024-11-28</td>\n",
       "      <td>China</td>\n",
       "      <td>401.0</td>\n",
       "      <td>20.000000</td>\n",
       "      <td>190.00000</td>\n",
       "    </tr>\n",
       "    <tr>\n",
       "      <th>153</th>\n",
       "      <td>2024-11-29</td>\n",
       "      <td>Argentina</td>\n",
       "      <td>1661.0</td>\n",
       "      <td>83.000000</td>\n",
       "      <td>220.00000</td>\n",
       "    </tr>\n",
       "    <tr>\n",
       "      <th>154</th>\n",
       "      <td>2024-11-29</td>\n",
       "      <td>Australia</td>\n",
       "      <td>1650.0</td>\n",
       "      <td>82.000000</td>\n",
       "      <td>491.00000</td>\n",
       "    </tr>\n",
       "    <tr>\n",
       "      <th>156</th>\n",
       "      <td>NaT</td>\n",
       "      <td>Canada</td>\n",
       "      <td>618.0</td>\n",
       "      <td>30.000000</td>\n",
       "      <td>351.00000</td>\n",
       "    </tr>\n",
       "    <tr>\n",
       "      <th>157</th>\n",
       "      <td>2024-11-29</td>\n",
       "      <td>China</td>\n",
       "      <td>67.0</td>\n",
       "      <td>3.000000</td>\n",
       "      <td>490.00000</td>\n",
       "    </tr>\n",
       "    <tr>\n",
       "      <th>158</th>\n",
       "      <td>2024-11-30</td>\n",
       "      <td>Argentina</td>\n",
       "      <td>1619.0</td>\n",
       "      <td>80.000000</td>\n",
       "      <td>301.42446</td>\n",
       "    </tr>\n",
       "    <tr>\n",
       "      <th>159</th>\n",
       "      <td>2024-11-30</td>\n",
       "      <td>Australia</td>\n",
       "      <td>1473.0</td>\n",
       "      <td>73.000000</td>\n",
       "      <td>428.00000</td>\n",
       "    </tr>\n",
       "    <tr>\n",
       "      <th>160</th>\n",
       "      <td>2024-11-30</td>\n",
       "      <td>Brazil</td>\n",
       "      <td>514.0</td>\n",
       "      <td>25.000000</td>\n",
       "      <td>301.42446</td>\n",
       "    </tr>\n",
       "    <tr>\n",
       "      <th>161</th>\n",
       "      <td>2024-11-30</td>\n",
       "      <td>Canada</td>\n",
       "      <td>1133.0</td>\n",
       "      <td>56.000000</td>\n",
       "      <td>438.00000</td>\n",
       "    </tr>\n",
       "    <tr>\n",
       "      <th>162</th>\n",
       "      <td>2024-11-30</td>\n",
       "      <td>Canada</td>\n",
       "      <td>1133.0</td>\n",
       "      <td>56.000000</td>\n",
       "      <td>438.00000</td>\n",
       "    </tr>\n",
       "    <tr>\n",
       "      <th>163</th>\n",
       "      <td>2024-11-30</td>\n",
       "      <td>China</td>\n",
       "      <td>0.0</td>\n",
       "      <td>0.000000</td>\n",
       "      <td>301.42446</td>\n",
       "    </tr>\n",
       "    <tr>\n",
       "      <th>164</th>\n",
       "      <td>2024-11-30</td>\n",
       "      <td>China</td>\n",
       "      <td>0.0</td>\n",
       "      <td>0.000000</td>\n",
       "      <td>301.42446</td>\n",
       "    </tr>\n",
       "  </tbody>\n",
       "</table>\n",
       "</div>"
      ],
      "text/plain": [
       "          date    country  new_cases  new_deaths  vaccinated\n",
       "1   2024-11-01  Australia        0.0    0.000000   327.00000\n",
       "2   2024-11-01  Australia        0.0    0.000000   327.00000\n",
       "3   2024-11-01     Brazil      971.0   48.000000   430.00000\n",
       "4   2024-11-01     Canada      176.0    8.000000   301.42446\n",
       "5   2024-11-01      China     1034.0   51.000000   462.00000\n",
       "6   2024-11-02  Argentina       23.0    1.000000   195.00000\n",
       "7   2024-11-02  Australia        0.0   28.182482   336.00000\n",
       "8   2024-11-02     Brazil      185.0    9.000000   173.00000\n",
       "9   2024-11-02     Canada      615.0   30.000000   369.00000\n",
       "10  2024-11-02      China      376.0   18.000000    61.00000\n",
       "11  2024-11-03  Argentina      337.0   16.000000   425.00000\n",
       "13  2024-11-03     Brazil      641.0   28.182482    47.00000\n",
       "14  2024-11-03     Canada      785.0   39.000000   320.00000\n",
       "15  2024-11-03      China       35.0    1.000000   369.00000\n",
       "16  2024-11-04  Argentina       96.0    4.000000   383.00000\n",
       "17  2024-11-04  Australia        0.0    0.000000   440.00000\n",
       "18  2024-11-04     Brazil      793.0   39.000000   137.00000\n",
       "19  2024-11-04     Brazil      793.0   39.000000   137.00000\n",
       "20  2024-11-04     Canada      884.0   44.000000   493.00000\n",
       "21  2024-11-04      China      696.0   34.000000   301.42446\n",
       "22  2024-11-05  Argentina      283.0   28.182482    41.00000\n",
       "23  2024-11-05  Australia      140.0    7.000000   450.00000\n",
       "24  2024-11-05     Brazil      638.0   31.000000   346.00000\n",
       "25         NaT     Canada      867.0   43.000000   485.00000\n",
       "26  2024-11-05      China      772.0   38.000000   359.00000\n",
       "27  2024-11-06  Argentina      377.0   18.000000   418.00000\n",
       "28  2024-11-06  Australia      351.0   17.000000   401.00000\n",
       "29  2024-11-06     Brazil       10.0    0.000000     2.00000\n",
       "30  2024-11-06     Canada      152.0   28.182482   421.00000\n",
       "31  2024-11-06      China      483.0   24.000000   383.00000\n",
       "32  2024-11-07  Argentina      391.0   19.000000    75.00000\n",
       "33  2024-11-07  Australia      423.0   21.000000   339.00000\n",
       "34  2024-11-07     Brazil      605.0   30.000000   121.00000\n",
       "35         NaT     Canada      560.0   28.000000   449.00000\n",
       "36  2024-11-07      China        0.0    0.000000   115.00000\n",
       "37  2024-11-08  Argentina      665.0   33.000000   301.42446\n",
       "38  2024-11-08  Australia      313.0   15.000000   486.00000\n",
       "39  2024-11-08  Australia      313.0   15.000000   486.00000\n",
       "40  2024-11-08     Brazil      212.0   28.182482   313.00000\n",
       "41  2024-11-08     Canada      404.0   20.000000   484.00000\n",
       "42  2024-11-08      China      444.0   22.000000   276.00000\n",
       "43  2024-11-09  Argentina      376.0   18.000000   174.00000\n",
       "44  2024-11-09  Australia      268.0   13.000000   358.00000\n",
       "45  2024-11-09     Brazil      918.0   45.000000    57.00000\n",
       "46  2024-11-09     Canada      320.0   16.000000   476.00000\n",
       "47  2024-11-09      China      853.0   42.000000   252.00000\n",
       "48  2024-11-10  Argentina      454.0   22.000000   142.00000\n",
       "49  2024-11-10  Australia      405.0   20.000000   301.42446\n",
       "50  2024-11-10     Brazil       57.0    2.000000    18.00000\n",
       "51  2024-11-10     Canada      209.0   10.000000   418.00000\n",
       "52  2024-11-10      China        0.0    0.000000   171.00000\n",
       "53         NaT  Argentina      532.0   26.000000   378.00000\n",
       "54  2024-11-11  Australia      403.0   20.000000   454.00000\n",
       "56  2024-11-11     Canada        0.0    0.000000   471.00000\n",
       "57  2024-11-11      China      226.0   11.000000   493.00000\n",
       "58  2024-11-12  Argentina      217.0   10.000000    70.00000\n",
       "59  2024-11-12  Australia      796.0   28.182482   433.00000\n",
       "61  2024-11-12     Canada      120.0    6.000000   404.00000\n",
       "62  2024-11-12      China      422.0   21.000000   448.00000\n",
       "63  2024-11-13  Argentina      560.0   28.000000   451.00000\n",
       "64  2024-11-13  Australia      783.0   28.182482   436.00000\n",
       "65  2024-11-13     Brazil      591.0   29.000000   102.00000\n",
       "66  2024-11-13     Canada      436.0   21.000000   344.00000\n",
       "67  2024-11-13      China      246.0   12.000000   107.00000\n",
       "68  2024-11-14  Argentina      806.0   40.000000    11.00000\n",
       "69  2024-11-14  Argentina      806.0   40.000000    11.00000\n",
       "70  2024-11-14  Australia     1018.0   50.000000   328.00000\n",
       "71  2024-11-14     Brazil      640.0   32.000000   481.00000\n",
       "72  2024-11-14     Canada      646.0   32.000000   401.00000\n",
       "74  2024-11-15  Argentina      728.0   36.000000   301.42446\n",
       "75  2024-11-15  Australia      770.0   38.000000   382.00000\n",
       "77  2024-11-15     Canada      717.0   35.000000   369.00000\n",
       "78  2024-11-15      China      345.0   17.000000   301.00000\n",
       "79  2024-11-16  Argentina      751.0   37.000000   295.00000\n",
       "80  2024-11-16  Australia      823.0   41.000000   314.00000\n",
       "81  2024-11-16     Brazil      491.0   24.000000    45.00000\n",
       "82         NaT     Canada      677.0   33.000000   323.00000\n",
       "83         NaT      China      727.0   36.000000   326.00000\n",
       "84         NaT      China      727.0   36.000000   326.00000\n",
       "85  2024-11-17  Argentina      759.0   28.182482   397.00000\n",
       "86  2024-11-17  Argentina      759.0   28.182482   397.00000\n",
       "87         NaT  Australia      942.0   47.000000   474.00000\n",
       "88  2024-11-17     Brazil       18.0    0.000000    37.00000\n",
       "89  2024-11-17     Brazil       18.0    0.000000    37.00000\n",
       "90  2024-11-17     Canada      294.0   14.000000   358.00000\n",
       "91  2024-11-17      China      863.0   43.000000   206.00000\n",
       "93  2024-11-18  Australia      882.0   28.182482   458.00000\n",
       "94  2024-11-18     Brazil      433.0   21.000000   457.00000\n",
       "95  2024-11-18     Canada       38.0    1.000000   385.00000\n",
       "96  2024-11-18      China       94.0    4.000000   138.00000\n",
       "97  2024-11-18      China       94.0    4.000000   138.00000\n",
       "98  2024-11-19  Argentina      916.0   45.000000   260.00000\n",
       "99  2024-11-19  Australia      730.0   36.000000   480.00000\n",
       "100 2024-11-19     Brazil      114.0    5.000000   168.00000\n",
       "101 2024-11-19     Canada        0.0    0.000000   352.00000\n",
       "103 2024-11-20  Argentina      589.0   29.000000   120.00000\n",
       "104 2024-11-20  Argentina      589.0   29.000000   120.00000\n",
       "105 2024-11-20  Australia      749.0   37.000000   421.00000\n",
       "106 2024-11-20     Brazil      587.0   29.000000    11.00000\n",
       "107 2024-11-20     Brazil      587.0   29.000000    11.00000\n",
       "111 2024-11-21  Australia      626.0   31.000000   499.00000\n",
       "112 2024-11-21     Brazil      896.0   44.000000   187.00000\n",
       "113 2024-11-21     Canada      606.0   30.000000   465.00000\n",
       "114 2024-11-21      China      588.0   29.000000   107.00000\n",
       "115 2024-11-22  Argentina      896.0   28.182482   349.00000\n",
       "116 2024-11-22  Australia      741.0   37.000000   346.00000\n",
       "117 2024-11-22     Brazil      345.0   17.000000   397.00000\n",
       "118 2024-11-22     Brazil      345.0   17.000000   397.00000\n",
       "119 2024-11-22     Canada      664.0   33.000000   309.00000\n",
       "120 2024-11-22      China      627.0   31.000000   278.00000\n",
       "121 2024-11-23  Argentina     1196.0   59.000000   422.00000\n",
       "122        NaT  Australia     1087.0   54.000000   395.00000\n",
       "123        NaT  Australia     1087.0   54.000000   395.00000\n",
       "124 2024-11-23     Brazil      151.0    7.000000   131.00000\n",
       "125 2024-11-23     Canada      730.0   36.000000   427.00000\n",
       "126 2024-11-23      China     1030.0   51.000000    30.00000\n",
       "127 2024-11-24  Argentina      831.0   41.000000    33.00000\n",
       "128 2024-11-24  Australia     1196.0   59.000000   356.00000\n",
       "129 2024-11-24     Brazil       66.0    3.000000   498.00000\n",
       "130 2024-11-24     Canada      597.0   28.182482   319.00000\n",
       "131 2024-11-24      China       10.0    0.000000   375.00000\n",
       "132 2024-11-25  Argentina     1063.0   53.000000   301.42446\n",
       "134 2024-11-25     Brazil      357.0   17.000000   301.42446\n",
       "135 2024-11-25     Canada       48.0    2.000000   377.00000\n",
       "136 2024-11-25      China     1093.0   54.000000   266.00000\n",
       "137 2024-11-26  Argentina     1350.0   67.000000   175.00000\n",
       "138 2024-11-26  Australia     1568.0   78.000000   496.00000\n",
       "139 2024-11-26     Brazil      410.0   20.000000    70.00000\n",
       "140        NaT     Canada      778.0   38.000000   440.00000\n",
       "141 2024-11-26      China      949.0   47.000000   444.00000\n",
       "142 2024-11-27  Argentina     1470.0   73.000000   233.00000\n",
       "144 2024-11-27     Brazil      759.0   37.000000   418.00000\n",
       "146 2024-11-27      China      521.0   26.000000    17.00000\n",
       "147 2024-11-28  Argentina     1228.0   61.000000   171.00000\n",
       "148 2024-11-28  Australia     1730.0   86.000000   347.00000\n",
       "149 2024-11-28     Brazil      141.0    7.000000   134.00000\n",
       "150 2024-11-28     Canada      803.0   28.182482   483.00000\n",
       "151 2024-11-28      China      401.0   20.000000   190.00000\n",
       "152 2024-11-28      China      401.0   20.000000   190.00000\n",
       "153 2024-11-29  Argentina     1661.0   83.000000   220.00000\n",
       "154 2024-11-29  Australia     1650.0   82.000000   491.00000\n",
       "156        NaT     Canada      618.0   30.000000   351.00000\n",
       "157 2024-11-29      China       67.0    3.000000   490.00000\n",
       "158 2024-11-30  Argentina     1619.0   80.000000   301.42446\n",
       "159 2024-11-30  Australia     1473.0   73.000000   428.00000\n",
       "160 2024-11-30     Brazil      514.0   25.000000   301.42446\n",
       "161 2024-11-30     Canada     1133.0   56.000000   438.00000\n",
       "162 2024-11-30     Canada     1133.0   56.000000   438.00000\n",
       "163 2024-11-30      China        0.0    0.000000   301.42446\n",
       "164 2024-11-30      China        0.0    0.000000   301.42446"
      ]
     },
     "execution_count": 264,
     "metadata": {},
     "output_type": "execute_result"
    }
   ],
   "source": [
    "new_df"
   ]
  },
  {
   "cell_type": "code",
   "execution_count": 256,
   "id": "136ecb35-0706-4569-b42e-f8e90ed834f2",
   "metadata": {},
   "outputs": [],
   "source": [
    "pd.set_option('display.max_rows', None)  # Show all rows\n",
    "# pd.reset_option('display.max_rows') # Reset to default"
   ]
  },
  {
   "cell_type": "markdown",
   "id": "46324217-01eb-4387-8243-8af0a0bb0aa1",
   "metadata": {},
   "source": [
    "### Filling the date column missing values using 'Fill forward' ffill() Technique"
   ]
  },
  {
   "cell_type": "code",
   "execution_count": 265,
   "id": "23699c3f-a8a8-4a7f-8c3a-46162f6c93f7",
   "metadata": {},
   "outputs": [],
   "source": [
    "## fill date missing values using fill forward technique\n",
    "\n",
    "# Forward fill\n",
    "new_df.loc[:, 'date'] = new_df['date'].ffill()"
   ]
  },
  {
   "cell_type": "markdown",
   "id": "1c6126af-a2df-4d66-ae54-887349b4b6b4",
   "metadata": {},
   "source": [
    "**Comment**: We have successfully handled our date column missing values using the 'Fill Forward' ffill() technique. Now, if we check again for missing values on our date column, we'll found none, which works as expected"
   ]
  },
  {
   "cell_type": "code",
   "execution_count": 267,
   "id": "1295cf07-586a-4106-a637-d598f15d1c22",
   "metadata": {},
   "outputs": [
    {
     "data": {
      "text/plain": [
       "np.int64(0)"
      ]
     },
     "execution_count": 267,
     "metadata": {},
     "output_type": "execute_result"
    }
   ],
   "source": [
    "# Checking for missing values in our date column\n",
    "new_df['date'].isnull().sum()"
   ]
  },
  {
   "cell_type": "markdown",
   "id": "c9582872-21d0-4049-b107-6c54679e70fe",
   "metadata": {},
   "source": [
    "**Comment**: np.int64(0) means that there's no more missing values in our date column. Now let's handle the missing values in the Numerical columns"
   ]
  },
  {
   "cell_type": "markdown",
   "id": "6d57ca2b-aac6-40d7-bf80-b0f1cd7cbf81",
   "metadata": {},
   "source": [
    "### Filling the Numerical columns missing values using Mean Inputation Technique"
   ]
  },
  {
   "cell_type": "code",
   "execution_count": 268,
   "id": "e935bfa3-6d14-4383-a300-5bdd00e94bf8",
   "metadata": {},
   "outputs": [
    {
     "data": {
      "text/plain": [
       "date          0\n",
       "country       0\n",
       "new_cases     0\n",
       "new_deaths    0\n",
       "vaccinated    0\n",
       "dtype: int64"
      ]
     },
     "execution_count": 268,
     "metadata": {},
     "output_type": "execute_result"
    }
   ],
   "source": [
    "# checking missing values\n",
    "new_df.isnull().sum()"
   ]
  },
  {
   "cell_type": "code",
   "execution_count": 258,
   "id": "fa01be80-6e6f-49f6-8d2e-eee87f089298",
   "metadata": {},
   "outputs": [
    {
     "data": {
      "text/html": [
       "<div>\n",
       "<style scoped>\n",
       "    .dataframe tbody tr th:only-of-type {\n",
       "        vertical-align: middle;\n",
       "    }\n",
       "\n",
       "    .dataframe tbody tr th {\n",
       "        vertical-align: top;\n",
       "    }\n",
       "\n",
       "    .dataframe thead th {\n",
       "        text-align: right;\n",
       "    }\n",
       "</style>\n",
       "<table border=\"1\" class=\"dataframe\">\n",
       "  <thead>\n",
       "    <tr style=\"text-align: right;\">\n",
       "      <th></th>\n",
       "      <th>date</th>\n",
       "      <th>new_cases</th>\n",
       "      <th>new_deaths</th>\n",
       "      <th>vaccinated</th>\n",
       "    </tr>\n",
       "  </thead>\n",
       "  <tbody>\n",
       "    <tr>\n",
       "      <th>count</th>\n",
       "      <td>150</td>\n",
       "      <td>150.000000</td>\n",
       "      <td>137.000000</td>\n",
       "      <td>139.000000</td>\n",
       "    </tr>\n",
       "    <tr>\n",
       "      <th>mean</th>\n",
       "      <td>2024-11-15 12:48:00</td>\n",
       "      <td>573.433333</td>\n",
       "      <td>28.182482</td>\n",
       "      <td>301.424460</td>\n",
       "    </tr>\n",
       "    <tr>\n",
       "      <th>min</th>\n",
       "      <td>2024-11-01 00:00:00</td>\n",
       "      <td>0.000000</td>\n",
       "      <td>0.000000</td>\n",
       "      <td>2.000000</td>\n",
       "    </tr>\n",
       "    <tr>\n",
       "      <th>25%</th>\n",
       "      <td>2024-11-08 00:00:00</td>\n",
       "      <td>271.750000</td>\n",
       "      <td>13.000000</td>\n",
       "      <td>171.000000</td>\n",
       "    </tr>\n",
       "    <tr>\n",
       "      <th>50%</th>\n",
       "      <td>2024-11-16 00:00:00</td>\n",
       "      <td>588.500000</td>\n",
       "      <td>29.000000</td>\n",
       "      <td>347.000000</td>\n",
       "    </tr>\n",
       "    <tr>\n",
       "      <th>75%</th>\n",
       "      <td>2024-11-23 00:00:00</td>\n",
       "      <td>795.250000</td>\n",
       "      <td>39.000000</td>\n",
       "      <td>427.500000</td>\n",
       "    </tr>\n",
       "    <tr>\n",
       "      <th>max</th>\n",
       "      <td>2024-11-30 00:00:00</td>\n",
       "      <td>1730.000000</td>\n",
       "      <td>86.000000</td>\n",
       "      <td>499.000000</td>\n",
       "    </tr>\n",
       "    <tr>\n",
       "      <th>std</th>\n",
       "      <td>NaN</td>\n",
       "      <td>403.829976</td>\n",
       "      <td>20.582409</td>\n",
       "      <td>152.595039</td>\n",
       "    </tr>\n",
       "  </tbody>\n",
       "</table>\n",
       "</div>"
      ],
      "text/plain": [
       "                      date    new_cases  new_deaths  vaccinated\n",
       "count                  150   150.000000  137.000000  139.000000\n",
       "mean   2024-11-15 12:48:00   573.433333   28.182482  301.424460\n",
       "min    2024-11-01 00:00:00     0.000000    0.000000    2.000000\n",
       "25%    2024-11-08 00:00:00   271.750000   13.000000  171.000000\n",
       "50%    2024-11-16 00:00:00   588.500000   29.000000  347.000000\n",
       "75%    2024-11-23 00:00:00   795.250000   39.000000  427.500000\n",
       "max    2024-11-30 00:00:00  1730.000000   86.000000  499.000000\n",
       "std                    NaN   403.829976   20.582409  152.595039"
      ]
     },
     "execution_count": 258,
     "metadata": {},
     "output_type": "execute_result"
    }
   ],
   "source": [
    "new_df.describe()"
   ]
  },
  {
   "cell_type": "markdown",
   "id": "51cb2ca6-96ed-42db-b8fd-8d809b1c7887",
   "metadata": {},
   "source": [
    "**Comment**: As we can see, we only have missing values in new_deaths column and vaccinated column. We'll handle these missing values using Mean Imputation Technique because they're numerical columns."
   ]
  },
  {
   "cell_type": "code",
   "execution_count": 269,
   "id": "867a503b-15ca-4572-8429-63abc83d6649",
   "metadata": {},
   "outputs": [],
   "source": [
    "# filling with mean value\n",
    "new_df[['new_deaths', 'vaccinated']] = new_df[['new_deaths', 'vaccinated']].fillna(new_df[['new_deaths', 'vaccinated']].mean())"
   ]
  },
  {
   "cell_type": "code",
   "execution_count": 270,
   "id": "f8c1019d-8ff7-46d0-a7b5-304c7ee05679",
   "metadata": {},
   "outputs": [
    {
     "data": {
      "text/plain": [
       "date          0\n",
       "country       0\n",
       "new_cases     0\n",
       "new_deaths    0\n",
       "vaccinated    0\n",
       "dtype: int64"
      ]
     },
     "execution_count": 270,
     "metadata": {},
     "output_type": "execute_result"
    }
   ],
   "source": [
    "# checking missing values\n",
    "new_df.isnull().sum()"
   ]
  },
  {
   "cell_type": "markdown",
   "id": "25cccc8b-cc5c-44b4-80c7-3ae1884be636",
   "metadata": {},
   "source": [
    "**Great**! As we can see, we no more have any missing value in any of the rows again. We have successfully detected and handled missing values in our dataset to have a clean data for analysis. Next, is to check for duplicates and remove them."
   ]
  },
  {
   "cell_type": "code",
   "execution_count": 273,
   "id": "7bb35fb1-2495-4672-b6df-c85e96de2492",
   "metadata": {},
   "outputs": [
    {
     "name": "stdout",
     "output_type": "stream",
     "text": [
      "<class 'pandas.core.frame.DataFrame'>\n",
      "Index: 150 entries, 1 to 164\n",
      "Data columns (total 5 columns):\n",
      " #   Column      Non-Null Count  Dtype         \n",
      "---  ------      --------------  -----         \n",
      " 0   date        150 non-null    datetime64[ns]\n",
      " 1   country     150 non-null    object        \n",
      " 2   new_cases   150 non-null    float64       \n",
      " 3   new_deaths  150 non-null    float64       \n",
      " 4   vaccinated  150 non-null    float64       \n",
      "dtypes: datetime64[ns](1), float64(3), object(1)\n",
      "memory usage: 7.0+ KB\n"
     ]
    }
   ],
   "source": [
    "new_df.info()"
   ]
  },
  {
   "cell_type": "markdown",
   "id": "31d7e95d-2b7a-4be4-99e9-9850bf20cd67",
   "metadata": {},
   "source": [
    "### Checking for Duplicate Rows"
   ]
  },
  {
   "cell_type": "code",
   "execution_count": 276,
   "id": "334e80c5-a99b-485f-9b6e-d8c6eb780da5",
   "metadata": {},
   "outputs": [
    {
     "data": {
      "text/plain": [
       "np.int64(15)"
      ]
     },
     "execution_count": 276,
     "metadata": {},
     "output_type": "execute_result"
    }
   ],
   "source": [
    "# Checking for duplicate rows\n",
    "new_df.duplicated().sum()"
   ]
  },
  {
   "cell_type": "markdown",
   "id": "97f310f5-1f47-4ef4-9dc3-d84116c41e8e",
   "metadata": {},
   "source": [
    "We have 15 duplicate rows! Let's remove them."
   ]
  },
  {
   "cell_type": "markdown",
   "id": "08892136-0da6-4a6f-9a86-d98f2c4f7ad1",
   "metadata": {},
   "source": [
    "### Removing duplicate rows"
   ]
  },
  {
   "cell_type": "code",
   "execution_count": 279,
   "id": "76f46af9-66ab-44ec-b0a6-d52aab5b8f9d",
   "metadata": {},
   "outputs": [],
   "source": [
    "# removing duplicate rows\n",
    "new_df.drop_duplicates(keep='first', inplace=True)"
   ]
  },
  {
   "cell_type": "markdown",
   "id": "53f8957b-78a6-402d-8487-502a98fdbc82",
   "metadata": {},
   "source": [
    "**Comment**: From here we can see that the date column has changed from object to datetime datatype format."
   ]
  },
  {
   "cell_type": "code",
   "execution_count": 280,
   "id": "fd6f7e98-cc5a-422b-9a0b-455ecd0ea44e",
   "metadata": {},
   "outputs": [
    {
     "data": {
      "text/plain": [
       "np.int64(0)"
      ]
     },
     "execution_count": 280,
     "metadata": {},
     "output_type": "execute_result"
    }
   ],
   "source": [
    "# Checking for duplicate rows\n",
    "new_df.duplicated().sum()"
   ]
  },
  {
   "cell_type": "code",
   "execution_count": 281,
   "id": "491926ae-871c-4629-b12f-56dee98619e6",
   "metadata": {},
   "outputs": [
    {
     "name": "stdout",
     "output_type": "stream",
     "text": [
      "<class 'pandas.core.frame.DataFrame'>\n",
      "Index: 135 entries, 1 to 163\n",
      "Data columns (total 5 columns):\n",
      " #   Column      Non-Null Count  Dtype         \n",
      "---  ------      --------------  -----         \n",
      " 0   date        135 non-null    datetime64[ns]\n",
      " 1   country     135 non-null    object        \n",
      " 2   new_cases   135 non-null    float64       \n",
      " 3   new_deaths  135 non-null    float64       \n",
      " 4   vaccinated  135 non-null    float64       \n",
      "dtypes: datetime64[ns](1), float64(3), object(1)\n",
      "memory usage: 6.3+ KB\n"
     ]
    }
   ],
   "source": [
    "new_df.info()"
   ]
  },
  {
   "cell_type": "markdown",
   "id": "9a985a00-5749-4e1a-9cbe-7c6493169272",
   "metadata": {},
   "source": [
    "**Excellent**! We can see that we have successfully dropped the duplicate rows on our new dataframe. Next, we'll check for outliers and treat them"
   ]
  },
  {
   "cell_type": "markdown",
   "id": "a090a7da-2f2b-4348-9210-62678180ae5f",
   "metadata": {},
   "source": [
    "### Outlier Detection and Treatment"
   ]
  },
  {
   "cell_type": "code",
   "execution_count": 282,
   "id": "409ace57-672b-4614-afcd-5261df013317",
   "metadata": {},
   "outputs": [
    {
     "data": {
      "image/png": "[encoded data removed]",
      "text/plain": [
       "<Figure size 1000x600 with 3 Axes>"
      ]
     },
     "metadata": {},
     "output_type": "display_data"
    }
   ],
   "source": [
    "## Detecting outliers on numerical columns\n",
    "# Filter numerical columns for box plots\n",
    "numerical_features = new_df.select_dtypes(include=['float64']).columns\n",
    "\n",
    "# Plot box plots for each numerical feature\n",
    "plt.figure(figsize=(10, len(numerical_features) * 2))\n",
    "\n",
    "for i, col in enumerate(numerical_features, 1):\n",
    "    plt.subplot(len(numerical_features), 1, i)\n",
    "    sns.boxplot(x=new_df[col])\n",
    "    plt.title(f\"Box Plot for {col}\")\n",
    "    plt.tight_layout()\n",
    "\n",
    "plt.show()\n",
    "\n",
    "#the job of enumerate(numerical_features, 1)\n",
    "#is to loop over the list 'numerical_features' while also keeping track of an index i starting from 1."
   ]
  },
  {
   "cell_type": "markdown",
   "id": "8b8081c2-9d3d-4bff-8afe-dcea87c2627a",
   "metadata": {},
   "source": [
    "**Comment**: Our box plot shows that we have outliers in covid-19 new cases and new deaths. We will handle this outliers using Interquartile Range (IQR)"
   ]
  },
  {
   "cell_type": "markdown",
   "id": "e5f9db11-e331-4a12-8535-66a90c3cd682",
   "metadata": {},
   "source": [
    "### Treatment of Outlier for the Numerical Columns (new_cases and new_deaths) Using IQR Technique"
   ]
  },
  {
   "cell_type": "code",
   "execution_count": 295,
   "id": "6120138e-8f86-4035-9397-1f277e5231f2",
   "metadata": {},
   "outputs": [],
   "source": [
    "# Define the IQR Outlier Removal Function\n",
    "def remove_outliers_iqr(new_df, column):\n",
    "    Q1 = new_df[column].quantile(0.25)\n",
    "    Q3 = new_df[column].quantile(0.75)\n",
    "    IQR = Q3 - Q1\n",
    "\n",
    "    lower_bound = Q1 - 1.5 * IQR\n",
    "    upper_bound = Q3 + 1.5 * IQR\n",
    "\n",
    "    return new_df[(new_df[column] >= lower_bound) & (new_df[column] <= upper_bound)]\n",
    "\n",
    "new_df_cleaned = new_df.copy()\n",
    "for col in ['new_cases', 'new_deaths']:\n",
    "    new_df_cleaned = remove_outliers_iqr(new_df_cleaned, col)"
   ]
  },
  {
   "cell_type": "code",
   "execution_count": 297,
   "id": "b80c8922-988d-4ba8-b6e5-eaf191a4c6a7",
   "metadata": {},
   "outputs": [
    {
     "name": "stdout",
     "output_type": "stream",
     "text": [
      "<class 'pandas.core.frame.DataFrame'>\n",
      "Index: 128 entries, 1 to 163\n",
      "Data columns (total 5 columns):\n",
      " #   Column      Non-Null Count  Dtype         \n",
      "---  ------      --------------  -----         \n",
      " 0   date        128 non-null    datetime64[ns]\n",
      " 1   country     128 non-null    object        \n",
      " 2   new_cases   128 non-null    float64       \n",
      " 3   new_deaths  128 non-null    float64       \n",
      " 4   vaccinated  128 non-null    float64       \n",
      "dtypes: datetime64[ns](1), float64(3), object(1)\n",
      "memory usage: 6.0+ KB\n"
     ]
    }
   ],
   "source": [
    "new_df_cleaned.info()"
   ]
  },
  {
   "cell_type": "code",
   "execution_count": 298,
   "id": "b317a0e0-6b3c-4991-9881-5608af09e446",
   "metadata": {},
   "outputs": [
    {
     "data": {
      "image/png": "[encoded data removed]",
      "text/plain": [
       "<Figure size 1000x600 with 3 Axes>"
      ]
     },
     "metadata": {},
     "output_type": "display_data"
    }
   ],
   "source": [
    "## Detecting outliers on numerical columns\n",
    "# Filter numerical columns for box plots\n",
    "numerical_features = new_df_cleaned.select_dtypes(include=['float64']).columns\n",
    "\n",
    "# Plot box plots for each numerical feature\n",
    "plt.figure(figsize=(10, len(numerical_features) * 2))\n",
    "\n",
    "for i, col in enumerate(numerical_features, 1):\n",
    "    plt.subplot(len(numerical_features), 1, i)\n",
    "    sns.boxplot(x=new_df_cleaned[col])\n",
    "    plt.title(f\"Box Plot for {col}\")\n",
    "    plt.tight_layout()\n",
    "\n",
    "plt.show()"
   ]
  },
  {
   "cell_type": "markdown",
   "id": "7728ed22-1c97-47f6-9b61-d5fbba2e1fd2",
   "metadata": {},
   "source": [
    "**Comment**: We have successfully Treated the detected outliers using IQR Technique.\n",
    "\n",
    "### **Now, our dataset is ready for Analysis**!"
   ]
  },
  {
   "cell_type": "markdown",
   "id": "9833d89b-29a2-4007-a86e-f5e305054b60",
   "metadata": {},
   "source": [
    "<hr>"
   ]
  },
  {
   "cell_type": "markdown",
   "id": "6359853b-7501-491b-a00f-01894a678f56",
   "metadata": {},
   "source": [
    "## EXPLORATORY DATA ANALYSIS (EDA) (Uncovering insights from our Dataset)\n",
    "<hr><hr>"
   ]
  },
  {
   "cell_type": "markdown",
   "id": "3df58395-7e70-4d80-989d-e513a2b98231",
   "metadata": {},
   "source": [
    "## Univariate Analysis"
   ]
  },
  {
   "cell_type": "markdown",
   "id": "21a37ef6-6dc2-4415-8154-1ca82cb03cf6",
   "metadata": {},
   "source": [
    "This Analysis focuses on figuring out the underlying distribution or pattern in the data and therefore mentions the objective facts about the population. This procedure often includes the examination of the attributes of the population distribution, including spread, central tendency, skewness and kurtosis"
   ]
  },
  {
   "cell_type": "code",
   "execution_count": 299,
   "id": "200e9194-3381-419b-9d03-70ae9c87bc1a",
   "metadata": {},
   "outputs": [
    {
     "data": {
      "text/plain": [
       "date          datetime64[ns]\n",
       "country               object\n",
       "new_cases            float64\n",
       "new_deaths           float64\n",
       "vaccinated           float64\n",
       "dtype: object"
      ]
     },
     "execution_count": 299,
     "metadata": {},
     "output_type": "execute_result"
    }
   ],
   "source": [
    "# let's check the dtypes of our dataset again\n",
    "new_df_cleaned.dtypes"
   ]
  },
  {
   "cell_type": "code",
   "execution_count": 301,
   "id": "fedd92d9-2703-4056-9bef-88b415fbc5a2",
   "metadata": {},
   "outputs": [],
   "source": [
    "## let's perform univariate analysis on our dataset by visualizing the variables individually\n",
    "\n",
    "# separating variables into numerical and categorical types\n",
    "cat_df = new_df_cleaned.select_dtypes(include=['object'])\n",
    "\n",
    "num_df = new_df_cleaned.select_dtypes(include=['float64', 'int64'])"
   ]
  },
  {
   "cell_type": "code",
   "execution_count": 305,
   "id": "9eb39757-5f70-48c4-a9c8-ccc077ac65c9",
   "metadata": {},
   "outputs": [
    {
     "data": {
      "text/html": [
       "<div>\n",
       "<style scoped>\n",
       "    .dataframe tbody tr th:only-of-type {\n",
       "        vertical-align: middle;\n",
       "    }\n",
       "\n",
       "    .dataframe tbody tr th {\n",
       "        vertical-align: top;\n",
       "    }\n",
       "\n",
       "    .dataframe thead th {\n",
       "        text-align: right;\n",
       "    }\n",
       "</style>\n",
       "<table border=\"1\" class=\"dataframe\">\n",
       "  <thead>\n",
       "    <tr style=\"text-align: right;\">\n",
       "      <th></th>\n",
       "      <th>new_cases</th>\n",
       "      <th>new_deaths</th>\n",
       "      <th>vaccinated</th>\n",
       "    </tr>\n",
       "  </thead>\n",
       "  <tbody>\n",
       "    <tr>\n",
       "      <th>1</th>\n",
       "      <td>0.0</td>\n",
       "      <td>0.0</td>\n",
       "      <td>327.00000</td>\n",
       "    </tr>\n",
       "    <tr>\n",
       "      <th>3</th>\n",
       "      <td>971.0</td>\n",
       "      <td>48.0</td>\n",
       "      <td>430.00000</td>\n",
       "    </tr>\n",
       "    <tr>\n",
       "      <th>4</th>\n",
       "      <td>176.0</td>\n",
       "      <td>8.0</td>\n",
       "      <td>301.42446</td>\n",
       "    </tr>\n",
       "    <tr>\n",
       "      <th>5</th>\n",
       "      <td>1034.0</td>\n",
       "      <td>51.0</td>\n",
       "      <td>462.00000</td>\n",
       "    </tr>\n",
       "    <tr>\n",
       "      <th>6</th>\n",
       "      <td>23.0</td>\n",
       "      <td>1.0</td>\n",
       "      <td>195.00000</td>\n",
       "    </tr>\n",
       "  </tbody>\n",
       "</table>\n",
       "</div>"
      ],
      "text/plain": [
       "   new_cases  new_deaths  vaccinated\n",
       "1        0.0         0.0   327.00000\n",
       "3      971.0        48.0   430.00000\n",
       "4      176.0         8.0   301.42446\n",
       "5     1034.0        51.0   462.00000\n",
       "6       23.0         1.0   195.00000"
      ]
     },
     "execution_count": 305,
     "metadata": {},
     "output_type": "execute_result"
    }
   ],
   "source": [
    "num_df.head()"
   ]
  },
  {
   "cell_type": "code",
   "execution_count": 306,
   "id": "820247a0-0c44-4d8e-8d29-3f3493aa857b",
   "metadata": {},
   "outputs": [
    {
     "data": {
      "text/html": [
       "<div>\n",
       "<style scoped>\n",
       "    .dataframe tbody tr th:only-of-type {\n",
       "        vertical-align: middle;\n",
       "    }\n",
       "\n",
       "    .dataframe tbody tr th {\n",
       "        vertical-align: top;\n",
       "    }\n",
       "\n",
       "    .dataframe thead th {\n",
       "        text-align: right;\n",
       "    }\n",
       "</style>\n",
       "<table border=\"1\" class=\"dataframe\">\n",
       "  <thead>\n",
       "    <tr style=\"text-align: right;\">\n",
       "      <th></th>\n",
       "      <th>country</th>\n",
       "    </tr>\n",
       "  </thead>\n",
       "  <tbody>\n",
       "    <tr>\n",
       "      <th>1</th>\n",
       "      <td>Australia</td>\n",
       "    </tr>\n",
       "    <tr>\n",
       "      <th>3</th>\n",
       "      <td>Brazil</td>\n",
       "    </tr>\n",
       "    <tr>\n",
       "      <th>4</th>\n",
       "      <td>Canada</td>\n",
       "    </tr>\n",
       "    <tr>\n",
       "      <th>5</th>\n",
       "      <td>China</td>\n",
       "    </tr>\n",
       "    <tr>\n",
       "      <th>6</th>\n",
       "      <td>Argentina</td>\n",
       "    </tr>\n",
       "  </tbody>\n",
       "</table>\n",
       "</div>"
      ],
      "text/plain": [
       "     country\n",
       "1  Australia\n",
       "3     Brazil\n",
       "4     Canada\n",
       "5      China\n",
       "6  Argentina"
      ]
     },
     "execution_count": 306,
     "metadata": {},
     "output_type": "execute_result"
    }
   ],
   "source": [
    "cat_df.head()"
   ]
  },
  {
   "cell_type": "markdown",
   "id": "7270f799-bde3-486b-8e9c-13ff3064cc44",
   "metadata": {},
   "source": [
    "### Univariate Analysis (Non Graphical Analysis)"
   ]
  },
  {
   "cell_type": "code",
   "execution_count": 307,
   "id": "b8e69645-3a69-4fed-8c90-1b699ab9244a",
   "metadata": {},
   "outputs": [
    {
     "name": "stdout",
     "output_type": "stream",
     "text": [
      "***** country *****\n",
      "count                                                128\n",
      "nunique                                                5\n",
      "unique     [Australia, Brazil, Canada, China, Argentina]\n",
      "Name: country, dtype: object\n",
      "\n",
      "Value Counts: \n",
      " country\n",
      "Canada       28\n",
      "China        27\n",
      "Brazil       26\n",
      "Argentina    24\n",
      "Australia    23\n",
      "Name: count, dtype: int64\n",
      "\n"
     ]
    }
   ],
   "source": [
    "# let's create a function for categorical analysis\n",
    "def cat_univariate_analysis(discrete_data):\n",
    "    for col_name in discrete_data:\n",
    "        print(\"*\"*5, col_name, \"*\"*5)\n",
    "        print(discrete_data[col_name].agg(['count', 'nunique', 'unique']))\n",
    "        print()\n",
    "        print('Value Counts: \\n', discrete_data[col_name].value_counts())\n",
    "        print()\n",
    "\n",
    "cat_univariate_analysis(cat_df)"
   ]
  },
  {
   "cell_type": "markdown",
   "id": "24d3dc66-0663-4708-92e1-0990b22af61d",
   "metadata": {},
   "source": [
    "**Key Insight**: Our categorical analysis shows that there are `5 groups` of countries in this dataset where Covid-19 new_cases, new_deaths, and vaccinated were recorded. These countries include `Australia, Brazil, Canada, China, and Argentina`.<br/>\n",
    "Based on the value counts of each country; <br/>\n",
    "- **Canada** recorded 28 cases in total <br/>\n",
    "- **China** recorded 27 cases in total <br/>\n",
    "- **Brazil** recorded 26 cases in total <br/>\n",
    "- **Argentina** recorded 24 cases in total <br/>\n",
    "- **Australia** recorded 23 cases in total \n"
   ]
  },
  {
   "cell_type": "code",
   "execution_count": 309,
   "id": "7840a7b8-a915-4e31-a8a0-26c16ee26677",
   "metadata": {},
   "outputs": [
    {
     "name": "stdout",
     "output_type": "stream",
     "text": [
      "***** new_cases *****\n",
      "min          0.000000\n",
      "max       1350.000000\n",
      "mean       524.937500\n",
      "median     560.000000\n",
      "std        338.354675\n",
      "kurt        -0.835122\n",
      "skew         0.097706\n",
      "Name: new_cases, dtype: float64\n",
      "\n",
      "***** new_deaths *****\n",
      "min        0.000000\n",
      "max       67.000000\n",
      "mean      25.821795\n",
      "median    28.182482\n",
      "std       16.212199\n",
      "kurt      -0.580519\n",
      "skew       0.122104\n",
      "Name: new_deaths, dtype: float64\n",
      "\n",
      "***** vaccinated *****\n",
      "min         2.000000\n",
      "max       499.000000\n",
      "mean      304.576720\n",
      "median    341.500000\n",
      "std       145.542486\n",
      "kurt       -0.827957\n",
      "skew       -0.621268\n",
      "Name: vaccinated, dtype: float64\n",
      "\n"
     ]
    }
   ],
   "source": [
    "# let's create a function for numerical analysis\n",
    "def num_univariate_analysis(discrete_data):\n",
    "    for col_name in discrete_data:\n",
    "        print(\"*\"*5, col_name, \"*\"*5)\n",
    "        print(discrete_data[col_name].agg(['min', 'max', 'mean', 'median', 'std', 'kurt', 'skew']))\n",
    "        print()\n",
    "\n",
    "num_univariate_analysis(num_df)"
   ]
  },
  {
   "cell_type": "markdown",
   "id": "5d86a2c2-e450-4e42-9432-8daef807d320",
   "metadata": {},
   "source": [
    "## Univariate Analysis (Graphical Analysis)"
   ]
  },
  {
   "cell_type": "markdown",
   "id": "9a0f8341-7e3d-42bb-89b4-1329b06d374b",
   "metadata": {},
   "source": [
    "This technique uses plots to gain insight into a single variable’s distribution. It provides a quick way of understanding shapes, central tendencies, spreads, modalities, skewnesses, and outliers of our data."
   ]
  },
  {
   "cell_type": "code",
   "execution_count": 311,
   "id": "1b1d00c1-ef28-4437-96be-74542424bc2b",
   "metadata": {},
   "outputs": [
    {
     "data": {
      "text/plain": [
       "3"
      ]
     },
     "execution_count": 311,
     "metadata": {},
     "output_type": "execute_result"
    }
   ],
   "source": [
    "num_cols = len(num_df.columns)\n",
    "num_cols"
   ]
  },
  {
   "cell_type": "code",
   "execution_count": 314,
   "id": "e3bf142f-d093-4f76-8d8a-632bff2d693e",
   "metadata": {},
   "outputs": [
    {
     "data": {
      "text/plain": [
       "1"
      ]
     },
     "execution_count": 314,
     "metadata": {},
     "output_type": "execute_result"
    }
   ],
   "source": [
    "num_cols // 3"
   ]
  },
  {
   "cell_type": "code",
   "execution_count": 332,
   "id": "33951320-bceb-4316-b81c-ec8c9b3f9481",
   "metadata": {},
   "outputs": [
    {
     "data": {
      "image/png": "[encoded data removed]",
      "text/plain": [
       "<Figure size 1400x800 with 3 Axes>"
      ]
     },
     "metadata": {},
     "output_type": "display_data"
    }
   ],
   "source": [
    "# creating a function to plot the distribution of the variables\n",
    "def univariate_analysis(num_df):\n",
    "    num_cols = len(num_df.columns)\n",
    "    fig, axes = plt.subplots(nrows=(num_cols // 3) + 1, ncols=3, figsize=(14, 4 * ((num_cols // 3) + 1)))\n",
    "    fig.tight_layout(pad=5.0)\n",
    "\n",
    "    axes = axes.flatten() # Flatten axes array for easy iteration\n",
    "\n",
    "    for i, col_name in enumerate(num_df.columns):\n",
    "        sns.histplot(data=num_df, x=col_name, kde=True, ax=axes[i]) # We used KDE for a smooth distribution curve\n",
    "        axes[i].set_title(f'Distribution of {col_name}')\n",
    "        axes[i].set_xlabel(col_name)\n",
    "        axes[i].set_ylabel('Frequency')\n",
    "\n",
    "    for j in range(i + 1, len(axes)):\n",
    "        fig.delaxes(axes[j])\n",
    "\n",
    "    plt.show()\n",
    "\n",
    "univariate_analysis(num_df)"
   ]
  },
  {
   "cell_type": "markdown",
   "id": "790a43c9-8d5d-4e44-8569-2febd9a58c4a",
   "metadata": {},
   "source": [
    "**Key Insights**: The histogram visualization shows the distribution of each numerical variables in the dataset.\n",
    "\n",
    "1. **new_deaths**\n",
    "- The distribution for `new_deaths` is unimodal and approximately symmetrical, suggesting that most days have a consistent death count around a central average. This implies relative stability during the observed period, with minimal reporting anomalies or outbreak spikes.<br/>\n",
    "\n",
    "  - **Recommendations**: <br/>\n",
    "    Leverage Predictability in Death Trends for Planning.\n",
    "    - Use historical patterns to forecast mortality for resource planning (hospital beds, staff, oxygen supply).\n",
    "    - Consider the trend as baseline performance, any deviation may warrant investigation into healthcare disruptions or emerging variants. <br><br>\n",
    "\n",
    "2. **new_cases**\n",
    "- In contrast, Features like `new_cases` and `vaccinated` show skewed distributions. The `new_cases` are heavily righ-skewed and has a peak around 0-200, suggesting most days had low case counts with a few spikes. This could inform anomaly detection strategies or alert thresholds.<br/>\n",
    "\n",
    "  - **Recommendation**: <br/>\n",
    "    Implement Early Warning Systems for Infection Spikes.\n",
    "    - Deploy anomaly detection tools or thresholds to catch sudden rises early.\n",
    "    - Establish escalation protocols (e.g., local lockdowns, resource reallocation) that automatically trigger when spikes exceed typical variation. <br><br>\n",
    "\n",
    "3. **vaccinated**\n",
    "- The `vaccinated` is strongly left-skewed, showing that most countries had high vaccination numbers, with only a few instances of low coverage — likely from early phases or during vaccine rollouts.<br/>\n",
    "\n",
    "  - **Recommendations**: <br/>\n",
    "    Sustain High Vaccination Coverage.\n",
    "    - Maintain and reinforce vaccination campaigns, especially in regions or time periods where lower values (tail) are observed.\n",
    "    - Investigate and target low-vaccination entries, they may signal logistical issues, vaccine hesitancy, or reporting gaps."
   ]
  },
  {
   "cell_type": "code",
   "execution_count": 339,
   "id": "c63a5d88-2854-40c3-9d53-5b6e66e8a5f5",
   "metadata": {},
   "outputs": [
    {
     "data": {
      "image/png": "[encoded data removed]",
      "text/plain": [
       "<Figure size 1000x600 with 1 Axes>"
      ]
     },
     "metadata": {},
     "output_type": "display_data"
    }
   ],
   "source": [
    "# Count the occurrences of each country\n",
    "country_counts = new_df_cleaned['country'].value_counts()\n",
    "\n",
    "# Bar plot for Country\n",
    "plt.figure(figsize=(10, 6))\n",
    "sns.barplot(y=country_counts.index, x=country_counts.values)\n",
    "plt.title(\"Frequency of Countries\")\n",
    "plt.ylabel(\"Country\")\n",
    "plt.xlabel(\"Count\")\n",
    "\n",
    "plt.show()"
   ]
  },
  {
   "cell_type": "markdown",
   "id": "b24c1a7f-68f0-42ff-a9db-3f797ef58f20",
   "metadata": {},
   "source": [
    "**Key Insights**: The bar chart shows that `Canada` has the highest case counts, followed by `China` and `Brazil`. Countries like `Argentina` and `Australia` have the lowest representation, indicating fewer cases in these countries."
   ]
  },
  {
   "cell_type": "markdown",
   "id": "5752cc73-90d2-4e0d-9331-13d6c5503517",
   "metadata": {},
   "source": [
    "## Bivariate and Multivariate Analysis"
   ]
  },
  {
   "cell_type": "markdown",
   "id": "ea4d6408-da15-4c90-800f-425ec91884b6",
   "metadata": {},
   "source": [
    "### 1. Daily and cumulative trends in infections and fatalities?"
   ]
  },
  {
   "cell_type": "markdown",
   "id": "ac59aa64-ae44-49d0-af2f-c1f759a163c6",
   "metadata": {},
   "source": [
    "To analyze daily and cumulative trends in infections (new_cases) and fatalities (new_deaths), we'll look at the time-series behavior of these variables. This involves plotting and interpreting how they change over time, which gives valuable insight into the evolution of the pandemic, response effectiveness, and when interventions might be needed."
   ]
  },
  {
   "cell_type": "code",
   "execution_count": 352,
   "id": "ec99a00e-45ba-4040-a5db-39c2698dff7a",
   "metadata": {},
   "outputs": [
    {
     "data": {
      "image/png": "[encoded data removed]",
      "text/plain": [
       "<Figure size 1000x600 with 1 Axes>"
      ]
     },
     "metadata": {},
     "output_type": "display_data"
    }
   ],
   "source": [
    "# Daily trend of infections and fatalities\n",
    "\n",
    "import matplotlib.pyplot as plt\n",
    "import matplotlib.dates as mdates\n",
    "\n",
    "plt.figure(figsize=(10, 6))\n",
    "\n",
    "plt.plot(new_df_cleaned['date'], new_df_cleaned['new_cases'], label='Daily New Cases', color='orange')\n",
    "plt.plot(new_df_cleaned['date'], new_df_cleaned['new_deaths'], label='Daily New Deaths', color='red')\n",
    "\n",
    "plt.xlabel('Date')\n",
    "plt.ylabel('Count')\n",
    "plt.title('Daily COVID-19 Infections and Fatalities')\n",
    "plt.legend()\n",
    "plt.gca().xaxis.set_major_formatter(mdates.DateFormatter('%b %d, %Y'))  # formats the date using matplotlib.dates library e.g. Jun 15, 2024\n",
    "plt.gca().xaxis.set_major_locator(mdates.AutoDateLocator())  # smartly spaces the dates for readability\n",
    "plt.xticks(rotation=45)\n",
    "\n",
    "plt.tight_layout()\n",
    "plt.show()"
   ]
  },
  {
   "cell_type": "markdown",
   "id": "92153941-ef67-41a2-b9b1-d3a7acaebf7d",
   "metadata": {},
   "source": [
    "**Key Insights**: \n",
    "The peaks in new cases and deaths highlight critical surge periods requiring rapid response, while periodic dips may reflect weekends or reporting gaps that call for cautious data interpretation; the consistent lag between case spikes and death spikes underscores the need for early interventions to prevent loss of life during outbreak escalations."
   ]
  },
  {
   "cell_type": "code",
   "execution_count": 353,
   "id": "1df9056e-7fed-4c77-8bf7-6dbb9f2f2e1a",
   "metadata": {},
   "outputs": [],
   "source": [
    "# Cumulative trend of infections and fatalities\n",
    "\n",
    "# creating cumulative columns\n",
    "cum_df = new_df_cleaned.sort_values('date') # sorting by date\n",
    "cum_df['cumulative_cases'] = cum_df['new_cases'].cumsum()\n",
    "cum_df['cumulative_deaths'] = cum_df['new_deaths'].cumsum()"
   ]
  },
  {
   "cell_type": "code",
   "execution_count": 369,
   "id": "d7655749-48ce-45ad-b985-ccaa2f9c250a",
   "metadata": {},
   "outputs": [
    {
     "data": {
      "text/html": [
       "<div>\n",
       "<style scoped>\n",
       "    .dataframe tbody tr th:only-of-type {\n",
       "        vertical-align: middle;\n",
       "    }\n",
       "\n",
       "    .dataframe tbody tr th {\n",
       "        vertical-align: top;\n",
       "    }\n",
       "\n",
       "    .dataframe thead th {\n",
       "        text-align: right;\n",
       "    }\n",
       "</style>\n",
       "<table border=\"1\" class=\"dataframe\">\n",
       "  <thead>\n",
       "    <tr style=\"text-align: right;\">\n",
       "      <th></th>\n",
       "      <th>date</th>\n",
       "      <th>country</th>\n",
       "      <th>new_cases</th>\n",
       "      <th>new_deaths</th>\n",
       "      <th>vaccinated</th>\n",
       "      <th>cumulative_cases</th>\n",
       "      <th>cumulative_deaths</th>\n",
       "    </tr>\n",
       "  </thead>\n",
       "  <tbody>\n",
       "    <tr>\n",
       "      <th>1</th>\n",
       "      <td>2024-11-01</td>\n",
       "      <td>Australia</td>\n",
       "      <td>0.0</td>\n",
       "      <td>0.0</td>\n",
       "      <td>327.00000</td>\n",
       "      <td>0.0</td>\n",
       "      <td>0.0</td>\n",
       "    </tr>\n",
       "    <tr>\n",
       "      <th>3</th>\n",
       "      <td>2024-11-01</td>\n",
       "      <td>Brazil</td>\n",
       "      <td>971.0</td>\n",
       "      <td>48.0</td>\n",
       "      <td>430.00000</td>\n",
       "      <td>971.0</td>\n",
       "      <td>48.0</td>\n",
       "    </tr>\n",
       "    <tr>\n",
       "      <th>4</th>\n",
       "      <td>2024-11-01</td>\n",
       "      <td>Canada</td>\n",
       "      <td>176.0</td>\n",
       "      <td>8.0</td>\n",
       "      <td>301.42446</td>\n",
       "      <td>1147.0</td>\n",
       "      <td>56.0</td>\n",
       "    </tr>\n",
       "    <tr>\n",
       "      <th>5</th>\n",
       "      <td>2024-11-01</td>\n",
       "      <td>China</td>\n",
       "      <td>1034.0</td>\n",
       "      <td>51.0</td>\n",
       "      <td>462.00000</td>\n",
       "      <td>2181.0</td>\n",
       "      <td>107.0</td>\n",
       "    </tr>\n",
       "    <tr>\n",
       "      <th>6</th>\n",
       "      <td>2024-11-02</td>\n",
       "      <td>Argentina</td>\n",
       "      <td>23.0</td>\n",
       "      <td>1.0</td>\n",
       "      <td>195.00000</td>\n",
       "      <td>2204.0</td>\n",
       "      <td>108.0</td>\n",
       "    </tr>\n",
       "  </tbody>\n",
       "</table>\n",
       "</div>"
      ],
      "text/plain": [
       "        date    country  new_cases  new_deaths  vaccinated  cumulative_cases  \\\n",
       "1 2024-11-01  Australia        0.0         0.0   327.00000               0.0   \n",
       "3 2024-11-01     Brazil      971.0        48.0   430.00000             971.0   \n",
       "4 2024-11-01     Canada      176.0         8.0   301.42446            1147.0   \n",
       "5 2024-11-01      China     1034.0        51.0   462.00000            2181.0   \n",
       "6 2024-11-02  Argentina       23.0         1.0   195.00000            2204.0   \n",
       "\n",
       "   cumulative_deaths  \n",
       "1                0.0  \n",
       "3               48.0  \n",
       "4               56.0  \n",
       "5              107.0  \n",
       "6              108.0  "
      ]
     },
     "execution_count": 369,
     "metadata": {},
     "output_type": "execute_result"
    }
   ],
   "source": [
    "cum_df.head()"
   ]
  },
  {
   "cell_type": "code",
   "execution_count": 370,
   "id": "5e176a9a-560a-45e6-9642-4355764025e2",
   "metadata": {},
   "outputs": [
    {
     "data": {
      "image/png": "[encoded data removed]",
      "text/plain": [
       "<Figure size 1200x600 with 1 Axes>"
      ]
     },
     "metadata": {},
     "output_type": "display_data"
    }
   ],
   "source": [
    "# Plot on a chart\n",
    "\n",
    "plt.figure(figsize=(12, 6))\n",
    "plt.plot(cum_df['date'], cum_df['cumulative_cases'], label='Cumulative Cases', color='blue')\n",
    "plt.plot(cum_df['date'], cum_df['cumulative_deaths'], label='Cumulative Deaths', color='orange')\n",
    "\n",
    "plt.xlabel('Date')\n",
    "plt.ylabel('Cumulative Count')\n",
    "plt.title('Cumulative COVID-19 Infections and Fatalities')\n",
    "plt.legend()\n",
    "plt.gca().xaxis.set_major_formatter(mdates.DateFormatter('%b %d, %Y'))  # formats the date using matplotlib.dates library e.g. Jun 15, 2024\n",
    "plt.gca().xaxis.set_major_locator(mdates.AutoDateLocator())  # smartly spaces the dates for readability\n",
    "plt.xticks(rotation=45)\n",
    "\n",
    "plt.tight_layout()\n",
    "plt.show()"
   ]
  },
  {
   "cell_type": "markdown",
   "id": "e63d2300-2548-4c5f-bbfc-c386dcb78dbd",
   "metadata": {},
   "source": [
    "**Key Insights**:\n",
    "The trend lines show distinct surge periods marked by peaks in new cases and deaths, while noticeable dips likely reflect weekends, holidays, or data reporting delays. The observed lag between spikes in infections and fatalities highlights the typical delay from infection onset to severe outcomes, underscoring the importance of early intervention during case surges to reduce mortality."
   ]
  },
  {
   "cell_type": "markdown",
   "id": "4713a84d-519a-46ee-9c72-5f3770157a71",
   "metadata": {},
   "source": [
    "### 2. Trend of cases, deaths, and vaccinations over time using line plot"
   ]
  },
  {
   "cell_type": "code",
   "execution_count": 365,
   "id": "a67931fb-f91c-40d5-889b-e7e98947d1a6",
   "metadata": {},
   "outputs": [
    {
     "data": {
      "image/png": "[encoded data removed]",
      "text/plain": [
       "<Figure size 1400x600 with 1 Axes>"
      ]
     },
     "metadata": {},
     "output_type": "display_data"
    }
   ],
   "source": [
    "# line chart of cases, deaths, and vaccinations showing trend over time\n",
    "\n",
    "# Sort the DataFrame by date\n",
    "sorted_df = new_df_cleaned.sort_values('date')\n",
    "\n",
    "# Set the plot size\n",
    "plt.figure(figsize=(14, 6))\n",
    "\n",
    "# Plotting each trend\n",
    "plt.plot(sorted_df['date'], sorted_df['new_cases'], label='New Cases', color='orange', linewidth=2)\n",
    "plt.plot(sorted_df['date'], sorted_df['new_deaths'], label='New Deaths', color='red', linewidth=2)\n",
    "plt.plot(sorted_df['date'], sorted_df['vaccinated'], label='Vaccinated', color='green', linewidth=2)\n",
    "\n",
    "# Format the x-axis with better date visibility\n",
    "plt.gca().xaxis.set_major_formatter(mdates.DateFormatter('%b %d, %Y'))\n",
    "plt.gca().xaxis.set_major_locator(mdates.AutoDateLocator())\n",
    "plt.xticks(rotation=45)\n",
    "\n",
    "# Set labels and title\n",
    "plt.xlabel('Date')\n",
    "plt.ylabel('Count')\n",
    "plt.title('Trend of COVID-19 Cases, Deaths, and Vaccinations Over Time')\n",
    "plt.legend()\n",
    "\n",
    "plt.tight_layout()\n",
    "plt.show()"
   ]
  },
  {
   "cell_type": "markdown",
   "id": "d8713803-ff27-4281-8b46-e3d562e2ab81",
   "metadata": {},
   "source": [
    "**Key Insights**:\n",
    "The trend analysis reveals that spikes in new COVID-19 cases indicate distinct outbreak waves or periods of heightened transmission, while the corresponding rise in new deaths typically with a slight lag highlights the severity and impact of those outbreaks. Meanwhile, the upward trend in vaccinations suggests progressive rollout efforts, which likely contributed to the eventual stabilization or decline in both infections and fatalities. These patterns emphasize the need for timely response measures during case surges and continued investment in vaccination coverage to sustain public health gains."
   ]
  },
  {
   "cell_type": "markdown",
   "id": "b999195c-79f7-476b-b555-546fa78f6740",
   "metadata": {},
   "source": [
    "### 3. Comparative analysis of cases, deaths, and vaccinations by country using barplot"
   ]
  },
  {
   "cell_type": "code",
   "execution_count": 373,
   "id": "a8a78d08-2a3e-403a-bd12-c0df18103931",
   "metadata": {},
   "outputs": [
    {
     "data": {
      "text/html": [
       "<div>\n",
       "<style scoped>\n",
       "    .dataframe tbody tr th:only-of-type {\n",
       "        vertical-align: middle;\n",
       "    }\n",
       "\n",
       "    .dataframe tbody tr th {\n",
       "        vertical-align: top;\n",
       "    }\n",
       "\n",
       "    .dataframe thead th {\n",
       "        text-align: right;\n",
       "    }\n",
       "</style>\n",
       "<table border=\"1\" class=\"dataframe\">\n",
       "  <thead>\n",
       "    <tr style=\"text-align: right;\">\n",
       "      <th></th>\n",
       "      <th>country</th>\n",
       "      <th>new_cases</th>\n",
       "      <th>new_deaths</th>\n",
       "      <th>vaccinated</th>\n",
       "    </tr>\n",
       "  </thead>\n",
       "  <tbody>\n",
       "    <tr>\n",
       "      <th>0</th>\n",
       "      <td>Argentina</td>\n",
       "      <td>15424.0</td>\n",
       "      <td>747.547445</td>\n",
       "      <td>5889.273381</td>\n",
       "    </tr>\n",
       "    <tr>\n",
       "      <th>1</th>\n",
       "      <td>Australia</td>\n",
       "      <td>13446.0</td>\n",
       "      <td>655.729927</td>\n",
       "      <td>9214.424460</td>\n",
       "    </tr>\n",
       "    <tr>\n",
       "      <th>2</th>\n",
       "      <td>Brazil</td>\n",
       "      <td>11543.0</td>\n",
       "      <td>577.364964</td>\n",
       "      <td>5382.848921</td>\n",
       "    </tr>\n",
       "    <tr>\n",
       "      <th>3</th>\n",
       "      <td>Canada</td>\n",
       "      <td>13877.0</td>\n",
       "      <td>689.547445</td>\n",
       "      <td>11232.424460</td>\n",
       "    </tr>\n",
       "    <tr>\n",
       "      <th>4</th>\n",
       "      <td>China</td>\n",
       "      <td>12902.0</td>\n",
       "      <td>635.000000</td>\n",
       "      <td>7266.848921</td>\n",
       "    </tr>\n",
       "  </tbody>\n",
       "</table>\n",
       "</div>"
      ],
      "text/plain": [
       "     country  new_cases  new_deaths    vaccinated\n",
       "0  Argentina    15424.0  747.547445   5889.273381\n",
       "1  Australia    13446.0  655.729927   9214.424460\n",
       "2     Brazil    11543.0  577.364964   5382.848921\n",
       "3     Canada    13877.0  689.547445  11232.424460\n",
       "4      China    12902.0  635.000000   7266.848921"
      ]
     },
     "execution_count": 373,
     "metadata": {},
     "output_type": "execute_result"
    }
   ],
   "source": [
    "# Group by country and sum the values\n",
    "country_summary = new_df_cleaned.groupby('country')[['new_cases', 'new_deaths', 'vaccinated']].sum().reset_index()\n",
    "country_summary.head()"
   ]
  },
  {
   "cell_type": "code",
   "execution_count": 378,
   "id": "aacc7c48-1333-4309-a635-b1f1b9e28941",
   "metadata": {},
   "outputs": [
    {
     "data": {
      "image/png": "[encoded data removed]",
      "text/plain": [
       "<Figure size 1200x600 with 1 Axes>"
      ]
     },
     "metadata": {},
     "output_type": "display_data"
    }
   ],
   "source": [
    "# Plot the comparison\n",
    "\n",
    "import matplotlib.pyplot as plt\n",
    "import seaborn as sns\n",
    "\n",
    "# Setting the ploting style\n",
    "plt.figure(figsize=(12, 6))\n",
    "country_summary_melted = country_summary.melt(id_vars='country', \n",
    "                                               value_vars=['new_cases', 'new_deaths', 'vaccinated'],\n",
    "                                               var_name='Metric', value_name='Count')\n",
    "\n",
    "# Plotting the bar chart\n",
    "sns.barplot(data=country_summary_melted, x='country', y='Count', hue='Metric')\n",
    "# plt.xticks(rotation=45)\n",
    "plt.title('Comparison of COVID-19 Cases, Deaths, and Vaccinations by Country')\n",
    "\n",
    "plt.tight_layout()\n",
    "plt.show()"
   ]
  },
  {
   "cell_type": "markdown",
   "id": "130d5490-4838-4ffb-a9ea-108a1f97f720",
   "metadata": {},
   "source": [
    "**Key Insights**:\n",
    "The country-level comparison reveals clear disparities in COVID-19 outcomes and responses. Some countries recorded significantly higher `cases` and `deaths`, potentially due to population size, testing availability, or delayed interventions. `Vaccination` numbers also vary, suggesting differences in healthcare capacity, vaccine access, or public compliance. Identifying countries with high infections but low vaccination coverage can help prioritize targeted public health support and policy adjustments"
   ]
  },
  {
   "cell_type": "markdown",
   "id": "e4c1e6e4-aa0c-4574-a587-70c564ecf925",
   "metadata": {},
   "source": [
    "### 4. Exploring the relationships between infection rates and vaccination rates using"
   ]
  },
  {
   "cell_type": "code",
   "execution_count": 387,
   "id": "0659eeee-5ede-4f50-851e-9bc270b3dd65",
   "metadata": {},
   "outputs": [
    {
     "name": "stdout",
     "output_type": "stream",
     "text": [
      "Correlation between Vaccination and Infection rate: 0.08552824287191785\n"
     ]
    },
    {
     "data": {
      "image/png": "[encoded data removed]",
      "text/plain": [
       "<Figure size 1000x400 with 1 Axes>"
      ]
     },
     "metadata": {},
     "output_type": "display_data"
    }
   ],
   "source": [
    "# Vaccination vs Infection rate\n",
    "\n",
    "# Correlation calculation\n",
    "correlation = new_df_cleaned['vaccinated'].corr(new_df_cleaned['new_cases'])\n",
    "print(f\"Correlation between Vaccination and Infection rate: {correlation}\")\n",
    "\n",
    "# size of plotting area\n",
    "plt.figure(figsize=(10, 4))\n",
    "\n",
    "# scatter plot with regression line\n",
    "sns.regplot(data=new_df_cleaned, x='vaccinated', y='new_cases')\n",
    "plt.title('Relationship Between Vaccination and New Infection Cases')\n",
    "plt.xlabel('Number Vaccinated')\n",
    "plt.ylabel('New Cases')\n",
    "\n",
    "plt.tight_layout()\n",
    "plt.show()"
   ]
  },
  {
   "cell_type": "code",
   "execution_count": 383,
   "id": "79283fdf-8323-4441-bcc6-394686fa28ee",
   "metadata": {},
   "outputs": [
    {
     "name": "stdout",
     "output_type": "stream",
     "text": [
      "Correlation between vaccinated and new_cases:\n",
      "            vaccinated  new_cases\n",
      "vaccinated    1.000000   0.141017\n",
      "new_cases     0.141017   1.000000\n"
     ]
    }
   ],
   "source": [
    "correlation = df[['vaccinated', 'new_cases']].corr()\n",
    "print(\"Correlation between vaccinated and new_cases:\")\n",
    "print(correlation)"
   ]
  },
  {
   "cell_type": "markdown",
   "id": "34bc005d-9046-4fb7-a8c1-01c3040c07c7",
   "metadata": {},
   "source": [
    "**Key Insights**:<br><br>\n",
    "**Minimal Linear Relationship:**\n",
    "The weak positive correlation between vaccination rates and new infection rates (r ~ 0.08) suggests `no strong linear relationship` in the observed data. This implies that, within the current timeframe and dataset, increasing vaccination rates did not directly correspond to a consistent decrease or increase in daily infection rates.\n",
    "\n",
    "**Influence of Other Factors**:\n",
    "The weak correlation likely indicates that other factors (e.g. mask mandates, testing availability, mobility, virus variants, or reporting gaps) may have played a more dominant role in influencing infection rates than vaccination alone.\n",
    "\n",
    "**Possible Timing Mismatch**:\n",
    "The effect of vaccination on infection rates may not be immediate; a time-lagged analysis (comparing current infections with past vaccination data) could reveal a stronger relationship.\n",
    "\n",
    "**Data Quality Considerations**:\n",
    "Incomplete or inconsistent reporting of vaccination or testing data across countries or periods could dilute the true strength of the relationship."
   ]
  },
  {
   "cell_type": "markdown",
   "id": "f3d424a6-dd9a-45a9-a2f7-0f074139a1f4",
   "metadata": {},
   "source": [
    "### 5. Are there surprisingly weak or no correlations in the COVID-19 Metrics?\n",
    "Let's answer this question by plotting heatmap (correlation matrix)."
   ]
  },
  {
   "cell_type": "code",
   "execution_count": 388,
   "id": "f1c94ec5-53d0-4bcf-8615-7e4bba27284c",
   "metadata": {},
   "outputs": [],
   "source": [
    "## Correlation Matrix\n",
    "\n",
    "# Select only numeric columns for correlation\n",
    "corr = new_df_cleaned.corr(numeric_only=True)"
   ]
  },
  {
   "cell_type": "code",
   "execution_count": 389,
   "id": "72dbd21f-09f7-42a2-b626-8c7aa3111bb4",
   "metadata": {},
   "outputs": [
    {
     "data": {
      "image/png": "[encoded data removed]",
      "text/plain": [
       "<Figure size 800x600 with 2 Axes>"
      ]
     },
     "metadata": {},
     "output_type": "display_data"
    }
   ],
   "source": [
    "plt.figure(figsize=(8, 6))\n",
    "sns.heatmap(corr, annot=True, cmap='coolwarm', fmt=\".2f\", linewidths=0.5, square=True)\n",
    "plt.title(\"Correlation Heatmap of COVID-19 Metrics\")\n",
    "\n",
    "plt.tight_layout()\n",
    "plt.show()"
   ]
  },
  {
   "cell_type": "markdown",
   "id": "dddcd313-5d43-4d31-8d3d-6533af388332",
   "metadata": {},
   "source": [
    "**Key Insights**:\n",
    "The heatmap shows a very weak positive correlation between vaccinated and new_cases, and a likely stronger positive correlation between new_cases and new_deaths, indicating that while vaccination alone doesn't directly predict infection rate, rising infections often lead to more deaths"
   ]
  },
  {
   "cell_type": "code",
   "execution_count": null,
   "id": "0523184a-0c21-481e-9217-2771b9f92f96",
   "metadata": {},
   "outputs": [],
   "source": []
  }
 ],
 "metadata": {
  "kernelspec": {
   "display_name": "Python 3 (ipykernel)",
   "language": "python",
   "name": "python3"
  },
  "language_info": {
   "codemirror_mode": {
    "name": "ipython",
    "version": 3
   },
   "file_extension": ".py",
   "mimetype": "text/x-python",
   "name": "python",
   "nbconvert_exporter": "python",
   "pygments_lexer": "ipython3",
   "version": "3.12.2"
  }
 },
 "nbformat": 4,
 "nbformat_minor": 5
}
